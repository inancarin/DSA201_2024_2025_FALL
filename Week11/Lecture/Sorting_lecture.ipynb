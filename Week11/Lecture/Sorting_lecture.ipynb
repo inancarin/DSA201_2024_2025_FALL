{
 "cells": [
  {
   "cell_type": "code",
   "execution_count": 1,
   "metadata": {},
   "outputs": [],
   "source": [
    "import numpy as np\n",
    "import time\n",
    "import matplotlib.pyplot as plt"
   ]
  },
  {
   "cell_type": "code",
   "execution_count": 3,
   "metadata": {},
   "outputs": [
    {
     "name": "stdout",
     "output_type": "stream",
     "text": [
      "10 5\n"
     ]
    }
   ],
   "source": [
    "a = 5\n",
    "b = 10\n",
    "\n",
    "temp = a\n",
    "a = b\n",
    "b = temp\n",
    "print(a, b)"
   ]
  },
  {
   "cell_type": "code",
   "execution_count": 2,
   "metadata": {},
   "outputs": [],
   "source": [
    "def SelectionSort(myList):\n",
    "    for i in range(len(myList)):\n",
    "        minIndex = i\n",
    "        for j in range(i+1, len(myList)):\n",
    "            if myList[j] < myList[minIndex]:\n",
    "                minIndex = j\n",
    "        temp = myList[i]\n",
    "        myList[i] = myList[minIndex]\n",
    "        myList[minIndex] = temp"
   ]
  },
  {
   "cell_type": "code",
   "execution_count": null,
   "metadata": {},
   "outputs": [],
   "source": [
    "# T(n) = (n-1) * c1 + c2 + (n-2) * c1 + c2 + ...\n",
    "#\n",
    "#"
   ]
  },
  {
   "cell_type": "code",
   "execution_count": 9,
   "metadata": {},
   "outputs": [
    {
     "data": {
      "text/plain": [
       "[3, 4, 5, 6]"
      ]
     },
     "execution_count": 9,
     "metadata": {},
     "output_type": "execute_result"
    }
   ],
   "source": [
    "list(range(3, 7, 1))"
   ]
  },
  {
   "cell_type": "code",
   "execution_count": 12,
   "metadata": {},
   "outputs": [
    {
     "data": {
      "text/plain": [
       "[7, 6, 5, 4, 3]"
      ]
     },
     "execution_count": 12,
     "metadata": {},
     "output_type": "execute_result"
    }
   ],
   "source": [
    "list(range(7, 2, -1))"
   ]
  },
  {
   "cell_type": "code",
   "execution_count": 3,
   "metadata": {},
   "outputs": [],
   "source": [
    "def BubbleSort(myList): # O(n^2)\n",
    "    for end in range(len(myList)-1, 0, -1):\n",
    "        for j in range(0, end):\n",
    "            if myList[j] > myList[j+1]:\n",
    "                temp = myList[j]\n",
    "                myList[j] = myList[j+1]\n",
    "                myList[j+1] = temp"
   ]
  },
  {
   "cell_type": "code",
   "execution_count": 4,
   "metadata": {},
   "outputs": [],
   "source": [
    "def ImprovedBubbleSort(myList): # O(n^2)\n",
    "    for end in range(len(myList)-1, 0, -1):\n",
    "        change = False\n",
    "        for j in range(0, end):\n",
    "            if myList[j] > myList[j+1]:\n",
    "                temp = myList[j]\n",
    "                myList[j] = myList[j+1]\n",
    "                myList[j+1] = temp\n",
    "                change = True\n",
    "        if not change:\n",
    "            break"
   ]
  },
  {
   "cell_type": "code",
   "execution_count": 14,
   "metadata": {},
   "outputs": [
    {
     "name": "stdout",
     "output_type": "stream",
     "text": [
      "[21, 72, 103, 107, 122, 271, 436, 615, 701, 861]\n"
     ]
    }
   ],
   "source": [
    "np.random.seed(42)\n",
    "myList = np.random.randint(1, 1000, 10).tolist()\n",
    "\n",
    "BubbleSort(myList)\n",
    "print(myList)"
   ]
  },
  {
   "cell_type": "code",
   "execution_count": 7,
   "metadata": {},
   "outputs": [
    {
     "name": "stdout",
     "output_type": "stream",
     "text": [
      "[21, 72, 103, 107, 122, 271, 436, 615, 701, 861]\n"
     ]
    }
   ],
   "source": [
    "np.random.seed(42)\n",
    "myList = np.random.randint(1, 1000, 10).tolist()\n",
    "\n",
    "SelectionSort(myList)\n",
    "print(myList)"
   ]
  },
  {
   "cell_type": "code",
   "execution_count": 19,
   "metadata": {},
   "outputs": [
    {
     "name": "stdout",
     "output_type": "stream",
     "text": [
      "Selection Sort takes 0.9579861164093018 seconds when n is 10000\n",
      "Bubble Sort takes 2.1987547874450684 seconds when n is 10000\n",
      "ImprovedBubble Sort takes 2.448093891143799 seconds when n is 10000\n",
      "Selection Sort takes 3.5527188777923584 seconds when n is 20000\n",
      "Bubble Sort takes 9.72416067123413 seconds when n is 20000\n",
      "ImprovedBubble Sort takes 9.254916906356812 seconds when n is 20000\n"
     ]
    }
   ],
   "source": [
    "for n in [10000, 20000]:\n",
    "\n",
    "    np.random.seed(42)\n",
    "    myList = np.random.randint(1, 1000, n).tolist()\n",
    "\n",
    "    start = time.time()\n",
    "    SelectionSort(myList)\n",
    "    end = time.time()\n",
    "    diff = end - start\n",
    "    print(\"Selection Sort takes\", diff, \"seconds when n is\", n)\n",
    "\n",
    "    np.random.seed(42)\n",
    "    myList = np.random.randint(1, 1000, n).tolist()\n",
    "\n",
    "    start = time.time()\n",
    "    BubbleSort(myList)\n",
    "    end = time.time()\n",
    "    diff = end - start\n",
    "    print(\"Bubble Sort takes\", diff, \"seconds when n is\", n)\n",
    "\n",
    "    np.random.seed(42)\n",
    "    myList = np.random.randint(1, 1000, n).tolist()\n",
    "    \n",
    "    start = time.time()\n",
    "    ImprovedBubbleSort(myList)\n",
    "    end = time.time()\n",
    "    diff = end - start\n",
    "    print(\"ImprovedBubble Sort takes\", diff, \"seconds when n is\", n)"
   ]
  },
  {
   "cell_type": "code",
   "execution_count": 5,
   "metadata": {},
   "outputs": [],
   "source": [
    "def mergeTwoSortedList(list1, list2):\n",
    "    final = [0] * (len(list1) + len(list2))\n",
    "    i, idx1, idx2 = 0, 0, 0\n",
    "    while idx1 < len(list1) and idx2 < len(list2):\n",
    "        if list1[idx1] < list2[idx2]:\n",
    "            final[i] = list1[idx1]\n",
    "            idx1 += 1\n",
    "        else:\n",
    "            final[i] = list2[idx2]\n",
    "            idx2 += 1\n",
    "        i += 1\n",
    "    \n",
    "    while idx1 < len(list1):\n",
    "        final[i] = list1[idx1]\n",
    "        idx1 += 1\n",
    "        i += 1\n",
    "    \n",
    "    while idx2 < len(list2):\n",
    "        final[i] = list2[idx2]\n",
    "        idx2 += 1\n",
    "        i += 1\n",
    "    \n",
    "    return final"
   ]
  },
  {
   "cell_type": "code",
   "execution_count": 10,
   "metadata": {},
   "outputs": [
    {
     "name": "stdout",
     "output_type": "stream",
     "text": [
      "[2, 3, 4, 5, 6, 8, 9, 10, 12, 14, 16]\n"
     ]
    }
   ],
   "source": [
    "list1  = [2,4,5,8]\n",
    "list2 = [3,6,9,10,12,14,16]\n",
    "res = mergeTwoSortedList(list1, list2)\n",
    "print(res)"
   ]
  },
  {
   "cell_type": "code",
   "execution_count": 11,
   "metadata": {},
   "outputs": [],
   "source": [
    "def mergeSort(myList):\n",
    "    if len(myList) == 1:\n",
    "        return myList\n",
    "    left = myList[:len(myList)//2] # unsorted left and right values\n",
    "    right = myList[len(myList)//2:]\n",
    "\n",
    "    left = mergeSort(left) \n",
    "    right = mergeSort(right)\n",
    "    # now left and right will be sorted\n",
    "\n",
    "    res = mergeTwoSortedList(left, right)\n",
    "    return res"
   ]
  },
  {
   "cell_type": "code",
   "execution_count": 12,
   "metadata": {},
   "outputs": [
    {
     "name": "stdout",
     "output_type": "stream",
     "text": [
      "[4, 5, 10, 12, 15, 95, 100]\n"
     ]
    }
   ],
   "source": [
    "myList = [10, 4, 5, 100, 15, 12, 95]\n",
    "myList = mergeSort(myList)\n",
    "print(myList)"
   ]
  },
  {
   "cell_type": "code",
   "execution_count": 13,
   "metadata": {},
   "outputs": [
    {
     "name": "stdout",
     "output_type": "stream",
     "text": [
      "Selection Sort takes 0.9507589340209961 seconds when n is 10000\n",
      "Bubble Sort takes 2.237128973007202 seconds when n is 10000\n",
      "ImprovedBubble Sort takes 2.376934051513672 seconds when n is 10000\n",
      "Merger Sort takes 0.010712862014770508 seconds when n is 10000\n",
      "Selection Sort takes 3.5836730003356934 seconds when n is 20000\n",
      "Bubble Sort takes 8.90370774269104 seconds when n is 20000\n",
      "ImprovedBubble Sort takes 9.124506950378418 seconds when n is 20000\n",
      "Merger Sort takes 0.023502111434936523 seconds when n is 20000\n"
     ]
    }
   ],
   "source": [
    "for n in [10000, 20000]:\n",
    "\n",
    "    np.random.seed(42)\n",
    "    myList = np.random.randint(1, 1000, n).tolist()\n",
    "\n",
    "    start = time.time()\n",
    "    SelectionSort(myList)\n",
    "    end = time.time()\n",
    "    diff = end - start\n",
    "    print(\"Selection Sort takes\", diff, \"seconds when n is\", n)\n",
    "\n",
    "    np.random.seed(42)\n",
    "    myList = np.random.randint(1, 1000, n).tolist()\n",
    "\n",
    "    start = time.time()\n",
    "    BubbleSort(myList)\n",
    "    end = time.time()\n",
    "    diff = end - start\n",
    "    print(\"Bubble Sort takes\", diff, \"seconds when n is\", n)\n",
    "\n",
    "    np.random.seed(42)\n",
    "    myList = np.random.randint(1, 1000, n).tolist()\n",
    "    \n",
    "    start = time.time()\n",
    "    ImprovedBubbleSort(myList)\n",
    "    end = time.time()\n",
    "    diff = end - start\n",
    "    print(\"ImprovedBubble Sort takes\", diff, \"seconds when n is\", n)\n",
    "\n",
    "    np.random.seed(42)\n",
    "    myList = np.random.randint(1, 1000, n).tolist()\n",
    "    \n",
    "    start = time.time()\n",
    "    myList = mergeSort(myList)\n",
    "    end = time.time()\n",
    "    diff = end - start\n",
    "    print(\"Merger Sort takes\", diff, \"seconds when n is\", n)"
   ]
  },
  {
   "cell_type": "code",
   "execution_count": 14,
   "metadata": {},
   "outputs": [
    {
     "name": "stdout",
     "output_type": "stream",
     "text": [
      "Merge Sort takes 1.603856086730957 seconds when n is 1000000\n",
      "Merge Sort takes 3.6930489540100098 seconds when n is 2000000\n"
     ]
    }
   ],
   "source": [
    "for n in [1000000, 2000000]:\n",
    "    np.random.seed(42)\n",
    "    myList = np.random.randint(1, 1000, n).tolist()\n",
    "    \n",
    "    start = time.time()\n",
    "    myList = mergeSort(myList)\n",
    "    end = time.time()\n",
    "    diff = end - start\n",
    "    print(\"Merge Sort takes\", diff, \"seconds when n is\", n)"
   ]
  },
  {
   "cell_type": "code",
   "execution_count": 19,
   "metadata": {},
   "outputs": [
    {
     "name": "stdout",
     "output_type": "stream",
     "text": [
      "[3, 5, 10, 12, 20]\n",
      "[10, 5, 20, 12, 3]\n"
     ]
    }
   ],
   "source": [
    "myList = [10, 5, 20, 12, 3]\n",
    "res = sorted(myList) # PowerSort() -> O(n logn)\n",
    "print(res)\n",
    "print(myList)"
   ]
  },
  {
   "cell_type": "code",
   "execution_count": 20,
   "metadata": {},
   "outputs": [
    {
     "name": "stdout",
     "output_type": "stream",
     "text": [
      "[3, 5, 10, 12, 20]\n"
     ]
    }
   ],
   "source": [
    "myList = [10, 5, 20, 12, 3]\n",
    "myList.sort()\n",
    "print(myList)"
   ]
  },
  {
   "cell_type": "code",
   "execution_count": 17,
   "metadata": {},
   "outputs": [],
   "source": [
    "def QuickSort(i, j, arr):\n",
    "    if i < j:\n",
    "        pivot_idx = np.random.randint(i, j+1)\n",
    "       \n",
    "        pivot = arr[pivot_idx]\n",
    "        temp = pivot\n",
    "        arr[pivot_idx] = arr[j]\n",
    "        arr[j] = pivot\n",
    "        left, right = i, j-1\n",
    "        while left <= right:\n",
    "            while arr[left] < pivot and left <= right:\n",
    "                left += 1\n",
    "            while arr[right] >= pivot and left <= right:\n",
    "                right -= 1\n",
    "            if left <= right:\n",
    "                temp = arr[left]\n",
    "                arr[left] = arr[right]\n",
    "                arr[right] = temp\n",
    "        temp = arr[left]\n",
    "        arr[left] = arr[j]\n",
    "        arr[j] = temp\n",
    "        QuickSort(i, left-1, arr)\n",
    "        QuickSort(left+1, j, arr)"
   ]
  },
  {
   "cell_type": "code",
   "execution_count": 18,
   "metadata": {},
   "outputs": [
    {
     "data": {
      "image/png": "[encoded data removed]",
      "text/plain": [
       "<Figure size 640x480 with 1 Axes>"
      ]
     },
     "metadata": {},
     "output_type": "display_data"
    }
   ],
   "source": [
    "x_vals = []\n",
    "y_vals_merge = []\n",
    "y_vals_quick = []\n",
    "y_vals_sorted = []\n",
    "\n",
    "n = 2\n",
    "for i in range(22):\n",
    "    x_vals.append(n)\n",
    "\n",
    "    np.random.seed(42)\n",
    "    arr = np.random.randint(0, 1000000, n)\n",
    "\n",
    "    start = time.time()\n",
    "    arr = mergeSort(arr)\n",
    "    end = time.time()\n",
    "    y_vals_merge.append(end-start)\n",
    "\n",
    "    np.random.seed(42)\n",
    "    arr = np.random.randint(0, 1000000, n)\n",
    "\n",
    "    start = time.time()\n",
    "    QuickSort(0, len(arr)-1, arr)\n",
    "    end = time.time()\n",
    "    y_vals_quick.append(end-start)\n",
    "\n",
    "    np.random.seed(42)\n",
    "    arr = np.random.randint(0, 1000000, n)\n",
    "\n",
    "    start = time.time()\n",
    "    arr = sorted(arr)\n",
    "    end = time.time()\n",
    "    y_vals_sorted.append(end-start)\n",
    "\n",
    "    n *= 2\n",
    "\n",
    "plt.plot(x_vals, y_vals_merge, label=\"merge sort\")\n",
    "plt.plot(x_vals, y_vals_quick, label=\"quick sort\")\n",
    "plt.plot(x_vals, y_vals_sorted, label=\"sorted\")\n",
    "plt.xlabel(\"n\")\n",
    "plt.ylabel(\"Time in seconds\")\n",
    "plt.legend()\n",
    "plt.show()"
   ]
  },
  {
   "cell_type": "markdown",
   "metadata": {},
   "source": [
    "# Ex1:"
   ]
  },
  {
   "cell_type": "code",
   "execution_count": 22,
   "metadata": {},
   "outputs": [],
   "source": [
    "def naiveSolution(myList): # O(n^2)\n",
    "    # assume there are at least two elements\n",
    "    minDiff = abs(myList[0] - myList[1])\n",
    "    num1, num2 = myList[0], myList[1]\n",
    "\n",
    "    for i in range(len(myList)):\n",
    "        for j in range(i+1, len(myList)):\n",
    "            curDiff = abs(myList[i] - myList[j])\n",
    "            if curDiff < minDiff:\n",
    "                minDiff = curDiff\n",
    "                num1, num2 = myList[i], myList[j]\n",
    "    \n",
    "    print(num1, num2)"
   ]
  },
  {
   "cell_type": "code",
   "execution_count": 24,
   "metadata": {},
   "outputs": [],
   "source": [
    "def betterSolution(myList): # O(nlogn)\n",
    "    myList = sorted(myList) # O(nlogn)\n",
    "\n",
    "    minDiff = abs(myList[0] - myList[1])\n",
    "    num1, num2 = myList[0], myList[1]\n",
    "    for i in range(1, len(myList)-1):\n",
    "        curDiff = abs(myList[i] - myList[i+1])\n",
    "        if curDiff < minDiff:\n",
    "                minDiff = curDiff\n",
    "                num1, num2 = myList[i], myList[i+1] \n",
    "    \n",
    "    print(num1, num2)"
   ]
  },
  {
   "cell_type": "code",
   "execution_count": 26,
   "metadata": {},
   "outputs": [
    {
     "name": "stdout",
     "output_type": "stream",
     "text": [
      "4 5\n"
     ]
    }
   ],
   "source": [
    "myList = [10, 2, 5, 7, 4]\n",
    "#naiveSolution(myList)\n",
    "betterSolution(myList)"
   ]
  },
  {
   "cell_type": "markdown",
   "metadata": {},
   "source": [
    "# Ex2:"
   ]
  },
  {
   "cell_type": "code",
   "execution_count": 27,
   "metadata": {},
   "outputs": [],
   "source": [
    "def naiveSolutionFindMissing(myList): # O(n^2)\n",
    "    length = len(myList)\n",
    "\n",
    "    for i in range(1, length + 2): #O(n)\n",
    "        if i not in myList: #O(n)\n",
    "            print(i)\n",
    "            break"
   ]
  },
  {
   "cell_type": "code",
   "execution_count": 29,
   "metadata": {},
   "outputs": [],
   "source": [
    "def findMissingNumberSorting(myList): # O(n logn) + O(n) -> O(n logn)\n",
    "    myList = sorted(myList) # O(n logn)\n",
    "    for i in range(1, len(myList)):  # O(n)\n",
    "        if myList[i] != myList[i-1] + 1:\n",
    "            print(myList[i-1]+1)"
   ]
  },
  {
   "cell_type": "code",
   "execution_count": null,
   "metadata": {},
   "outputs": [],
   "source": [
    "def findMissingSet(myList): # O(n)\n",
    "    mySet = set()\n",
    "    for elem in myList: # O(n)\n",
    "        mySet.add(elem)\n",
    "    \n",
    "    length = len(myList)\n",
    "    for i in range(1, length + 2): # O(n)\n",
    "        if i not in mySet:\n",
    "            print(i)"
   ]
  },
  {
   "cell_type": "code",
   "execution_count": 33,
   "metadata": {},
   "outputs": [],
   "source": [
    "def findMissingBest(myList): # O(n)\n",
    "    n = len(myList) + 1 # O(1)\n",
    "    expectedTotal = n * (n+1) / 2 # O(1)\n",
    "    currentSum = sum(myList) # O(n)\n",
    "    missing = expectedTotal - currentSum # O(1)\n",
    "    return int(missing)"
   ]
  },
  {
   "cell_type": "code",
   "execution_count": 34,
   "metadata": {},
   "outputs": [
    {
     "data": {
      "text/plain": [
       "4"
      ]
     },
     "execution_count": 34,
     "metadata": {},
     "output_type": "execute_result"
    }
   ],
   "source": [
    "a = [3,1,5,2]\n",
    "#naiveSolutionFindMissing(a)\n",
    "#findMissingNumberSorting(a)\n",
    "findMissingBest(a)"
   ]
  },
  {
   "cell_type": "markdown",
   "metadata": {},
   "source": [
    "# Ex3:"
   ]
  },
  {
   "cell_type": "code",
   "execution_count": 35,
   "metadata": {},
   "outputs": [],
   "source": [
    "def naiveSolutionFindClosestSum(myList, target): # O(n^2)\n",
    "    num1, num2 = myList[0], myList[1]\n",
    "    cur_sum = myList[0] + myList[1]\n",
    "    bestDiff = abs(cur_sum - target)\n",
    "    for i in range(len(myList)):\n",
    "        for j in range(i+1, len(myList)):\n",
    "            cur_sum = myList[i] + myList[j]\n",
    "            curDiff = abs(cur_sum - target)\n",
    "            if curDiff < bestDiff:\n",
    "                bestDiff = curDiff\n",
    "                num1, num2 = myList[i], myList[j]\n",
    "    \n",
    "    print(num1, num2)"
   ]
  },
  {
   "cell_type": "code",
   "execution_count": 39,
   "metadata": {},
   "outputs": [],
   "source": [
    "def naiveSolutionFindClosestTwoPointer(myList, target): # O(n logn)\n",
    "    myList = sorted(myList)\n",
    "    num1, num2 = myList[0], myList[1]\n",
    "    cur_sum = myList[0] + myList[1]\n",
    "    bestDiff = abs(cur_sum - target)\n",
    "\n",
    "    left, right = 0, len(myList)-1\n",
    "    while left < right:\n",
    "        cur_sum = myList[left] + myList[right]\n",
    "        curDiff = abs(target - cur_sum)\n",
    "        if curDiff == 0:\n",
    "            print(myList[left], myList[right])\n",
    "            return\n",
    "        if curDiff < bestDiff:\n",
    "            bestDiff = curDiff\n",
    "            num1, num2 = myList[left], myList[right]\n",
    "        \n",
    "        if cur_sum > target:\n",
    "            right -= 1\n",
    "        else:\n",
    "            left += 1\n",
    "\n",
    "    print(num1, num2)\n"
   ]
  },
  {
   "cell_type": "code",
   "execution_count": 40,
   "metadata": {},
   "outputs": [
    {
     "name": "stdout",
     "output_type": "stream",
     "text": [
      "22 30\n",
      "22 30\n"
     ]
    }
   ],
   "source": [
    "naiveSolutionFindClosestSum([22, 10, 28, 29, 30, 40], 54)\n",
    "naiveSolutionFindClosestTwoPointer([22, 10, 28, 29, 30, 40], 54)"
   ]
  },
  {
   "cell_type": "code",
   "execution_count": null,
   "metadata": {},
   "outputs": [],
   "source": []
  }
 ],
 "metadata": {
  "kernelspec": {
   "display_name": "DSA201",
   "language": "python",
   "name": "python3"
  },
  "language_info": {
   "codemirror_mode": {
    "name": "ipython",
    "version": 3
   },
   "file_extension": ".py",
   "mimetype": "text/x-python",
   "name": "python",
   "nbconvert_exporter": "python",
   "pygments_lexer": "ipython3",
   "version": "3.12.4"
  }
 },
 "nbformat": 4,
 "nbformat_minor": 2
}
