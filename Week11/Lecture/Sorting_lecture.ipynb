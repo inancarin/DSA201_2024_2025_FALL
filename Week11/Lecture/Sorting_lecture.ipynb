{
 "cells": [
  {
   "cell_type": "code",
   "execution_count": 1,
   "metadata": {},
   "outputs": [],
   "source": [
    "import numpy as np\n",
    "import time\n",
    "import matplotlib.pyplot as plt"
   ]
  },
  {
   "cell_type": "code",
   "execution_count": 3,
   "metadata": {},
   "outputs": [
    {
     "name": "stdout",
     "output_type": "stream",
     "text": [
      "10 5\n"
     ]
    }
   ],
   "source": [
    "a = 5\n",
    "b = 10\n",
    "\n",
    "temp = a\n",
    "a = b\n",
    "b = temp\n",
    "print(a, b)"
   ]
  },
  {
   "cell_type": "code",
   "execution_count": 4,
   "metadata": {},
   "outputs": [],
   "source": [
    "def SelectionSort(myList):\n",
    "    for i in range(len(myList)):\n",
    "        minIndex = i\n",
    "        for j in range(i+1, len(myList)):\n",
    "            if myList[j] < myList[minIndex]:\n",
    "                minIndex = j\n",
    "        temp = myList[i]\n",
    "        myList[i] = myList[minIndex]\n",
    "        myList[minIndex] = temp"
   ]
  },
  {
   "cell_type": "code",
   "execution_count": null,
   "metadata": {},
   "outputs": [],
   "source": [
    "# T(n) = (n-1) * c1 + c2 + (n-2) * c1 + c2 + ...\n",
    "#\n",
    "#"
   ]
  },
  {
   "cell_type": "code",
   "execution_count": 9,
   "metadata": {},
   "outputs": [
    {
     "data": {
      "text/plain": [
       "[3, 4, 5, 6]"
      ]
     },
     "execution_count": 9,
     "metadata": {},
     "output_type": "execute_result"
    }
   ],
   "source": [
    "list(range(3, 7, 1))"
   ]
  },
  {
   "cell_type": "code",
   "execution_count": 12,
   "metadata": {},
   "outputs": [
    {
     "data": {
      "text/plain": [
       "[7, 6, 5, 4, 3]"
      ]
     },
     "execution_count": 12,
     "metadata": {},
     "output_type": "execute_result"
    }
   ],
   "source": [
    "list(range(7, 2, -1))"
   ]
  },
  {
   "cell_type": "code",
   "execution_count": 13,
   "metadata": {},
   "outputs": [],
   "source": [
    "def BubbleSort(myList): # O(n^2)\n",
    "    for end in range(len(myList)-1, 0, -1):\n",
    "        for j in range(0, end):\n",
    "            if myList[j] > myList[j+1]:\n",
    "                temp = myList[j]\n",
    "                myList[j] = myList[j+1]\n",
    "                myList[j+1] = temp"
   ]
  },
  {
   "cell_type": "code",
   "execution_count": 17,
   "metadata": {},
   "outputs": [],
   "source": [
    "def ImprovedBubbleSort(myList): # O(n^2)\n",
    "    for end in range(len(myList)-1, 0, -1):\n",
    "        change = False\n",
    "        for j in range(0, end):\n",
    "            if myList[j] > myList[j+1]:\n",
    "                temp = myList[j]\n",
    "                myList[j] = myList[j+1]\n",
    "                myList[j+1] = temp\n",
    "                change = True\n",
    "        if not change:\n",
    "            break"
   ]
  },
  {
   "cell_type": "code",
   "execution_count": 14,
   "metadata": {},
   "outputs": [
    {
     "name": "stdout",
     "output_type": "stream",
     "text": [
      "[21, 72, 103, 107, 122, 271, 436, 615, 701, 861]\n"
     ]
    }
   ],
   "source": [
    "np.random.seed(42)\n",
    "myList = np.random.randint(1, 1000, 10).tolist()\n",
    "\n",
    "BubbleSort(myList)\n",
    "print(myList)"
   ]
  },
  {
   "cell_type": "code",
   "execution_count": 7,
   "metadata": {},
   "outputs": [
    {
     "name": "stdout",
     "output_type": "stream",
     "text": [
      "[21, 72, 103, 107, 122, 271, 436, 615, 701, 861]\n"
     ]
    }
   ],
   "source": [
    "np.random.seed(42)\n",
    "myList = np.random.randint(1, 1000, 10).tolist()\n",
    "\n",
    "SelectionSort(myList)\n",
    "print(myList)"
   ]
  },
  {
   "cell_type": "code",
   "execution_count": 19,
   "metadata": {},
   "outputs": [
    {
     "name": "stdout",
     "output_type": "stream",
     "text": [
      "Selection Sort takes 0.9579861164093018 seconds when n is 10000\n",
      "Bubble Sort takes 2.1987547874450684 seconds when n is 10000\n",
      "ImprovedBubble Sort takes 2.448093891143799 seconds when n is 10000\n",
      "Selection Sort takes 3.5527188777923584 seconds when n is 20000\n",
      "Bubble Sort takes 9.72416067123413 seconds when n is 20000\n",
      "ImprovedBubble Sort takes 9.254916906356812 seconds when n is 20000\n"
     ]
    }
   ],
   "source": [
    "for n in [10000, 20000]:\n",
    "\n",
    "    np.random.seed(42)\n",
    "    myList = np.random.randint(1, 1000, n).tolist()\n",
    "\n",
    "    start = time.time()\n",
    "    SelectionSort(myList)\n",
    "    end = time.time()\n",
    "    diff = end - start\n",
    "    print(\"Selection Sort takes\", diff, \"seconds when n is\", n)\n",
    "\n",
    "    np.random.seed(42)\n",
    "    myList = np.random.randint(1, 1000, n).tolist()\n",
    "\n",
    "    start = time.time()\n",
    "    BubbleSort(myList)\n",
    "    end = time.time()\n",
    "    diff = end - start\n",
    "    print(\"Bubble Sort takes\", diff, \"seconds when n is\", n)\n",
    "\n",
    "    np.random.seed(42)\n",
    "    myList = np.random.randint(1, 1000, n).tolist()\n",
    "    \n",
    "    start = time.time()\n",
    "    ImprovedBubbleSort(myList)\n",
    "    end = time.time()\n",
    "    diff = end - start\n",
    "    print(\"ImprovedBubble Sort takes\", diff, \"seconds when n is\", n)"
   ]
  },
  {
   "cell_type": "code",
   "execution_count": null,
   "metadata": {},
   "outputs": [],
   "source": []
  }
 ],
 "metadata": {
  "kernelspec": {
   "display_name": "DSA201",
   "language": "python",
   "name": "python3"
  },
  "language_info": {
   "codemirror_mode": {
    "name": "ipython",
    "version": 3
   },
   "file_extension": ".py",
   "mimetype": "text/x-python",
   "name": "python",
   "nbconvert_exporter": "python",
   "pygments_lexer": "ipython3",
   "version": "3.12.4"
  }
 },
 "nbformat": 4,
 "nbformat_minor": 2
}
