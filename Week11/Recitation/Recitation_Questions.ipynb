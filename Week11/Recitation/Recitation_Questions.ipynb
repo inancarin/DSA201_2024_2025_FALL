{
 "cells": [
  {
   "cell_type": "code",
   "execution_count": 1,
   "metadata": {},
   "outputs": [],
   "source": [
    "import time\n",
    "import numpy as np\n",
    "import matplotlib.pyplot as plt"
   ]
  },
  {
   "cell_type": "markdown",
   "metadata": {},
   "source": [
    "# Q1  Find Duplicates in a List\n",
    "\n",
    "Given an array of integers where each integer is between 1 and n (inclusive) and the array contains n+1 elements, find the duplicate number. Assume that there is only one duplicate number.\n",
    "\n",
    "If the list is [1, 3, 4, 2, 2], then you should be able to print 2."
   ]
  },
  {
   "cell_type": "code",
   "execution_count": null,
   "metadata": {},
   "outputs": [],
   "source": []
  },
  {
   "cell_type": "markdown",
   "metadata": {},
   "source": [
    "# Q2 Merge Intervals\n",
    "\n",
    "Given a list of time intervals where arr[i] = [start<sub>i</sub>, end<sub>i</sub>], the task is to merge all the overlapping intervals into one and output the result which should have only mutually exclusive intervals.\n",
    "\n",
    "- If the list is [[1, 3], [6, 8], [2, 4], [9, 10]], then the output should be [[1, 4], [6, 8], [9, 10]]\n",
    "\n",
    "- If the list is [[7, 8], [1, 5], [2, 4], [4, 6]], then the output should be [[1, 6], [7, 8]]"
   ]
  },
  {
   "cell_type": "code",
   "execution_count": null,
   "metadata": {},
   "outputs": [],
   "source": [
    "# First start with naive approach -> O(n^2)\n",
    "\n",
    "#myList = [[1, 3], [6, 8], [2, 4],  [9, 10]]\n",
    "myList = [[7, 8], [1, 5], [2, 4], [4, 6]]\n",
    "\n",
    "\n"
   ]
  },
  {
   "cell_type": "markdown",
   "metadata": {},
   "source": [
    "More Efficient Solution -> The intuition is to first sort the intervals based on their starting points. This allows us to easily identify overlapping intervals by comparing each interval with the last merged interval. Now, iterate over each interval and if the current interval overlaps with the last merged interval, then merge them both. Otherwise, append the merged interval to the result.\n",
    "\n",
    "But beforehand, we'd like to give you a trick about how to sort by the first index of each inner list."
   ]
  },
  {
   "cell_type": "code",
   "execution_count": 11,
   "metadata": {},
   "outputs": [
    {
     "name": "stdout",
     "output_type": "stream",
     "text": [
      "[[1, 5], [2, 4], [4, 6], [7, 8]]\n"
     ]
    }
   ],
   "source": [
    "myList = [[7, 8], [1, 5], [2, 4], [4, 6]]\n",
    "myList.sort(key=lambda x: x[0]) # this will sort based on the 0th indices\n",
    "#myList = sorted(myList, key=lambda x: x[0])\n",
    "print(myList)"
   ]
  },
  {
   "cell_type": "code",
   "execution_count": 12,
   "metadata": {},
   "outputs": [
    {
     "name": "stdout",
     "output_type": "stream",
     "text": [
      "[[2, 4], [1, 5], [4, 6], [7, 8]]\n"
     ]
    }
   ],
   "source": [
    "myList = [[7, 8], [1, 5], [2, 4], [4, 6]]\n",
    "myList.sort(key=lambda x: x[1]) # this will sort based on the 1st indices\n",
    "#myList = sorted(myList, key=lambda x: x[1])\n",
    "print(myList)"
   ]
  },
  {
   "cell_type": "code",
   "execution_count": 38,
   "metadata": {},
   "outputs": [
    {
     "name": "stdout",
     "output_type": "stream",
     "text": [
      "[[1, 5], [4, 5], [4, 6], [7, 8]]\n"
     ]
    }
   ],
   "source": [
    "myList = [[7, 8], [1, 5], [4, 6], [4, 5]]\n",
    "myList.sort(key=lambda x: (x[0], x[1])) # this will sort based on the 0th indices, if they are equal, then sort by 1st indices\n",
    "print(myList)"
   ]
  },
  {
   "cell_type": "code",
   "execution_count": null,
   "metadata": {},
   "outputs": [],
   "source": [
    "# now solve the question -> O(n logn)\n",
    "\n",
    "myList = [[1, 3], [6, 8], [2, 4],  [9, 10]]\n",
    "#myList = [[7, 8], [1, 5], [2, 4], [4, 6]]\n",
    "myList.sort(key=lambda x: x[0]) # this will sort based on the 0th indices\n",
    "\n",
    "\n",
    "\n",
    "\n",
    "\n"
   ]
  },
  {
   "cell_type": "markdown",
   "metadata": {},
   "source": [
    "# Q3 Meeting Rooms\n",
    "\n",
    "Given an array of meeting time intervals consisting of start and end times, determine if a person can attend all meetings.\n",
    "\n",
    "For instance, if meeting times are as follows: [[9,11], [15,16], [11,12]] then the a person can attend all meetings.\n",
    "\n",
    "On the other hand, if meeting times are as follows: [[9,11], [15,16], [10,12]] then the a person cannot attend all meetings."
   ]
  },
  {
   "cell_type": "code",
   "execution_count": null,
   "metadata": {},
   "outputs": [],
   "source": [
    "#myList = [[9,11], [15,16], [11,12]]\n",
    "myList = [[9,11], [15,16], [10,12]]\n",
    "\n",
    "\n",
    "\n",
    "\n"
   ]
  },
  {
   "cell_type": "markdown",
   "metadata": {},
   "source": [
    "# Q4 3Sum Closest\n",
    "\n",
    "Given an integer list <b><i>nums</i></b> and a target value <b><i>target</i></b>, find the sum of three integers in <b><i>nums</i></b> such that the sum is closest to <b><i>target</i></b>.\n",
    "\n",
    "<b>Input:</b>\n",
    "\n",
    "    - nums: A list of integers (e.g., [-1, 2, 1, -4])\n",
    "\n",
    "    - target: An integer (e.g., 1)\n",
    "\n",
    "<b>Output:</b>\n",
    "\n",
    "    - An integer representing the sum of three numbers closest to target (e.g., (-1,1,2) -> 2)."
   ]
  },
  {
   "cell_type": "markdown",
   "metadata": {},
   "source": [
    "<b>Hint: Use Two-Pointer Technique like we used in the lecture</b>\n",
    "\n",
    "1. Sort the array.\n",
    "\n",
    "2. Iterate through the array, using the current number as the first number of the triplet.\n",
    "\n",
    "3. For the remaining two numbers, use the two-pointer technique:\n",
    "\n",
    "    - One pointer starts just after the current number (left), and the other starts at the end (right).\n",
    "\n",
    "    - Calculate the sum of the triplet and update the closest sum if needed.\n",
    "\n",
    "    - Adjust the pointers:\n",
    "\n",
    "        - Move the left pointer if the sum is less than the target.\n",
    "\n",
    "        - Move the right pointer if the sum is greater than the target.\n",
    "\n",
    "4. Continue until all possible triplets are checked.\n",
    "\n"
   ]
  },
  {
   "cell_type": "code",
   "execution_count": null,
   "metadata": {},
   "outputs": [],
   "source": []
  },
  {
   "cell_type": "markdown",
   "metadata": {},
   "source": [
    "# Q5 Sorting Student Records\n",
    "\n",
    "You are given a class definition for a Student object and a file named students.txt containing student records. Each line in the file represents a student; and contains name, age, id information respectively (each separated by space).\n",
    "\n",
    "\n",
    "Write a Python program to:\n",
    "\n",
    "- Read the student data from the file students.txt.\n",
    "- Create a list of Student objects using the data.\n",
    "- Sort the list of students first by age (ascending), if the age is equal then by id (ascending).\n",
    "- Print the sorted list of students."
   ]
  },
  {
   "cell_type": "code",
   "execution_count": 39,
   "metadata": {},
   "outputs": [],
   "source": [
    "class Student:\n",
    "    def __init__(self, name, age, id):\n",
    "        self.name = name\n",
    "        self.age = age\n",
    "        self.id = id\n",
    "\n",
    "    def __repr__(self):\n",
    "        return \"(\" + self.name + \", \" + str(self.age) + \", \" + str(self.id) + \")\""
   ]
  },
  {
   "cell_type": "code",
   "execution_count": 41,
   "metadata": {},
   "outputs": [
    {
     "name": "stdout",
     "output_type": "stream",
     "text": [
      "(Alice, 18, 2)\n",
      "(John, 18, 3)\n",
      "(Rose, 20, 5)\n",
      "(Jack, 22, 1)\n",
      "(Bob, 22, 4)\n"
     ]
    }
   ],
   "source": []
  },
  {
   "cell_type": "markdown",
   "metadata": {},
   "source": [
    "Now, instead of using built-in sort method of Python, we will modify the merge sort algorithm to use it in our solution"
   ]
  },
  {
   "cell_type": "code",
   "execution_count": null,
   "metadata": {},
   "outputs": [],
   "source": [
    "# merge sort algorithm from the lecture\n",
    "\n",
    "def mergeTwoLists(list1, list2):\n",
    "    arr = [0] * (len(list1) + len(list2))\n",
    "    idx1, idx2 = 0, 0\n",
    "    for i in range(len(arr)):\n",
    "        if list1[idx1] < list2[idx2]:\n",
    "            arr[i] = list1[idx1]\n",
    "            idx1 += 1\n",
    "            if idx1 == len(list1):\n",
    "                i += 1\n",
    "                for j in range(idx2, len(list2)):\n",
    "                    arr[i] = list2[j]\n",
    "                    i += 1\n",
    "                break\n",
    "        elif list1[idx1] >= list2[idx2]:\n",
    "            arr[i] = list2[idx2]\n",
    "            idx2 += 1\n",
    "            if idx2 == len(list2):\n",
    "                i += 1\n",
    "                for j in range(idx1, len(list1)):\n",
    "                    arr[i] = list1[j]\n",
    "                    i += 1\n",
    "                break\n",
    "    return arr\n",
    "\n",
    "def mergeSort(arr):\n",
    "    if len(arr) == 1:\n",
    "        return arr\n",
    "    first = arr[:len(arr)//2]\n",
    "    second = arr[len(arr)//2:]\n",
    "   \n",
    "    first = mergeSort(first)\n",
    "    second = mergeSort(second)\n",
    "    res = mergeTwoLists(first, second)\n",
    "    return res"
   ]
  },
  {
   "cell_type": "code",
   "execution_count": 43,
   "metadata": {},
   "outputs": [
    {
     "name": "stdout",
     "output_type": "stream",
     "text": [
      "(Alice, 18, 2)\n",
      "(John, 18, 3)\n",
      "(Rose, 20, 5)\n",
      "(Jack, 22, 1)\n",
      "(Bob, 22, 4)\n"
     ]
    }
   ],
   "source": []
  },
  {
   "cell_type": "code",
   "execution_count": null,
   "metadata": {},
   "outputs": [],
   "source": []
  }
 ],
 "metadata": {
  "kernelspec": {
   "display_name": "DSA201",
   "language": "python",
   "name": "python3"
  },
  "language_info": {
   "codemirror_mode": {
    "name": "ipython",
    "version": 3
   },
   "file_extension": ".py",
   "mimetype": "text/x-python",
   "name": "python",
   "nbconvert_exporter": "python",
   "pygments_lexer": "ipython3",
   "version": "3.12.7"
  }
 },
 "nbformat": 4,
 "nbformat_minor": 2
}
