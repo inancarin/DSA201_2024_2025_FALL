{
  "cells": [
    {
      "cell_type": "code",
      "execution_count": 1,
      "metadata": {
        "id": "8KjeIz3rjDEd"
      },
      "outputs": [],
      "source": [
        "import pandas as pd\n",
        "from matplotlib import pyplot as plt"
      ]
    },
    {
      "cell_type": "markdown",
      "metadata": {
        "id": "MRibUmX0jDEg"
      },
      "source": [
        "We're going to use a new dataset here, to demonstrate how to deal with larger datasets. This is a subset of the of 311 service requests from [NYC Open Data](https://nycopendata.socrata.com/Social-Services/311-Service-Requests-from-2010-to-Present/erm2-nwe9).\n",
        "\n",
        "This dataset is huge (about 55 MB) and migth take so long to upload it to the server. Instead, we will directly download it from the url link as below."
      ]
    },
    {
      "cell_type": "code",
      "execution_count": 2,
      "metadata": {
        "colab": {
          "base_uri": "https://localhost:8080/"
        },
        "id": "KY7eNU6PjDEh",
        "outputId": "91bc862f-967e-47e2-8fcf-f489a741cdfa"
      },
      "outputs": [
        {
          "name": "stderr",
          "output_type": "stream",
          "text": [
            "/var/folders/fn/2l89qd8n053f84k8b5q1wknm0000gn/T/ipykernel_69379/2818304605.py:2: DtypeWarning: Columns (8) have mixed types. Specify dtype option on import or set low_memory=False.\n",
            "  complaints = pd.read_csv(url)\n"
          ]
        }
      ],
      "source": [
        "url = \"https://github.com/jvns/pandas-cookbook/raw/v0.2/data/311-service-requests.csv\"\n",
        "complaints = pd.read_csv(url)"
      ]
    },
    {
      "cell_type": "markdown",
      "metadata": {
        "id": "zqMrGwTXjDEm"
      },
      "source": [
        "Depending on your pandas version, you might see an error like \"DtypeWarning: Columns (8) have mixed types\". This means that it's encountered a problem reading in our data. In this case it almost certainly means that it has columns where some of the entries are strings and some are integers.\n",
        "\n",
        "For now we're going to ignore it and hope we don't run into a problem, but in the long run we'd need to investigate this warning."
      ]
    },
    {
      "cell_type": "markdown",
      "metadata": {
        "id": "I2HoGT5ajDEn"
      },
      "source": [
        "# What's even in it? (the summary)"
      ]
    },
    {
      "cell_type": "code",
      "execution_count": 3,
      "metadata": {
        "colab": {
          "base_uri": "https://localhost:8080/"
        },
        "id": "0uVLtRSx2o_u",
        "outputId": "4f521a40-5261-43de-ab5f-d63a37d72b1b"
      },
      "outputs": [
        {
          "name": "stdout",
          "output_type": "stream",
          "text": [
            "2.2.2\n"
          ]
        }
      ],
      "source": [
        "# this is the way how you can check pandas version\n",
        "print(pd.__version__)"
      ]
    },
    {
      "cell_type": "code",
      "execution_count": null,
      "metadata": {
        "colab": {
          "base_uri": "https://localhost:8080/",
          "height": 812
        },
        "id": "42VJj3oJjDEo",
        "outputId": "48f5c0de-00b8-4fb9-d0f7-d34623e3c851"
      },
      "outputs": [
        {
          "data": {
            "text/html": [
              "\n",
              "  <div id=\"df-cfcc904c-135f-4ed2-884b-b80516e464d7\" class=\"colab-df-container\">\n",
              "    <div>\n",
              "<style scoped>\n",
              "    .dataframe tbody tr th:only-of-type {\n",
              "        vertical-align: middle;\n",
              "    }\n",
              "\n",
              "    .dataframe tbody tr th {\n",
              "        vertical-align: top;\n",
              "    }\n",
              "\n",
              "    .dataframe thead th {\n",
              "        text-align: right;\n",
              "    }\n",
              "</style>\n",
              "<table border=\"1\" class=\"dataframe\">\n",
              "  <thead>\n",
              "    <tr style=\"text-align: right;\">\n",
              "      <th></th>\n",
              "      <th>Unique Key</th>\n",
              "      <th>Created Date</th>\n",
              "      <th>Closed Date</th>\n",
              "      <th>Agency</th>\n",
              "      <th>Agency Name</th>\n",
              "      <th>Complaint Type</th>\n",
              "      <th>Descriptor</th>\n",
              "      <th>Location Type</th>\n",
              "      <th>Incident Zip</th>\n",
              "      <th>Incident Address</th>\n",
              "      <th>...</th>\n",
              "      <th>Bridge Highway Name</th>\n",
              "      <th>Bridge Highway Direction</th>\n",
              "      <th>Road Ramp</th>\n",
              "      <th>Bridge Highway Segment</th>\n",
              "      <th>Garage Lot Name</th>\n",
              "      <th>Ferry Direction</th>\n",
              "      <th>Ferry Terminal Name</th>\n",
              "      <th>Latitude</th>\n",
              "      <th>Longitude</th>\n",
              "      <th>Location</th>\n",
              "    </tr>\n",
              "  </thead>\n",
              "  <tbody>\n",
              "    <tr>\n",
              "      <th>0</th>\n",
              "      <td>26589651</td>\n",
              "      <td>10/31/2013 02:08:41 AM</td>\n",
              "      <td>NaN</td>\n",
              "      <td>NYPD</td>\n",
              "      <td>New York City Police Department</td>\n",
              "      <td>Noise - Street/Sidewalk</td>\n",
              "      <td>Loud Talking</td>\n",
              "      <td>Street/Sidewalk</td>\n",
              "      <td>11432.0</td>\n",
              "      <td>90-03 169 STREET</td>\n",
              "      <td>...</td>\n",
              "      <td>NaN</td>\n",
              "      <td>NaN</td>\n",
              "      <td>NaN</td>\n",
              "      <td>NaN</td>\n",
              "      <td>NaN</td>\n",
              "      <td>NaN</td>\n",
              "      <td>NaN</td>\n",
              "      <td>40.708275</td>\n",
              "      <td>-73.791604</td>\n",
              "      <td>(40.70827532593202, -73.79160395779721)</td>\n",
              "    </tr>\n",
              "    <tr>\n",
              "      <th>1</th>\n",
              "      <td>26593698</td>\n",
              "      <td>10/31/2013 02:01:04 AM</td>\n",
              "      <td>NaN</td>\n",
              "      <td>NYPD</td>\n",
              "      <td>New York City Police Department</td>\n",
              "      <td>Illegal Parking</td>\n",
              "      <td>Commercial Overnight Parking</td>\n",
              "      <td>Street/Sidewalk</td>\n",
              "      <td>11378.0</td>\n",
              "      <td>58 AVENUE</td>\n",
              "      <td>...</td>\n",
              "      <td>NaN</td>\n",
              "      <td>NaN</td>\n",
              "      <td>NaN</td>\n",
              "      <td>NaN</td>\n",
              "      <td>NaN</td>\n",
              "      <td>NaN</td>\n",
              "      <td>NaN</td>\n",
              "      <td>40.721041</td>\n",
              "      <td>-73.909453</td>\n",
              "      <td>(40.721040535628305, -73.90945306791765)</td>\n",
              "    </tr>\n",
              "    <tr>\n",
              "      <th>2</th>\n",
              "      <td>26594139</td>\n",
              "      <td>10/31/2013 02:00:24 AM</td>\n",
              "      <td>10/31/2013 02:40:32 AM</td>\n",
              "      <td>NYPD</td>\n",
              "      <td>New York City Police Department</td>\n",
              "      <td>Noise - Commercial</td>\n",
              "      <td>Loud Music/Party</td>\n",
              "      <td>Club/Bar/Restaurant</td>\n",
              "      <td>10032.0</td>\n",
              "      <td>4060 BROADWAY</td>\n",
              "      <td>...</td>\n",
              "      <td>NaN</td>\n",
              "      <td>NaN</td>\n",
              "      <td>NaN</td>\n",
              "      <td>NaN</td>\n",
              "      <td>NaN</td>\n",
              "      <td>NaN</td>\n",
              "      <td>NaN</td>\n",
              "      <td>40.843330</td>\n",
              "      <td>-73.939144</td>\n",
              "      <td>(40.84332975466513, -73.93914371913482)</td>\n",
              "    </tr>\n",
              "    <tr>\n",
              "      <th>3</th>\n",
              "      <td>26595721</td>\n",
              "      <td>10/31/2013 01:56:23 AM</td>\n",
              "      <td>10/31/2013 02:21:48 AM</td>\n",
              "      <td>NYPD</td>\n",
              "      <td>New York City Police Department</td>\n",
              "      <td>Noise - Vehicle</td>\n",
              "      <td>Car/Truck Horn</td>\n",
              "      <td>Street/Sidewalk</td>\n",
              "      <td>10023.0</td>\n",
              "      <td>WEST 72 STREET</td>\n",
              "      <td>...</td>\n",
              "      <td>NaN</td>\n",
              "      <td>NaN</td>\n",
              "      <td>NaN</td>\n",
              "      <td>NaN</td>\n",
              "      <td>NaN</td>\n",
              "      <td>NaN</td>\n",
              "      <td>NaN</td>\n",
              "      <td>40.778009</td>\n",
              "      <td>-73.980213</td>\n",
              "      <td>(40.7780087446372, -73.98021349023975)</td>\n",
              "    </tr>\n",
              "    <tr>\n",
              "      <th>4</th>\n",
              "      <td>26590930</td>\n",
              "      <td>10/31/2013 01:53:44 AM</td>\n",
              "      <td>NaN</td>\n",
              "      <td>DOHMH</td>\n",
              "      <td>Department of Health and Mental Hygiene</td>\n",
              "      <td>Rodent</td>\n",
              "      <td>Condition Attracting Rodents</td>\n",
              "      <td>Vacant Lot</td>\n",
              "      <td>10027.0</td>\n",
              "      <td>WEST 124 STREET</td>\n",
              "      <td>...</td>\n",
              "      <td>NaN</td>\n",
              "      <td>NaN</td>\n",
              "      <td>NaN</td>\n",
              "      <td>NaN</td>\n",
              "      <td>NaN</td>\n",
              "      <td>NaN</td>\n",
              "      <td>NaN</td>\n",
              "      <td>40.807691</td>\n",
              "      <td>-73.947387</td>\n",
              "      <td>(40.80769092704951, -73.94738703491433)</td>\n",
              "    </tr>\n",
              "    <tr>\n",
              "      <th>5</th>\n",
              "      <td>26592370</td>\n",
              "      <td>10/31/2013 01:46:52 AM</td>\n",
              "      <td>NaN</td>\n",
              "      <td>NYPD</td>\n",
              "      <td>New York City Police Department</td>\n",
              "      <td>Noise - Commercial</td>\n",
              "      <td>Banging/Pounding</td>\n",
              "      <td>Club/Bar/Restaurant</td>\n",
              "      <td>11372.0</td>\n",
              "      <td>37 AVENUE</td>\n",
              "      <td>...</td>\n",
              "      <td>NaN</td>\n",
              "      <td>NaN</td>\n",
              "      <td>NaN</td>\n",
              "      <td>NaN</td>\n",
              "      <td>NaN</td>\n",
              "      <td>NaN</td>\n",
              "      <td>NaN</td>\n",
              "      <td>40.749989</td>\n",
              "      <td>-73.881988</td>\n",
              "      <td>(40.7499893014072, -73.88198770727831)</td>\n",
              "    </tr>\n",
              "    <tr>\n",
              "      <th>6</th>\n",
              "      <td>26595682</td>\n",
              "      <td>10/31/2013 01:46:40 AM</td>\n",
              "      <td>NaN</td>\n",
              "      <td>NYPD</td>\n",
              "      <td>New York City Police Department</td>\n",
              "      <td>Blocked Driveway</td>\n",
              "      <td>No Access</td>\n",
              "      <td>Street/Sidewalk</td>\n",
              "      <td>11419.0</td>\n",
              "      <td>107-50 109 STREET</td>\n",
              "      <td>...</td>\n",
              "      <td>NaN</td>\n",
              "      <td>NaN</td>\n",
              "      <td>NaN</td>\n",
              "      <td>NaN</td>\n",
              "      <td>NaN</td>\n",
              "      <td>NaN</td>\n",
              "      <td>NaN</td>\n",
              "      <td>40.681533</td>\n",
              "      <td>-73.831737</td>\n",
              "      <td>(40.68153278675525, -73.83173699701601)</td>\n",
              "    </tr>\n",
              "    <tr>\n",
              "      <th>7</th>\n",
              "      <td>26595195</td>\n",
              "      <td>10/31/2013 01:44:19 AM</td>\n",
              "      <td>10/31/2013 01:58:49 AM</td>\n",
              "      <td>NYPD</td>\n",
              "      <td>New York City Police Department</td>\n",
              "      <td>Noise - Commercial</td>\n",
              "      <td>Loud Music/Party</td>\n",
              "      <td>Club/Bar/Restaurant</td>\n",
              "      <td>11417.0</td>\n",
              "      <td>137-09 CROSSBAY BOULEVARD</td>\n",
              "      <td>...</td>\n",
              "      <td>NaN</td>\n",
              "      <td>NaN</td>\n",
              "      <td>NaN</td>\n",
              "      <td>NaN</td>\n",
              "      <td>NaN</td>\n",
              "      <td>NaN</td>\n",
              "      <td>NaN</td>\n",
              "      <td>40.671816</td>\n",
              "      <td>-73.843092</td>\n",
              "      <td>(40.67181584567338, -73.84309181950769)</td>\n",
              "    </tr>\n",
              "    <tr>\n",
              "      <th>8</th>\n",
              "      <td>26590540</td>\n",
              "      <td>10/31/2013 01:44:14 AM</td>\n",
              "      <td>10/31/2013 02:28:04 AM</td>\n",
              "      <td>NYPD</td>\n",
              "      <td>New York City Police Department</td>\n",
              "      <td>Noise - Commercial</td>\n",
              "      <td>Loud Talking</td>\n",
              "      <td>Club/Bar/Restaurant</td>\n",
              "      <td>10011.0</td>\n",
              "      <td>258 WEST 15 STREET</td>\n",
              "      <td>...</td>\n",
              "      <td>NaN</td>\n",
              "      <td>NaN</td>\n",
              "      <td>NaN</td>\n",
              "      <td>NaN</td>\n",
              "      <td>NaN</td>\n",
              "      <td>NaN</td>\n",
              "      <td>NaN</td>\n",
              "      <td>40.739913</td>\n",
              "      <td>-74.000790</td>\n",
              "      <td>(40.73991339303542, -74.00079028612932)</td>\n",
              "    </tr>\n",
              "    <tr>\n",
              "      <th>9</th>\n",
              "      <td>26594392</td>\n",
              "      <td>10/31/2013 01:34:41 AM</td>\n",
              "      <td>10/31/2013 02:23:51 AM</td>\n",
              "      <td>NYPD</td>\n",
              "      <td>New York City Police Department</td>\n",
              "      <td>Noise - Commercial</td>\n",
              "      <td>Loud Music/Party</td>\n",
              "      <td>Club/Bar/Restaurant</td>\n",
              "      <td>11225.0</td>\n",
              "      <td>835 NOSTRAND AVENUE</td>\n",
              "      <td>...</td>\n",
              "      <td>NaN</td>\n",
              "      <td>NaN</td>\n",
              "      <td>NaN</td>\n",
              "      <td>NaN</td>\n",
              "      <td>NaN</td>\n",
              "      <td>NaN</td>\n",
              "      <td>NaN</td>\n",
              "      <td>40.668204</td>\n",
              "      <td>-73.950648</td>\n",
              "      <td>(40.66820406598287, -73.95064760056546)</td>\n",
              "    </tr>\n",
              "  </tbody>\n",
              "</table>\n",
              "<p>10 rows × 52 columns</p>\n",
              "</div>\n",
              "    <div class=\"colab-df-buttons\">\n",
              "\n",
              "  <div class=\"colab-df-container\">\n",
              "    <button class=\"colab-df-convert\" onclick=\"convertToInteractive('df-cfcc904c-135f-4ed2-884b-b80516e464d7')\"\n",
              "            title=\"Convert this dataframe to an interactive table.\"\n",
              "            style=\"display:none;\">\n",
              "\n",
              "  <svg xmlns=\"http://www.w3.org/2000/svg\" height=\"24px\" viewBox=\"0 -960 960 960\">\n",
              "    <path d=\"M120-120v-720h720v720H120Zm60-500h600v-160H180v160Zm220 220h160v-160H400v160Zm0 220h160v-160H400v160ZM180-400h160v-160H180v160Zm440 0h160v-160H620v160ZM180-180h160v-160H180v160Zm440 0h160v-160H620v160Z\"/>\n",
              "  </svg>\n",
              "    </button>\n",
              "\n",
              "  <style>\n",
              "    .colab-df-container {\n",
              "      display:flex;\n",
              "      gap: 12px;\n",
              "    }\n",
              "\n",
              "    .colab-df-convert {\n",
              "      background-color: #E8F0FE;\n",
              "      border: none;\n",
              "      border-radius: 50%;\n",
              "      cursor: pointer;\n",
              "      display: none;\n",
              "      fill: #1967D2;\n",
              "      height: 32px;\n",
              "      padding: 0 0 0 0;\n",
              "      width: 32px;\n",
              "    }\n",
              "\n",
              "    .colab-df-convert:hover {\n",
              "      background-color: #E2EBFA;\n",
              "      box-shadow: 0px 1px 2px rgba(60, 64, 67, 0.3), 0px 1px 3px 1px rgba(60, 64, 67, 0.15);\n",
              "      fill: #174EA6;\n",
              "    }\n",
              "\n",
              "    .colab-df-buttons div {\n",
              "      margin-bottom: 4px;\n",
              "    }\n",
              "\n",
              "    [theme=dark] .colab-df-convert {\n",
              "      background-color: #3B4455;\n",
              "      fill: #D2E3FC;\n",
              "    }\n",
              "\n",
              "    [theme=dark] .colab-df-convert:hover {\n",
              "      background-color: #434B5C;\n",
              "      box-shadow: 0px 1px 3px 1px rgba(0, 0, 0, 0.15);\n",
              "      filter: drop-shadow(0px 1px 2px rgba(0, 0, 0, 0.3));\n",
              "      fill: #FFFFFF;\n",
              "    }\n",
              "  </style>\n",
              "\n",
              "    <script>\n",
              "      const buttonEl =\n",
              "        document.querySelector('#df-cfcc904c-135f-4ed2-884b-b80516e464d7 button.colab-df-convert');\n",
              "      buttonEl.style.display =\n",
              "        google.colab.kernel.accessAllowed ? 'block' : 'none';\n",
              "\n",
              "      async function convertToInteractive(key) {\n",
              "        const element = document.querySelector('#df-cfcc904c-135f-4ed2-884b-b80516e464d7');\n",
              "        const dataTable =\n",
              "          await google.colab.kernel.invokeFunction('convertToInteractive',\n",
              "                                                    [key], {});\n",
              "        if (!dataTable) return;\n",
              "\n",
              "        const docLinkHtml = 'Like what you see? Visit the ' +\n",
              "          '<a target=\"_blank\" href=https://colab.research.google.com/notebooks/data_table.ipynb>data table notebook</a>'\n",
              "          + ' to learn more about interactive tables.';\n",
              "        element.innerHTML = '';\n",
              "        dataTable['output_type'] = 'display_data';\n",
              "        await google.colab.output.renderOutput(dataTable, element);\n",
              "        const docLink = document.createElement('div');\n",
              "        docLink.innerHTML = docLinkHtml;\n",
              "        element.appendChild(docLink);\n",
              "      }\n",
              "    </script>\n",
              "  </div>\n",
              "\n",
              "\n",
              "<div id=\"df-f087e9c8-4e83-4940-845f-c48cdd312879\">\n",
              "  <button class=\"colab-df-quickchart\" onclick=\"quickchart('df-f087e9c8-4e83-4940-845f-c48cdd312879')\"\n",
              "            title=\"Suggest charts\"\n",
              "            style=\"display:none;\">\n",
              "\n",
              "<svg xmlns=\"http://www.w3.org/2000/svg\" height=\"24px\"viewBox=\"0 0 24 24\"\n",
              "     width=\"24px\">\n",
              "    <g>\n",
              "        <path d=\"M19 3H5c-1.1 0-2 .9-2 2v14c0 1.1.9 2 2 2h14c1.1 0 2-.9 2-2V5c0-1.1-.9-2-2-2zM9 17H7v-7h2v7zm4 0h-2V7h2v10zm4 0h-2v-4h2v4z\"/>\n",
              "    </g>\n",
              "</svg>\n",
              "  </button>\n",
              "\n",
              "<style>\n",
              "  .colab-df-quickchart {\n",
              "      --bg-color: #E8F0FE;\n",
              "      --fill-color: #1967D2;\n",
              "      --hover-bg-color: #E2EBFA;\n",
              "      --hover-fill-color: #174EA6;\n",
              "      --disabled-fill-color: #AAA;\n",
              "      --disabled-bg-color: #DDD;\n",
              "  }\n",
              "\n",
              "  [theme=dark] .colab-df-quickchart {\n",
              "      --bg-color: #3B4455;\n",
              "      --fill-color: #D2E3FC;\n",
              "      --hover-bg-color: #434B5C;\n",
              "      --hover-fill-color: #FFFFFF;\n",
              "      --disabled-bg-color: #3B4455;\n",
              "      --disabled-fill-color: #666;\n",
              "  }\n",
              "\n",
              "  .colab-df-quickchart {\n",
              "    background-color: var(--bg-color);\n",
              "    border: none;\n",
              "    border-radius: 50%;\n",
              "    cursor: pointer;\n",
              "    display: none;\n",
              "    fill: var(--fill-color);\n",
              "    height: 32px;\n",
              "    padding: 0;\n",
              "    width: 32px;\n",
              "  }\n",
              "\n",
              "  .colab-df-quickchart:hover {\n",
              "    background-color: var(--hover-bg-color);\n",
              "    box-shadow: 0 1px 2px rgba(60, 64, 67, 0.3), 0 1px 3px 1px rgba(60, 64, 67, 0.15);\n",
              "    fill: var(--button-hover-fill-color);\n",
              "  }\n",
              "\n",
              "  .colab-df-quickchart-complete:disabled,\n",
              "  .colab-df-quickchart-complete:disabled:hover {\n",
              "    background-color: var(--disabled-bg-color);\n",
              "    fill: var(--disabled-fill-color);\n",
              "    box-shadow: none;\n",
              "  }\n",
              "\n",
              "  .colab-df-spinner {\n",
              "    border: 2px solid var(--fill-color);\n",
              "    border-color: transparent;\n",
              "    border-bottom-color: var(--fill-color);\n",
              "    animation:\n",
              "      spin 1s steps(1) infinite;\n",
              "  }\n",
              "\n",
              "  @keyframes spin {\n",
              "    0% {\n",
              "      border-color: transparent;\n",
              "      border-bottom-color: var(--fill-color);\n",
              "      border-left-color: var(--fill-color);\n",
              "    }\n",
              "    20% {\n",
              "      border-color: transparent;\n",
              "      border-left-color: var(--fill-color);\n",
              "      border-top-color: var(--fill-color);\n",
              "    }\n",
              "    30% {\n",
              "      border-color: transparent;\n",
              "      border-left-color: var(--fill-color);\n",
              "      border-top-color: var(--fill-color);\n",
              "      border-right-color: var(--fill-color);\n",
              "    }\n",
              "    40% {\n",
              "      border-color: transparent;\n",
              "      border-right-color: var(--fill-color);\n",
              "      border-top-color: var(--fill-color);\n",
              "    }\n",
              "    60% {\n",
              "      border-color: transparent;\n",
              "      border-right-color: var(--fill-color);\n",
              "    }\n",
              "    80% {\n",
              "      border-color: transparent;\n",
              "      border-right-color: var(--fill-color);\n",
              "      border-bottom-color: var(--fill-color);\n",
              "    }\n",
              "    90% {\n",
              "      border-color: transparent;\n",
              "      border-bottom-color: var(--fill-color);\n",
              "    }\n",
              "  }\n",
              "</style>\n",
              "\n",
              "  <script>\n",
              "    async function quickchart(key) {\n",
              "      const quickchartButtonEl =\n",
              "        document.querySelector('#' + key + ' button');\n",
              "      quickchartButtonEl.disabled = true;  // To prevent multiple clicks.\n",
              "      quickchartButtonEl.classList.add('colab-df-spinner');\n",
              "      try {\n",
              "        const charts = await google.colab.kernel.invokeFunction(\n",
              "            'suggestCharts', [key], {});\n",
              "      } catch (error) {\n",
              "        console.error('Error during call to suggestCharts:', error);\n",
              "      }\n",
              "      quickchartButtonEl.classList.remove('colab-df-spinner');\n",
              "      quickchartButtonEl.classList.add('colab-df-quickchart-complete');\n",
              "    }\n",
              "    (() => {\n",
              "      let quickchartButtonEl =\n",
              "        document.querySelector('#df-f087e9c8-4e83-4940-845f-c48cdd312879 button');\n",
              "      quickchartButtonEl.style.display =\n",
              "        google.colab.kernel.accessAllowed ? 'block' : 'none';\n",
              "    })();\n",
              "  </script>\n",
              "</div>\n",
              "    </div>\n",
              "  </div>\n"
            ],
            "text/plain": [
              "   Unique Key            Created Date             Closed Date Agency  \\\n",
              "0    26589651  10/31/2013 02:08:41 AM                     NaN   NYPD   \n",
              "1    26593698  10/31/2013 02:01:04 AM                     NaN   NYPD   \n",
              "2    26594139  10/31/2013 02:00:24 AM  10/31/2013 02:40:32 AM   NYPD   \n",
              "3    26595721  10/31/2013 01:56:23 AM  10/31/2013 02:21:48 AM   NYPD   \n",
              "4    26590930  10/31/2013 01:53:44 AM                     NaN  DOHMH   \n",
              "5    26592370  10/31/2013 01:46:52 AM                     NaN   NYPD   \n",
              "6    26595682  10/31/2013 01:46:40 AM                     NaN   NYPD   \n",
              "7    26595195  10/31/2013 01:44:19 AM  10/31/2013 01:58:49 AM   NYPD   \n",
              "8    26590540  10/31/2013 01:44:14 AM  10/31/2013 02:28:04 AM   NYPD   \n",
              "9    26594392  10/31/2013 01:34:41 AM  10/31/2013 02:23:51 AM   NYPD   \n",
              "\n",
              "                               Agency Name           Complaint Type  \\\n",
              "0          New York City Police Department  Noise - Street/Sidewalk   \n",
              "1          New York City Police Department          Illegal Parking   \n",
              "2          New York City Police Department       Noise - Commercial   \n",
              "3          New York City Police Department          Noise - Vehicle   \n",
              "4  Department of Health and Mental Hygiene                   Rodent   \n",
              "5          New York City Police Department       Noise - Commercial   \n",
              "6          New York City Police Department         Blocked Driveway   \n",
              "7          New York City Police Department       Noise - Commercial   \n",
              "8          New York City Police Department       Noise - Commercial   \n",
              "9          New York City Police Department       Noise - Commercial   \n",
              "\n",
              "                     Descriptor        Location Type Incident Zip  \\\n",
              "0                  Loud Talking      Street/Sidewalk      11432.0   \n",
              "1  Commercial Overnight Parking      Street/Sidewalk      11378.0   \n",
              "2              Loud Music/Party  Club/Bar/Restaurant      10032.0   \n",
              "3                Car/Truck Horn      Street/Sidewalk      10023.0   \n",
              "4  Condition Attracting Rodents           Vacant Lot      10027.0   \n",
              "5              Banging/Pounding  Club/Bar/Restaurant      11372.0   \n",
              "6                     No Access      Street/Sidewalk      11419.0   \n",
              "7              Loud Music/Party  Club/Bar/Restaurant      11417.0   \n",
              "8                  Loud Talking  Club/Bar/Restaurant      10011.0   \n",
              "9              Loud Music/Party  Club/Bar/Restaurant      11225.0   \n",
              "\n",
              "            Incident Address  ... Bridge Highway Name  \\\n",
              "0           90-03 169 STREET  ...                 NaN   \n",
              "1                  58 AVENUE  ...                 NaN   \n",
              "2              4060 BROADWAY  ...                 NaN   \n",
              "3             WEST 72 STREET  ...                 NaN   \n",
              "4            WEST 124 STREET  ...                 NaN   \n",
              "5                  37 AVENUE  ...                 NaN   \n",
              "6          107-50 109 STREET  ...                 NaN   \n",
              "7  137-09 CROSSBAY BOULEVARD  ...                 NaN   \n",
              "8         258 WEST 15 STREET  ...                 NaN   \n",
              "9        835 NOSTRAND AVENUE  ...                 NaN   \n",
              "\n",
              "  Bridge Highway Direction Road Ramp Bridge Highway Segment Garage Lot Name  \\\n",
              "0                      NaN       NaN                    NaN             NaN   \n",
              "1                      NaN       NaN                    NaN             NaN   \n",
              "2                      NaN       NaN                    NaN             NaN   \n",
              "3                      NaN       NaN                    NaN             NaN   \n",
              "4                      NaN       NaN                    NaN             NaN   \n",
              "5                      NaN       NaN                    NaN             NaN   \n",
              "6                      NaN       NaN                    NaN             NaN   \n",
              "7                      NaN       NaN                    NaN             NaN   \n",
              "8                      NaN       NaN                    NaN             NaN   \n",
              "9                      NaN       NaN                    NaN             NaN   \n",
              "\n",
              "  Ferry Direction Ferry Terminal Name   Latitude  Longitude  \\\n",
              "0             NaN                 NaN  40.708275 -73.791604   \n",
              "1             NaN                 NaN  40.721041 -73.909453   \n",
              "2             NaN                 NaN  40.843330 -73.939144   \n",
              "3             NaN                 NaN  40.778009 -73.980213   \n",
              "4             NaN                 NaN  40.807691 -73.947387   \n",
              "5             NaN                 NaN  40.749989 -73.881988   \n",
              "6             NaN                 NaN  40.681533 -73.831737   \n",
              "7             NaN                 NaN  40.671816 -73.843092   \n",
              "8             NaN                 NaN  40.739913 -74.000790   \n",
              "9             NaN                 NaN  40.668204 -73.950648   \n",
              "\n",
              "                                   Location  \n",
              "0   (40.70827532593202, -73.79160395779721)  \n",
              "1  (40.721040535628305, -73.90945306791765)  \n",
              "2   (40.84332975466513, -73.93914371913482)  \n",
              "3    (40.7780087446372, -73.98021349023975)  \n",
              "4   (40.80769092704951, -73.94738703491433)  \n",
              "5    (40.7499893014072, -73.88198770727831)  \n",
              "6   (40.68153278675525, -73.83173699701601)  \n",
              "7   (40.67181584567338, -73.84309181950769)  \n",
              "8   (40.73991339303542, -74.00079028612932)  \n",
              "9   (40.66820406598287, -73.95064760056546)  \n",
              "\n",
              "[10 rows x 52 columns]"
            ]
          },
          "execution_count": 5,
          "metadata": {},
          "output_type": "execute_result"
        }
      ],
      "source": [
        "complaints.head(10)"
      ]
    },
    {
      "cell_type": "code",
      "execution_count": null,
      "metadata": {
        "colab": {
          "base_uri": "https://localhost:8080/"
        },
        "id": "j812haCJpB7h",
        "outputId": "394f0086-a6a9-4823-97c7-a928434b06b5"
      },
      "outputs": [
        {
          "data": {
            "text/plain": [
              "(111069, 52)"
            ]
          },
          "execution_count": 5,
          "metadata": {},
          "output_type": "execute_result"
        }
      ],
      "source": [
        "complaints.shape"
      ]
    },
    {
      "cell_type": "markdown",
      "metadata": {
        "id": "GMFzzAv1jDEr"
      },
      "source": [
        "# Selecting columns and rows"
      ]
    },
    {
      "cell_type": "markdown",
      "metadata": {
        "id": "uVloWM0hjDEs"
      },
      "source": [
        "To select a column, we index with the name of the column, like this:"
      ]
    },
    {
      "cell_type": "code",
      "execution_count": 4,
      "metadata": {
        "colab": {
          "base_uri": "https://localhost:8080/"
        },
        "id": "8ZC-ErPGjDEs",
        "outputId": "6c451cce-0fc9-4bb4-9539-4a6510bd8ffa"
      },
      "outputs": [
        {
          "data": {
            "text/plain": [
              "0    Noise - Street/Sidewalk\n",
              "1            Illegal Parking\n",
              "2         Noise - Commercial\n",
              "3            Noise - Vehicle\n",
              "4                     Rodent\n",
              "Name: Complaint Type, dtype: object"
            ]
          },
          "execution_count": 4,
          "metadata": {},
          "output_type": "execute_result"
        }
      ],
      "source": [
        "# print complaint type series (only first 5 rows) with head()\n"
      ]
    },
    {
      "cell_type": "markdown",
      "metadata": {
        "id": "R3Pvxk1SjDEz"
      },
      "source": [
        "We can combine these to get the first 5 rows of a column:"
      ]
    },
    {
      "cell_type": "code",
      "execution_count": 5,
      "metadata": {
        "colab": {
          "base_uri": "https://localhost:8080/"
        },
        "id": "6EFIgd4sjDE0",
        "outputId": "ab74fb5d-f347-41f8-de36-21220d758a21"
      },
      "outputs": [
        {
          "data": {
            "text/plain": [
              "0    Noise - Street/Sidewalk\n",
              "1            Illegal Parking\n",
              "2         Noise - Commercial\n",
              "3            Noise - Vehicle\n",
              "4                     Rodent\n",
              "Name: Complaint Type, dtype: object"
            ]
          },
          "execution_count": 5,
          "metadata": {},
          "output_type": "execute_result"
        }
      ],
      "source": [
        "# print complaint type series (only first 5 rows) with [] notation\n"
      ]
    },
    {
      "cell_type": "markdown",
      "metadata": {
        "id": "jK8TakG2jDE4"
      },
      "source": [
        "and it doesn't matter which direction we do it in:"
      ]
    },
    {
      "cell_type": "code",
      "execution_count": 6,
      "metadata": {
        "colab": {
          "base_uri": "https://localhost:8080/"
        },
        "id": "52QenLp_jDE4",
        "outputId": "d096a11e-a007-40d7-cdf5-73c514994b67"
      },
      "outputs": [
        {
          "data": {
            "text/plain": [
              "0    Noise - Street/Sidewalk\n",
              "1            Illegal Parking\n",
              "2         Noise - Commercial\n",
              "3            Noise - Vehicle\n",
              "4                     Rodent\n",
              "Name: Complaint Type, dtype: object"
            ]
          },
          "execution_count": 6,
          "metadata": {},
          "output_type": "execute_result"
        }
      ],
      "source": [
        "# change the order of the row/column (direction), it will still work\n"
      ]
    },
    {
      "cell_type": "markdown",
      "metadata": {},
      "source": [
        "Next week, we will learn loc and iloc functions. So next week repeat this step with both of these functions as well."
      ]
    },
    {
      "cell_type": "markdown",
      "metadata": {
        "id": "9IDmUtQrjDE9"
      },
      "source": [
        "# Selecting multiple columns"
      ]
    },
    {
      "cell_type": "markdown",
      "metadata": {
        "id": "xc-eTSk7jDE9"
      },
      "source": [
        "What if we just want to know the complaint type and the borough, but not the rest of the information? Pandas makes it really easy to select a subset of the columns: just index with list of columns you want."
      ]
    },
    {
      "cell_type": "code",
      "execution_count": 7,
      "metadata": {
        "colab": {
          "base_uri": "https://localhost:8080/",
          "height": 424
        },
        "id": "yRC9szJajDE9",
        "outputId": "8d0d5602-e3dd-47bc-d4a8-206544850bbe"
      },
      "outputs": [
        {
          "data": {
            "text/html": [
              "<div>\n",
              "<style scoped>\n",
              "    .dataframe tbody tr th:only-of-type {\n",
              "        vertical-align: middle;\n",
              "    }\n",
              "\n",
              "    .dataframe tbody tr th {\n",
              "        vertical-align: top;\n",
              "    }\n",
              "\n",
              "    .dataframe thead th {\n",
              "        text-align: right;\n",
              "    }\n",
              "</style>\n",
              "<table border=\"1\" class=\"dataframe\">\n",
              "  <thead>\n",
              "    <tr style=\"text-align: right;\">\n",
              "      <th></th>\n",
              "      <th>Complaint Type</th>\n",
              "      <th>Borough</th>\n",
              "    </tr>\n",
              "  </thead>\n",
              "  <tbody>\n",
              "    <tr>\n",
              "      <th>0</th>\n",
              "      <td>Noise - Street/Sidewalk</td>\n",
              "      <td>QUEENS</td>\n",
              "    </tr>\n",
              "    <tr>\n",
              "      <th>1</th>\n",
              "      <td>Illegal Parking</td>\n",
              "      <td>QUEENS</td>\n",
              "    </tr>\n",
              "    <tr>\n",
              "      <th>2</th>\n",
              "      <td>Noise - Commercial</td>\n",
              "      <td>MANHATTAN</td>\n",
              "    </tr>\n",
              "    <tr>\n",
              "      <th>3</th>\n",
              "      <td>Noise - Vehicle</td>\n",
              "      <td>MANHATTAN</td>\n",
              "    </tr>\n",
              "    <tr>\n",
              "      <th>4</th>\n",
              "      <td>Rodent</td>\n",
              "      <td>MANHATTAN</td>\n",
              "    </tr>\n",
              "    <tr>\n",
              "      <th>...</th>\n",
              "      <td>...</td>\n",
              "      <td>...</td>\n",
              "    </tr>\n",
              "    <tr>\n",
              "      <th>111064</th>\n",
              "      <td>Maintenance or Facility</td>\n",
              "      <td>BROOKLYN</td>\n",
              "    </tr>\n",
              "    <tr>\n",
              "      <th>111065</th>\n",
              "      <td>Illegal Parking</td>\n",
              "      <td>QUEENS</td>\n",
              "    </tr>\n",
              "    <tr>\n",
              "      <th>111066</th>\n",
              "      <td>Noise - Street/Sidewalk</td>\n",
              "      <td>MANHATTAN</td>\n",
              "    </tr>\n",
              "    <tr>\n",
              "      <th>111067</th>\n",
              "      <td>Noise - Commercial</td>\n",
              "      <td>BROOKLYN</td>\n",
              "    </tr>\n",
              "    <tr>\n",
              "      <th>111068</th>\n",
              "      <td>Blocked Driveway</td>\n",
              "      <td>BROOKLYN</td>\n",
              "    </tr>\n",
              "  </tbody>\n",
              "</table>\n",
              "<p>111069 rows × 2 columns</p>\n",
              "</div>"
            ],
            "text/plain": [
              "                 Complaint Type    Borough\n",
              "0       Noise - Street/Sidewalk     QUEENS\n",
              "1               Illegal Parking     QUEENS\n",
              "2            Noise - Commercial  MANHATTAN\n",
              "3               Noise - Vehicle  MANHATTAN\n",
              "4                        Rodent  MANHATTAN\n",
              "...                         ...        ...\n",
              "111064  Maintenance or Facility   BROOKLYN\n",
              "111065          Illegal Parking     QUEENS\n",
              "111066  Noise - Street/Sidewalk  MANHATTAN\n",
              "111067       Noise - Commercial   BROOKLYN\n",
              "111068         Blocked Driveway   BROOKLYN\n",
              "\n",
              "[111069 rows x 2 columns]"
            ]
          },
          "execution_count": 7,
          "metadata": {},
          "output_type": "execute_result"
        }
      ],
      "source": [
        "# select multiple columns (Complaint Type,\tBorough)\n",
        "# you could also do this with loc/iloc (check it again next week)\n"
      ]
    },
    {
      "cell_type": "markdown",
      "metadata": {
        "id": "PuCtp8p_jDFD"
      },
      "source": [
        "# What's the most common complaint type?"
      ]
    },
    {
      "cell_type": "markdown",
      "metadata": {
        "id": "HwyQbrzUjDFE"
      },
      "source": [
        "This is a really easy question to answer! There's a `.value_counts()` method that we can use:"
      ]
    },
    {
      "cell_type": "code",
      "execution_count": 8,
      "metadata": {
        "colab": {
          "base_uri": "https://localhost:8080/"
        },
        "id": "SishiqgpjDFF",
        "outputId": "e94a1df3-bcfe-44e6-f88a-b4835c226310"
      },
      "outputs": [
        {
          "data": {
            "text/plain": [
              "Complaint Type\n",
              "HEATING                   14200\n",
              "GENERAL CONSTRUCTION       7471\n",
              "Street Light Condition     7117\n",
              "DOF Literature Request     5797\n",
              "PLUMBING                   5373\n",
              "Name: count, dtype: int64"
            ]
          },
          "execution_count": 8,
          "metadata": {},
          "output_type": "execute_result"
        }
      ],
      "source": [
        "#display the most common 5 complaint type using value_counts() method\n"
      ]
    },
    {
      "cell_type": "code",
      "execution_count": 9,
      "metadata": {
        "colab": {
          "base_uri": "https://localhost:8080/"
        },
        "id": "kdeuUAyxGVN_",
        "outputId": "df1fc1d4-bcee-475b-a1cc-5f418e561c80"
      },
      "outputs": [
        {
          "data": {
            "text/plain": [
              "Complaint Type\n",
              "HEATING                   14200\n",
              "GENERAL CONSTRUCTION       7471\n",
              "Street Light Condition     7117\n",
              "DOF Literature Request     5797\n",
              "PLUMBING                   5373\n",
              "dtype: int64"
            ]
          },
          "execution_count": 9,
          "metadata": {},
          "output_type": "execute_result"
        }
      ],
      "source": [
        "# or using groupby\n"
      ]
    },
    {
      "cell_type": "markdown",
      "metadata": {
        "id": "ltppYtKljDFI"
      },
      "source": [
        "If we just wanted the top 10 most common complaints, we can do this:"
      ]
    },
    {
      "cell_type": "code",
      "execution_count": 10,
      "metadata": {
        "colab": {
          "base_uri": "https://localhost:8080/"
        },
        "id": "APoOaRTRF0KR",
        "outputId": "13e66d42-dcdd-40c8-acfa-d51d705147d7"
      },
      "outputs": [
        {
          "data": {
            "text/plain": [
              "Complaint Type\n",
              "HEATING                   14200\n",
              "GENERAL CONSTRUCTION       7471\n",
              "Street Light Condition     7117\n",
              "DOF Literature Request     5797\n",
              "PLUMBING                   5373\n",
              "PAINT - PLASTER            5149\n",
              "Blocked Driveway           4590\n",
              "NONCONST                   3998\n",
              "Street Condition           3473\n",
              "Illegal Parking            3343\n",
              "Name: count, dtype: int64"
            ]
          },
          "execution_count": 10,
          "metadata": {},
          "output_type": "execute_result"
        }
      ],
      "source": []
    },
    {
      "cell_type": "markdown",
      "metadata": {
        "id": "sYVKXC6bjDFM"
      },
      "source": [
        "But it gets better! We can plot them!"
      ]
    },
    {
      "cell_type": "code",
      "execution_count": 11,
      "metadata": {
        "colab": {
          "base_uri": "https://localhost:8080/",
          "height": 650
        },
        "id": "91U9krRkjDFN",
        "outputId": "c93d37e7-c72d-4cc9-cd12-c57e1891e5fc"
      },
      "outputs": [
        {
          "data": {
            "text/plain": [
              "<Axes: xlabel='Complaint Type'>"
            ]
          },
          "execution_count": 11,
          "metadata": {},
          "output_type": "execute_result"
        },
        {
          "data": {
            "image/png": "[encoded data removed]",
            "text/plain": [
              "<Figure size 640x480 with 1 Axes>"
            ]
          },
          "metadata": {},
          "output_type": "display_data"
        }
      ],
      "source": []
    }
  ],
  "metadata": {
    "colab": {
      "provenance": []
    },
    "kernelspec": {
      "display_name": "Python 3",
      "name": "python3"
    },
    "language_info": {
      "codemirror_mode": {
        "name": "ipython",
        "version": 3
      },
      "file_extension": ".py",
      "mimetype": "text/x-python",
      "name": "python",
      "nbconvert_exporter": "python",
      "pygments_lexer": "ipython3",
      "version": "3.12.4"
    }
  },
  "nbformat": 4,
  "nbformat_minor": 0
}
