{
 "cells": [
  {
   "cell_type": "code",
   "execution_count": 1,
   "metadata": {},
   "outputs": [],
   "source": [
    "import pandas as pd"
   ]
  },
  {
   "cell_type": "code",
   "execution_count": 2,
   "metadata": {},
   "outputs": [
    {
     "data": {
      "text/html": [
       "<div>\n",
       "<style scoped>\n",
       "    .dataframe tbody tr th:only-of-type {\n",
       "        vertical-align: middle;\n",
       "    }\n",
       "\n",
       "    .dataframe tbody tr th {\n",
       "        vertical-align: top;\n",
       "    }\n",
       "\n",
       "    .dataframe thead th {\n",
       "        text-align: right;\n",
       "    }\n",
       "</style>\n",
       "<table border=\"1\" class=\"dataframe\">\n",
       "  <thead>\n",
       "    <tr style=\"text-align: right;\">\n",
       "      <th></th>\n",
       "      <th>userId</th>\n",
       "      <th>rating</th>\n",
       "      <th>title</th>\n",
       "      <th>genres</th>\n",
       "    </tr>\n",
       "  </thead>\n",
       "  <tbody>\n",
       "    <tr>\n",
       "      <th>0</th>\n",
       "      <td>602</td>\n",
       "      <td>3.0</td>\n",
       "      <td>Waterworld (1995)</td>\n",
       "      <td>Action|Adventure|Sci-Fi</td>\n",
       "    </tr>\n",
       "    <tr>\n",
       "      <th>1</th>\n",
       "      <td>580</td>\n",
       "      <td>4.0</td>\n",
       "      <td>Jurassic Park (1993)</td>\n",
       "      <td>Action|Adventure|Sci-Fi|Thriller</td>\n",
       "    </tr>\n",
       "    <tr>\n",
       "      <th>2</th>\n",
       "      <td>264</td>\n",
       "      <td>4.0</td>\n",
       "      <td>Mask, The (1994)</td>\n",
       "      <td>Action|Comedy|Crime|Fantasy</td>\n",
       "    </tr>\n",
       "    <tr>\n",
       "      <th>3</th>\n",
       "      <td>370</td>\n",
       "      <td>4.5</td>\n",
       "      <td>Amelie (Fabuleux destin d'Amélie Poulain, Le) ...</td>\n",
       "      <td>Comedy|Romance</td>\n",
       "    </tr>\n",
       "    <tr>\n",
       "      <th>4</th>\n",
       "      <td>489</td>\n",
       "      <td>3.5</td>\n",
       "      <td>Titanic (1997)</td>\n",
       "      <td>Drama|Romance</td>\n",
       "    </tr>\n",
       "  </tbody>\n",
       "</table>\n",
       "</div>"
      ],
      "text/plain": [
       "   userId  rating                                              title  \\\n",
       "0     602     3.0                                  Waterworld (1995)   \n",
       "1     580     4.0                               Jurassic Park (1993)   \n",
       "2     264     4.0                                   Mask, The (1994)   \n",
       "3     370     4.5  Amelie (Fabuleux destin d'Amélie Poulain, Le) ...   \n",
       "4     489     3.5                                     Titanic (1997)   \n",
       "\n",
       "                             genres  \n",
       "0           Action|Adventure|Sci-Fi  \n",
       "1  Action|Adventure|Sci-Fi|Thriller  \n",
       "2       Action|Comedy|Crime|Fantasy  \n",
       "3                    Comedy|Romance  \n",
       "4                     Drama|Romance  "
      ]
     },
     "execution_count": 2,
     "metadata": {},
     "output_type": "execute_result"
    }
   ],
   "source": [
    "ratings = pd.read_table(\"all_ratings.txt\")\n",
    "ratings.head()"
   ]
  },
  {
   "cell_type": "code",
   "execution_count": null,
   "metadata": {},
   "outputs": [],
   "source": [
    "user_input = input(\"Please enter a genre:\").lower()\n",
    "\n",
    "# the following line is wrong approach to find the related genres,\n",
    "# since for instance it may consider and find \"cri\" as the valid genre  \n",
    "#temp = ratings[ratings[\"genres\"].str.contains(user_input)] \n",
    "\n",
    "# so it's better to use the following method\n",
    "temp = ratings[ratings[\"genres\"].apply(lambda x:user_input in x.lower().split(\"|\"))]\n",
    "query_series = temp.groupby(\"title\")[\"rating\"].mean().sort_values(ascending = False)\n",
    "\n",
    "for idx in range(len(query_series)):\n",
    "    movie = query_series.index[idx]\n",
    "    rating = query_series.values[idx]\n",
    "    watch = input(\"Would you like to watch \" + movie + \" with rating \" + format(rating , \".4f\") + \": \" ).lower()\n",
    "    while watch != \"yes\" and watch != \"no\": \n",
    "        watch = input(\"You entered an incorrect input, please enter yes or no: \").lower()\n",
    "    if watch == \"yes\":\n",
    "        print(\"Enjoy the movie!\")\n",
    "        break\n",
    "\n",
    "if watch == \"no\":\n",
    "    print(\"No movies left in this genre!\")"
   ]
  },
  {
   "cell_type": "code",
   "execution_count": null,
   "metadata": {},
   "outputs": [],
   "source": []
  }
 ],
 "metadata": {
  "kernelspec": {
   "display_name": "DSA201",
   "language": "python",
   "name": "python3"
  },
  "language_info": {
   "codemirror_mode": {
    "name": "ipython",
    "version": 3
   },
   "file_extension": ".py",
   "mimetype": "text/x-python",
   "name": "python",
   "nbconvert_exporter": "python",
   "pygments_lexer": "ipython3",
   "version": "3.12.4"
  }
 },
 "nbformat": 4,
 "nbformat_minor": 2
}
