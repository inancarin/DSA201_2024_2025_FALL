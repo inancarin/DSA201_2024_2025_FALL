{
 "cells": [
  {
   "cell_type": "code",
   "execution_count": 1,
   "metadata": {},
   "outputs": [],
   "source": [
    "class Node:\n",
    "    def __init__(self, data):\n",
    "        self.data = data\n",
    "        self.left = None\n",
    "        self.right = None"
   ]
  },
  {
   "cell_type": "code",
   "execution_count": 2,
   "metadata": {},
   "outputs": [],
   "source": [
    "root = Node(10)\n",
    "root.left = Node(5)\n",
    "root.right = Node(12)\n",
    "root.right.left = Node(8) # after adding this, it's not a BST anymore"
   ]
  },
  {
   "cell_type": "code",
   "execution_count": 23,
   "metadata": {},
   "outputs": [],
   "source": [
    "class BST:\n",
    "    def __init__(self):\n",
    "        self.root = None\n",
    "    \n",
    "    def insert(self, val):\n",
    "        newNode = Node(val)\n",
    "        if self.root == None:\n",
    "            self.root = newNode\n",
    "        else:\n",
    "            current = self.root\n",
    "            while current != None:\n",
    "                parent = current\n",
    "                if parent.data == val:\n",
    "                    print(val, \"is duplicated, and not adding it to BST\")\n",
    "                    return\n",
    "                elif val < parent.data:\n",
    "                    current = current.left\n",
    "                elif val > parent.data:\n",
    "                    current = current.right\n",
    "            if parent.data > val:\n",
    "                parent.left = newNode\n",
    "            else:\n",
    "                parent.right = newNode\n",
    "    \n",
    "    def search(self, val):\n",
    "        if self.root == None:\n",
    "            return False\n",
    "        \n",
    "        current = self.root\n",
    "        while current != None:\n",
    "            if current.data == val:\n",
    "                return True\n",
    "            elif val < current.data:\n",
    "                current = current.left\n",
    "            elif val > current.data:\n",
    "                current = current.right\n",
    "        return False\n",
    "    \n",
    "    def inorderHelper(self, head):\n",
    "        if head == None:\n",
    "            return\n",
    "        self.inorderHelper(head.left)\n",
    "        print(head.data, end=\" \")\n",
    "        self.inorderHelper(head.right)\n",
    "    \n",
    "    def inorder(self):\n",
    "        self.inorderHelper(self.root)\n",
    "    \n",
    "    def postorderHelper(self, head):\n",
    "        if head == None:\n",
    "            return\n",
    "        self.postorderHelper(head.left)\n",
    "        self.postorderHelper(head.right)\n",
    "        print(head.data, end=\" \")\n",
    "        \n",
    "    def postorder(self):\n",
    "        self.postorderHelper(self.root)\n",
    "    \n",
    "    def breath_first(self):\n",
    "        if self.root == None:\n",
    "            return\n",
    "        nodes = [self.root]\n",
    "        while len(nodes) > 0:\n",
    "            temp = []\n",
    "            for node in nodes:\n",
    "                print(node.data, end=\" \")\n",
    "                if node.left != None:\n",
    "                    temp.append(node.left)\n",
    "                if node.right != None:\n",
    "                    temp.append(node.right)\n",
    "            nodes = temp"
   ]
  },
  {
   "cell_type": "code",
   "execution_count": 24,
   "metadata": {},
   "outputs": [],
   "source": [
    "myTree = BST()\n",
    "myTree.insert(60)\n",
    "myTree.insert(55)\n",
    "myTree.insert(100)\n",
    "myTree.insert(45)\n",
    "myTree.insert(57)\n",
    "myTree.insert(67)\n",
    "myTree.insert(107)\n",
    "myTree.insert(59)\n",
    "myTree.insert(101)"
   ]
  },
  {
   "cell_type": "code",
   "execution_count": 9,
   "metadata": {},
   "outputs": [
    {
     "data": {
      "text/plain": [
       "True"
      ]
     },
     "execution_count": 9,
     "metadata": {},
     "output_type": "execute_result"
    }
   ],
   "source": [
    "myTree.search(55)"
   ]
  },
  {
   "cell_type": "code",
   "execution_count": 25,
   "metadata": {},
   "outputs": [
    {
     "name": "stdout",
     "output_type": "stream",
     "text": [
      "45 55 57 59 60 67 100 101 107 \n",
      "45 59 57 55 67 101 107 100 60 \n",
      "60 55 100 45 57 67 107 59 101 "
     ]
    }
   ],
   "source": [
    "myTree.inorder()\n",
    "print()\n",
    "myTree.postorder()\n",
    "print()\n",
    "myTree.breath_first()"
   ]
  },
  {
   "cell_type": "code",
   "execution_count": 26,
   "metadata": {},
   "outputs": [],
   "source": [
    "def findMin(head):\n",
    "    if head == None:\n",
    "        return None\n",
    "    cur = head\n",
    "    while cur.left != None:\n",
    "        cur = cur.left\n",
    "    return cur.data"
   ]
  },
  {
   "cell_type": "code",
   "execution_count": 27,
   "metadata": {},
   "outputs": [
    {
     "data": {
      "text/plain": [
       "45"
      ]
     },
     "execution_count": 27,
     "metadata": {},
     "output_type": "execute_result"
    }
   ],
   "source": [
    "findMin(myTree.root)"
   ]
  },
  {
   "cell_type": "code",
   "execution_count": 28,
   "metadata": {},
   "outputs": [],
   "source": [
    "def findLCA(head, num1, num2): # assuming num1 and num2 exists in bst\n",
    "    if head == None:\n",
    "        return None\n",
    "    cur = head\n",
    "    while True:\n",
    "        if (num1 <= cur.data and num2 >= cur.data) or (num1 >= cur.data and num2 <= cur.data):\n",
    "            return cur.data\n",
    "        elif num1 < cur.data:\n",
    "            cur = cur.left\n",
    "        else:\n",
    "            cur = cur.right"
   ]
  },
  {
   "cell_type": "code",
   "execution_count": 32,
   "metadata": {},
   "outputs": [
    {
     "data": {
      "text/plain": [
       "55"
      ]
     },
     "execution_count": 32,
     "metadata": {},
     "output_type": "execute_result"
    }
   ],
   "source": [
    "findLCA(myTree.root, 55, 57)"
   ]
  },
  {
   "cell_type": "code",
   "execution_count": 33,
   "metadata": {},
   "outputs": [
    {
     "data": {
      "text/plain": [
       "[10, 20, 30, 40, 50]"
      ]
     },
     "execution_count": 33,
     "metadata": {},
     "output_type": "execute_result"
    }
   ],
   "source": [
    "[10, 20, 30] + [40, 50]"
   ]
  },
  {
   "cell_type": "code",
   "execution_count": 38,
   "metadata": {},
   "outputs": [],
   "source": [
    "def inorder(head): # O(n)\n",
    "    if head == None:\n",
    "        return []\n",
    "    res = inorder(head.left) + [head.data] + inorder(head.right)\n",
    "    return res\n",
    "\n",
    "def finkKthSmallest(head, k): # O(n)\n",
    "    res = inorder(head) # O(n)\n",
    "    return res[k-1] # O(1)"
   ]
  },
  {
   "cell_type": "code",
   "execution_count": 41,
   "metadata": {},
   "outputs": [
    {
     "data": {
      "text/plain": [
       "57"
      ]
     },
     "execution_count": 41,
     "metadata": {},
     "output_type": "execute_result"
    }
   ],
   "source": [
    "finkKthSmallest(myTree.root, 3)"
   ]
  },
  {
   "cell_type": "code",
   "execution_count": 42,
   "metadata": {},
   "outputs": [],
   "source": [
    "def findAllAncestors(head, val):\n",
    "    if head == None:\n",
    "        return []\n",
    "    cur = head\n",
    "    res = []\n",
    "    while cur != None:\n",
    "        res.append(cur.data)\n",
    "        if cur.data == val:\n",
    "            return res\n",
    "        elif val < cur.data:\n",
    "            cur = cur.left\n",
    "        else:\n",
    "            cur = cur.right\n",
    "    return []"
   ]
  },
  {
   "cell_type": "code",
   "execution_count": 45,
   "metadata": {},
   "outputs": [
    {
     "data": {
      "text/plain": [
       "[60, 100, 107]"
      ]
     },
     "execution_count": 45,
     "metadata": {},
     "output_type": "execute_result"
    }
   ],
   "source": [
    "findAllAncestors(myTree.root, 107)"
   ]
  },
  {
   "cell_type": "code",
   "execution_count": null,
   "metadata": {},
   "outputs": [],
   "source": []
  }
 ],
 "metadata": {
  "kernelspec": {
   "display_name": "DSA201",
   "language": "python",
   "name": "python3"
  },
  "language_info": {
   "codemirror_mode": {
    "name": "ipython",
    "version": 3
   },
   "file_extension": ".py",
   "mimetype": "text/x-python",
   "name": "python",
   "nbconvert_exporter": "python",
   "pygments_lexer": "ipython3",
   "version": "3.12.4"
  }
 },
 "nbformat": 4,
 "nbformat_minor": 2
}
