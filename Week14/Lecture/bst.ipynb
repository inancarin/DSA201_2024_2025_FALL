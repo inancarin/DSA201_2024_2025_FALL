{
 "cells": [
  {
   "cell_type": "code",
   "execution_count": 1,
   "metadata": {},
   "outputs": [],
   "source": [
    "class Node:\n",
    "    def __init__(self, data):\n",
    "        self.data = data\n",
    "        self.left = None\n",
    "        self.right = None"
   ]
  },
  {
   "cell_type": "code",
   "execution_count": 5,
   "metadata": {},
   "outputs": [],
   "source": [
    "root = Node(10)\n",
    "root.left = Node(5)\n",
    "root.right = Node(12)\n",
    "root.right.left = Node(8) # after adding this, it's not a BST anymore"
   ]
  },
  {
   "cell_type": "code",
   "execution_count": 11,
   "metadata": {},
   "outputs": [],
   "source": [
    "class BST:\n",
    "    def __init__(self):\n",
    "        self.root = None\n",
    "    \n",
    "    def insert(self, val):\n",
    "        newNode = Node(val)\n",
    "        if self.root == None:\n",
    "            self.root = newNode\n",
    "        else:\n",
    "            current = self.root\n",
    "            while current != None:\n",
    "                parent = current\n",
    "                if parent.data == val:\n",
    "                    print(val, \"is duplicated, and not adding it to BST\")\n",
    "                    return\n",
    "                elif val < parent.data:\n",
    "                    current = current.left\n",
    "                elif val > parent.data:\n",
    "                    current = current.right\n",
    "            if parent.data > val:\n",
    "                parent.left = newNode\n",
    "            else:\n",
    "                parent.right = newNode\n",
    "    \n",
    "    def search(self, val):\n",
    "        if self.root == None:\n",
    "            return False\n",
    "        \n",
    "        current = self.root\n",
    "        while current != None:\n",
    "            if current.data == val:\n",
    "                return True\n",
    "            elif val < current.data:\n",
    "                current = current.left\n",
    "            elif val > current.data:\n",
    "                current = current.right\n",
    "        return False"
   ]
  },
  {
   "cell_type": "code",
   "execution_count": 12,
   "metadata": {},
   "outputs": [
    {
     "name": "stdout",
     "output_type": "stream",
     "text": [
      "12 is duplicated, and not adding it to BST\n"
     ]
    }
   ],
   "source": [
    "myTree = BST()\n",
    "myTree.insert(10)\n",
    "myTree.insert(5)\n",
    "myTree.insert(12)\n",
    "myTree.insert(3)\n",
    "myTree.insert(6)\n",
    "myTree.insert(12)"
   ]
  },
  {
   "cell_type": "code",
   "execution_count": 18,
   "metadata": {},
   "outputs": [
    {
     "data": {
      "text/plain": [
       "False"
      ]
     },
     "execution_count": 18,
     "metadata": {},
     "output_type": "execute_result"
    }
   ],
   "source": [
    "myTree.search(7)"
   ]
  },
  {
   "cell_type": "code",
   "execution_count": null,
   "metadata": {},
   "outputs": [],
   "source": []
  }
 ],
 "metadata": {
  "kernelspec": {
   "display_name": "DSA201",
   "language": "python",
   "name": "python3"
  },
  "language_info": {
   "codemirror_mode": {
    "name": "ipython",
    "version": 3
   },
   "file_extension": ".py",
   "mimetype": "text/x-python",
   "name": "python",
   "nbconvert_exporter": "python",
   "pygments_lexer": "ipython3",
   "version": "3.12.4"
  }
 },
 "nbformat": 4,
 "nbformat_minor": 2
}
