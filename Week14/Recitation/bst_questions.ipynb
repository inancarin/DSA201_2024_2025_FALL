{
 "cells": [
  {
   "cell_type": "code",
   "execution_count": 34,
   "metadata": {},
   "outputs": [],
   "source": [
    "class Node:\n",
    "    def __init__(self, data):\n",
    "        self.data = data\n",
    "        self.left = None\n",
    "        self.right = None"
   ]
  },
  {
   "cell_type": "code",
   "execution_count": 35,
   "metadata": {},
   "outputs": [],
   "source": [
    "class BST:\n",
    "    def __init__(self):\n",
    "        self.root = None\n",
    "    \n",
    "    def insert(self, val):\n",
    "        newNode = Node(val)\n",
    "        if self.root == None:\n",
    "            self.root = newNode\n",
    "        else:\n",
    "            current = self.root\n",
    "            while current != None:\n",
    "                parent = current\n",
    "                if current.data == val:\n",
    "                    return # there cannot be dupliacated values\n",
    "                elif current.data < val:\n",
    "                    current = current.right\n",
    "                else:\n",
    "                    current = current.left\n",
    "            if parent.data < val:\n",
    "                parent.right = newNode\n",
    "            else:\n",
    "                parent.left = newNode \n",
    "    \n",
    "    def search(self, val):\n",
    "        current = self.root\n",
    "        while current != None:\n",
    "            if current.data == val:\n",
    "                return True\n",
    "            elif current.data < val:\n",
    "                current = current.right\n",
    "            else:\n",
    "                current = current.left\n",
    "        return False\n",
    "\n",
    "    def inorderHelper(self, root):\n",
    "        if root == None:\n",
    "            return\n",
    "        self.inorderHelper(root.left)\n",
    "        print(root.data, end=\" \")\n",
    "        self.inorderHelper(root.right)\n",
    "    \n",
    "    def inorder(self):\n",
    "        print(\"Inorder: \", end=\"\")\n",
    "        self.inorderHelper(self.root)\n",
    "        print()\n",
    "    \n",
    "    def postorderHelper(self, root):\n",
    "        if root == None:\n",
    "            return\n",
    "        self.postorderHelper(root.left)\n",
    "        self.postorderHelper(root.right)\n",
    "        print(root.data, end=\" \")\n",
    "    \n",
    "    def postorder(self):\n",
    "        print(\"Postorder: \", end=\"\")\n",
    "        self.postorderHelper(self.root)\n",
    "        print()\n",
    "    \n",
    "    def preorderHelper(self, root):\n",
    "        if root == None:\n",
    "            return\n",
    "        print(root.data, end=\" \")\n",
    "        self.preorderHelper(root.left)\n",
    "        self.preorderHelper(root.right)\n",
    "    \n",
    "    def preorder(self):\n",
    "        print(\"Preorder: \", end=\"\")\n",
    "        self.preorderHelper(self.root)\n",
    "        print()\n",
    "    \n",
    "    def depthFirstSearch(self):\n",
    "        print(\"Depth-first: \", end=\"\")\n",
    "    \n",
    "    def breadthFirst(self):\n",
    "        print(\"Bredth-first: \", end=\"\")\n",
    "        myList = []\n",
    "        if self.root != None:\n",
    "            myList.append(self.root)\n",
    "        while len(myList) > 0:\n",
    "            temp = []\n",
    "            for elem in myList:\n",
    "                print(elem.data, end=\" \")\n",
    "                if elem.left != None:\n",
    "                    temp.append(elem.left)\n",
    "                if elem.right != None:\n",
    "                    temp.append(elem.right)\n",
    "            myList = temp\n",
    "        print()\n",
    "    \n",
    "    def delete(self, val):\n",
    "        parent = None\n",
    "        current = self.root\n",
    "\n",
    "        # Locate the node to delete and its parent\n",
    "        while current != None and current.data != val:\n",
    "            parent = current\n",
    "            if val < current.data:\n",
    "                current = current.left\n",
    "            else:\n",
    "                current = current.right\n",
    "\n",
    "        if current == None:  # Element not found in the tree\n",
    "            return False\n",
    "\n",
    "        # Case 1: Node to delete has no left child\n",
    "        if current.left == None:\n",
    "            if parent == None:  # Deleting the root node\n",
    "                self.root = current.right\n",
    "            elif parent.left == current:\n",
    "                parent.left = current.right\n",
    "            else:\n",
    "                parent.right = current.right\n",
    "\n",
    "        # Case 2: Node to delete has a left child\n",
    "        else:\n",
    "            # Find the in-order predecessor (rightmost node in the left subtree)\n",
    "            predecessor_parent = current\n",
    "            predecessor = current.left\n",
    "            while predecessor.right != None:\n",
    "                predecessor_parent = predecessor\n",
    "                predecessor = predecessor.right\n",
    "\n",
    "            # Replace current's data with predecessor's data\n",
    "            current.data = predecessor.data\n",
    "\n",
    "            # Remove the predecessor node\n",
    "            if predecessor_parent.right == predecessor:\n",
    "                predecessor_parent.right = predecessor.left\n",
    "            else:  # Special case: predecessor is the direct left child\n",
    "                predecessor_parent.left = predecessor.left\n",
    "\n",
    "        return True"
   ]
  },
  {
   "cell_type": "markdown",
   "metadata": {},
   "source": [
    "# Ex1: Find Max Value in BST\n",
    "\n",
    "Write a function (not method) to find max value in a Binary Search Tree.\n"
   ]
  },
  {
   "cell_type": "code",
   "execution_count": 36,
   "metadata": {},
   "outputs": [],
   "source": [
    "def findMax(head):\n",
    "    # fill this part"
   ]
  },
  {
   "cell_type": "code",
   "execution_count": 37,
   "metadata": {},
   "outputs": [
    {
     "name": "stdout",
     "output_type": "stream",
     "text": [
      "80\n"
     ]
    }
   ],
   "source": [
    "bst = BST()\n",
    "bst.insert(20)\n",
    "bst.insert(10)\n",
    "bst.insert(40)\n",
    "bst.insert(16)\n",
    "bst.insert(30)\n",
    "bst.insert(80)\n",
    "bst.insert(14)\n",
    "bst.insert(27)\n",
    "bst.insert(50)\n",
    "\n",
    "print(findMax(bst.root))"
   ]
  },
  {
   "cell_type": "markdown",
   "metadata": {},
   "source": [
    "# Ex2: Range Search in a BST\n",
    "\n",
    "Write a function to find all values in a BST that lie within a given range ```[low, high]```."
   ]
  },
  {
   "cell_type": "code",
   "execution_count": 38,
   "metadata": {},
   "outputs": [],
   "source": [
    "def RangeSearch(head, low, high):\n",
    "    # fill this part"
   ]
  },
  {
   "cell_type": "code",
   "execution_count": 47,
   "metadata": {},
   "outputs": [
    {
     "name": "stdout",
     "output_type": "stream",
     "text": [
      "16 20 27 30 "
     ]
    }
   ],
   "source": [
    "bst = BST()\n",
    "bst.insert(20)\n",
    "bst.insert(10)\n",
    "bst.insert(40)\n",
    "bst.insert(16)\n",
    "bst.insert(30)\n",
    "bst.insert(80)\n",
    "bst.insert(14)\n",
    "bst.insert(27)\n",
    "bst.insert(50)\n",
    "\n",
    "RangeSearch(bst.root, 16, 30)"
   ]
  },
  {
   "cell_type": "markdown",
   "metadata": {},
   "source": [
    "# Ex3: Check if a Tree is a Valid BST\n",
    "\n",
    "Write a function that determines if a given binary tree is a valid Binary Search Tree.\n",
    "\n",
    "Note that\n",
    "- ```float('-inf')``` represents the smallest possible number (negative infinity).\n",
    "- ```float('inf')``` represents the largest possible number (positive infinity)."
   ]
  },
  {
   "cell_type": "code",
   "execution_count": 41,
   "metadata": {},
   "outputs": [],
   "source": [
    "def checkValidBST(head, low, high):\n",
    "    # fill this part"
   ]
  },
  {
   "cell_type": "code",
   "execution_count": 42,
   "metadata": {},
   "outputs": [
    {
     "name": "stdout",
     "output_type": "stream",
     "text": [
      "True\n"
     ]
    }
   ],
   "source": [
    "# Example of a valid BST\n",
    "root = Node(10)\n",
    "root.left = Node(5)\n",
    "root.right = Node(15)\n",
    "root.left.left = Node(3)\n",
    "root.left.right = Node(7)\n",
    "root.right.left = Node(12)\n",
    "root.right.right = Node(18)\n",
    "print(checkValidBST(root, float('-inf'), float('inf')))"
   ]
  },
  {
   "cell_type": "code",
   "execution_count": 43,
   "metadata": {},
   "outputs": [
    {
     "name": "stdout",
     "output_type": "stream",
     "text": [
      "False\n"
     ]
    }
   ],
   "source": [
    "# Example of an invalid BST\n",
    "root = Node(10)\n",
    "root.left = Node(5)\n",
    "root.right = Node(15)\n",
    "root.left.left = Node(3)\n",
    "root.left.right = Node(7)\n",
    "root.right.left = Node(12)\n",
    "root.right.right = Node(14)\n",
    "print(checkValidBST(root, float('-inf'), float('inf')))"
   ]
  },
  {
   "cell_type": "markdown",
   "metadata": {},
   "source": [
    "# Ex4: Find the Deepest Node in a BST\n",
    "\n",
    "Write a function to print the value in the deepest node in a BST. The deepest node is the one at the maximum depth. If there are multiple deepest nodes, then you can print any of them."
   ]
  },
  {
   "cell_type": "code",
   "execution_count": 49,
   "metadata": {},
   "outputs": [],
   "source": [
    "def findDeepestNodeValue(head):\n",
    "    # fill this part"
   ]
  },
  {
   "cell_type": "code",
   "execution_count": 60,
   "metadata": {},
   "outputs": [
    {
     "name": "stdout",
     "output_type": "stream",
     "text": [
      "6\n"
     ]
    }
   ],
   "source": [
    "root = Node(10)\n",
    "root.left = Node(5)\n",
    "root.right = Node(15)\n",
    "root.left.left = Node(3)\n",
    "root.left.right = Node(7)\n",
    "root.left.right.left = Node(6)\n",
    "root.right.left = Node(12)\n",
    "root.right.right = Node(18)\n",
    "\n",
    "findDeepestNodeValue(root)"
   ]
  },
  {
   "cell_type": "code",
   "execution_count": null,
   "metadata": {},
   "outputs": [],
   "source": []
  }
 ],
 "metadata": {
  "kernelspec": {
   "display_name": "DSA201",
   "language": "python",
   "name": "python3"
  },
  "language_info": {
   "codemirror_mode": {
    "name": "ipython",
    "version": 3
   },
   "file_extension": ".py",
   "mimetype": "text/x-python",
   "name": "python",
   "nbconvert_exporter": "python",
   "pygments_lexer": "ipython3",
   "version": "3.12.7"
  }
 },
 "nbformat": 4,
 "nbformat_minor": 2
}
