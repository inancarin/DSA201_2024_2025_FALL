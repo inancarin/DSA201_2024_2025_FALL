{
 "cells": [
  {
   "cell_type": "code",
   "execution_count": 1,
   "metadata": {},
   "outputs": [
    {
     "name": "stdout",
     "output_type": "stream",
     "text": [
      "hello guys!\n"
     ]
    }
   ],
   "source": [
    "print(\"hello guys!\")"
   ]
  },
  {
   "cell_type": "code",
   "execution_count": 2,
   "metadata": {},
   "outputs": [
    {
     "name": "stdout",
     "output_type": "stream",
     "text": [
      "hello again\n"
     ]
    }
   ],
   "source": [
    "print(\"hello again\")"
   ]
  },
  {
   "cell_type": "code",
   "execution_count": 11,
   "metadata": {},
   "outputs": [
    {
     "data": {
      "text/plain": [
       "1"
      ]
     },
     "execution_count": 11,
     "metadata": {},
     "output_type": "execute_result"
    }
   ],
   "source": [
    "def findTheMostCommon(myList):\n",
    "    d = {}\n",
    "    for elem in myList:\n",
    "        if elem not in d:\n",
    "            d[elem] = 1\n",
    "        else:\n",
    "            d[elem] += 1\n",
    "    \n",
    "    maxValue = max(d.values())\n",
    "    allResults = []\n",
    "    for k, v in d.items():\n",
    "        if v == maxValue:\n",
    "            allResults.append(k)\n",
    "    \n",
    "    return min(allResults)\n",
    "\n",
    "findTheMostCommon([1,1,2,2,3])"
   ]
  }
 ],
 "metadata": {
  "kernelspec": {
   "display_name": "DSA201",
   "language": "python",
   "name": "python3"
  },
  "language_info": {
   "codemirror_mode": {
    "name": "ipython",
    "version": 3
   },
   "file_extension": ".py",
   "mimetype": "text/x-python",
   "name": "python",
   "nbconvert_exporter": "python",
   "pygments_lexer": "ipython3",
   "version": "3.12.4"
  }
 },
 "nbformat": 4,
 "nbformat_minor": 2
}
