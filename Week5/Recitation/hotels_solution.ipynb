{
  "cells": [
    {
      "cell_type": "code",
      "execution_count": 1,
      "metadata": {
        "id": "CpGXaJ1mbUul"
      },
      "outputs": [],
      "source": [
        "import pandas as pd\n",
        "import numpy as np"
      ]
    },
    {
      "cell_type": "code",
      "execution_count": 2,
      "metadata": {
        "colab": {
          "base_uri": "https://localhost:8080/",
          "height": 206
        },
        "id": "nv8Adc5zbgpj",
        "outputId": "e0bed703-7815-463e-bca7-3cbf4e0d105d"
      },
      "outputs": [
        {
          "data": {
            "text/html": [
              "<div>\n",
              "<style scoped>\n",
              "    .dataframe tbody tr th:only-of-type {\n",
              "        vertical-align: middle;\n",
              "    }\n",
              "\n",
              "    .dataframe tbody tr th {\n",
              "        vertical-align: top;\n",
              "    }\n",
              "\n",
              "    .dataframe thead th {\n",
              "        text-align: right;\n",
              "    }\n",
              "</style>\n",
              "<table border=\"1\" class=\"dataframe\">\n",
              "  <thead>\n",
              "    <tr style=\"text-align: right;\">\n",
              "      <th></th>\n",
              "      <th>ID</th>\n",
              "      <th>Hotel</th>\n",
              "    </tr>\n",
              "  </thead>\n",
              "  <tbody>\n",
              "    <tr>\n",
              "      <th>0</th>\n",
              "      <td>a13c</td>\n",
              "      <td>Hotel Maria Cristina</td>\n",
              "    </tr>\n",
              "    <tr>\n",
              "      <th>1</th>\n",
              "      <td>149f</td>\n",
              "      <td>Four Seasons Resort</td>\n",
              "    </tr>\n",
              "    <tr>\n",
              "      <th>2</th>\n",
              "      <td>45da</td>\n",
              "      <td>Belmond Grand Hotel Timeo</td>\n",
              "    </tr>\n",
              "    <tr>\n",
              "      <th>3</th>\n",
              "      <td>b60d</td>\n",
              "      <td>Esperanza</td>\n",
              "    </tr>\n",
              "    <tr>\n",
              "      <th>4</th>\n",
              "      <td>da34</td>\n",
              "      <td>Brewery Gulch Inn</td>\n",
              "    </tr>\n",
              "  </tbody>\n",
              "</table>\n",
              "</div>"
            ],
            "text/plain": [
              "     ID                      Hotel\n",
              "0  a13c       Hotel Maria Cristina\n",
              "1  149f        Four Seasons Resort\n",
              "2  45da  Belmond Grand Hotel Timeo\n",
              "3  b60d                  Esperanza\n",
              "4  da34          Brewery Gulch Inn"
            ]
          },
          "execution_count": 2,
          "metadata": {},
          "output_type": "execute_result"
        }
      ],
      "source": [
        "hotels = pd.read_table(\"hotels.txt\", header=None, names=[\"ID\", \"Hotel\"])\n",
        "hotels.head()"
      ]
    },
    {
      "cell_type": "code",
      "execution_count": 3,
      "metadata": {
        "colab": {
          "base_uri": "https://localhost:8080/",
          "height": 206
        },
        "id": "rTkXLyuNbmke",
        "outputId": "0aa67dc9-0d35-4679-8169-f15519023445"
      },
      "outputs": [
        {
          "data": {
            "text/html": [
              "<div>\n",
              "<style scoped>\n",
              "    .dataframe tbody tr th:only-of-type {\n",
              "        vertical-align: middle;\n",
              "    }\n",
              "\n",
              "    .dataframe tbody tr th {\n",
              "        vertical-align: top;\n",
              "    }\n",
              "\n",
              "    .dataframe thead th {\n",
              "        text-align: right;\n",
              "    }\n",
              "</style>\n",
              "<table border=\"1\" class=\"dataframe\">\n",
              "  <thead>\n",
              "    <tr style=\"text-align: right;\">\n",
              "      <th></th>\n",
              "      <th>username</th>\n",
              "      <th>ID</th>\n",
              "      <th>rating</th>\n",
              "    </tr>\n",
              "  </thead>\n",
              "  <tbody>\n",
              "    <tr>\n",
              "      <th>0</th>\n",
              "      <td>prejudicednorman</td>\n",
              "      <td>5791</td>\n",
              "      <td>3</td>\n",
              "    </tr>\n",
              "    <tr>\n",
              "      <th>1</th>\n",
              "      <td>imaginaryscooner</td>\n",
              "      <td>aa4a</td>\n",
              "      <td>4</td>\n",
              "    </tr>\n",
              "    <tr>\n",
              "      <th>2</th>\n",
              "      <td>kookybob</td>\n",
              "      <td>f48e</td>\n",
              "      <td>1</td>\n",
              "    </tr>\n",
              "    <tr>\n",
              "      <th>3</th>\n",
              "      <td>uniquehombre</td>\n",
              "      <td>23d1</td>\n",
              "      <td>4</td>\n",
              "    </tr>\n",
              "    <tr>\n",
              "      <th>4</th>\n",
              "      <td>carefreeted</td>\n",
              "      <td>5791</td>\n",
              "      <td>2</td>\n",
              "    </tr>\n",
              "  </tbody>\n",
              "</table>\n",
              "</div>"
            ],
            "text/plain": [
              "           username    ID  rating\n",
              "0  prejudicednorman  5791       3\n",
              "1  imaginaryscooner  aa4a       4\n",
              "2          kookybob  f48e       1\n",
              "3      uniquehombre  23d1       4\n",
              "4       carefreeted  5791       2"
            ]
          },
          "execution_count": 3,
          "metadata": {},
          "output_type": "execute_result"
        }
      ],
      "source": [
        "reviews = pd.read_table(\"reviews.txt\", header=None, names=[\"username\", \"ID\", \"rating\"])\n",
        "reviews.head()"
      ]
    },
    {
      "cell_type": "code",
      "execution_count": 8,
      "metadata": {
        "colab": {
          "base_uri": "https://localhost:8080/",
          "height": 35
        },
        "id": "sU8vueZjb2nK",
        "outputId": "5ec8f976-8292-43c1-95c3-11239874c20d"
      },
      "outputs": [
        {
          "name": "stdout",
          "output_type": "stream",
          "text": [
            "The user who posted the most reviews is kookybob\n"
          ]
        }
      ],
      "source": [
        "mostFreqUser = reviews[\"username\"].value_counts().index[0]\n",
        "print(\"The user who posted the most reviews is\", mostFreqUser)"
      ]
    },
    {
      "cell_type": "code",
      "execution_count": 5,
      "metadata": {
        "colab": {
          "base_uri": "https://localhost:8080/",
          "height": 677
        },
        "id": "jY4r0OIQcC5b",
        "outputId": "5be69191-f06e-4b77-ec88-5c372689b96f"
      },
      "outputs": [
        {
          "data": {
            "text/html": [
              "<div>\n",
              "<style scoped>\n",
              "    .dataframe tbody tr th:only-of-type {\n",
              "        vertical-align: middle;\n",
              "    }\n",
              "\n",
              "    .dataframe tbody tr th {\n",
              "        vertical-align: top;\n",
              "    }\n",
              "\n",
              "    .dataframe thead th {\n",
              "        text-align: right;\n",
              "    }\n",
              "</style>\n",
              "<table border=\"1\" class=\"dataframe\">\n",
              "  <thead>\n",
              "    <tr style=\"text-align: right;\">\n",
              "      <th></th>\n",
              "      <th>username</th>\n",
              "      <th>ID</th>\n",
              "      <th>rating</th>\n",
              "      <th>Hotel</th>\n",
              "    </tr>\n",
              "  </thead>\n",
              "  <tbody>\n",
              "    <tr>\n",
              "      <th>0</th>\n",
              "      <td>prejudicednorman</td>\n",
              "      <td>5791</td>\n",
              "      <td>3</td>\n",
              "      <td>The Lanesborough</td>\n",
              "    </tr>\n",
              "    <tr>\n",
              "      <th>1</th>\n",
              "      <td>imaginaryscooner</td>\n",
              "      <td>aa4a</td>\n",
              "      <td>4</td>\n",
              "      <td>Planters Inn</td>\n",
              "    </tr>\n",
              "    <tr>\n",
              "      <th>2</th>\n",
              "      <td>kookybob</td>\n",
              "      <td>f48e</td>\n",
              "      <td>1</td>\n",
              "      <td>Aman</td>\n",
              "    </tr>\n",
              "    <tr>\n",
              "      <th>3</th>\n",
              "      <td>uniquehombre</td>\n",
              "      <td>23d1</td>\n",
              "      <td>4</td>\n",
              "      <td>Pendry</td>\n",
              "    </tr>\n",
              "    <tr>\n",
              "      <th>4</th>\n",
              "      <td>carefreeted</td>\n",
              "      <td>5791</td>\n",
              "      <td>2</td>\n",
              "      <td>The Lanesborough</td>\n",
              "    </tr>\n",
              "    <tr>\n",
              "      <th>5</th>\n",
              "      <td>preciouslegend</td>\n",
              "      <td>3a4b</td>\n",
              "      <td>5</td>\n",
              "      <td>Taj Diplomatic Enclave</td>\n",
              "    </tr>\n",
              "    <tr>\n",
              "      <th>6</th>\n",
              "      <td>kookybob</td>\n",
              "      <td>50ab</td>\n",
              "      <td>1</td>\n",
              "      <td>The Setai</td>\n",
              "    </tr>\n",
              "    <tr>\n",
              "      <th>7</th>\n",
              "      <td>dotingoutlaw</td>\n",
              "      <td>1ad3</td>\n",
              "      <td>4</td>\n",
              "      <td>Katikies</td>\n",
              "    </tr>\n",
              "    <tr>\n",
              "      <th>8</th>\n",
              "      <td>kookybob</td>\n",
              "      <td>1fd2</td>\n",
              "      <td>2</td>\n",
              "      <td>Sol y Luna</td>\n",
              "    </tr>\n",
              "    <tr>\n",
              "      <th>9</th>\n",
              "      <td>excitedcarrier</td>\n",
              "      <td>23d1</td>\n",
              "      <td>5</td>\n",
              "      <td>Pendry</td>\n",
              "    </tr>\n",
              "    <tr>\n",
              "      <th>10</th>\n",
              "      <td>noteworthymom</td>\n",
              "      <td>340f</td>\n",
              "      <td>5</td>\n",
              "      <td>Hewing Hotel</td>\n",
              "    </tr>\n",
              "    <tr>\n",
              "      <th>11</th>\n",
              "      <td>carefreeted</td>\n",
              "      <td>340f</td>\n",
              "      <td>3</td>\n",
              "      <td>Hewing Hotel</td>\n",
              "    </tr>\n",
              "    <tr>\n",
              "      <th>12</th>\n",
              "      <td>prejucidednorman</td>\n",
              "      <td>1fd2</td>\n",
              "      <td>2</td>\n",
              "      <td>Sol y Luna</td>\n",
              "    </tr>\n",
              "    <tr>\n",
              "      <th>13</th>\n",
              "      <td>kookybob</td>\n",
              "      <td>aa4a</td>\n",
              "      <td>5</td>\n",
              "      <td>Planters Inn</td>\n",
              "    </tr>\n",
              "    <tr>\n",
              "      <th>14</th>\n",
              "      <td>gargantuantrusty</td>\n",
              "      <td>0de3</td>\n",
              "      <td>2</td>\n",
              "      <td>Qualia</td>\n",
              "    </tr>\n",
              "    <tr>\n",
              "      <th>15</th>\n",
              "      <td>priceyscout</td>\n",
              "      <td>f48e</td>\n",
              "      <td>5</td>\n",
              "      <td>Aman</td>\n",
              "    </tr>\n",
              "    <tr>\n",
              "      <th>16</th>\n",
              "      <td>yearlysecretariat</td>\n",
              "      <td>68d3</td>\n",
              "      <td>4</td>\n",
              "      <td>Alila Manggis</td>\n",
              "    </tr>\n",
              "    <tr>\n",
              "      <th>17</th>\n",
              "      <td>carefreeted</td>\n",
              "      <td>f41b</td>\n",
              "      <td>3</td>\n",
              "      <td>Triple Creek Ranch</td>\n",
              "    </tr>\n",
              "    <tr>\n",
              "      <th>18</th>\n",
              "      <td>noteworthymom</td>\n",
              "      <td>50ab</td>\n",
              "      <td>3</td>\n",
              "      <td>The Setai</td>\n",
              "    </tr>\n",
              "    <tr>\n",
              "      <th>19</th>\n",
              "      <td>gargantuantrusty</td>\n",
              "      <td>340f</td>\n",
              "      <td>5</td>\n",
              "      <td>Hewing Hotel</td>\n",
              "    </tr>\n",
              "  </tbody>\n",
              "</table>\n",
              "</div>"
            ],
            "text/plain": [
              "             username    ID  rating                   Hotel\n",
              "0    prejudicednorman  5791       3        The Lanesborough\n",
              "1    imaginaryscooner  aa4a       4            Planters Inn\n",
              "2            kookybob  f48e       1                    Aman\n",
              "3        uniquehombre  23d1       4                  Pendry\n",
              "4         carefreeted  5791       2        The Lanesborough\n",
              "5      preciouslegend  3a4b       5  Taj Diplomatic Enclave\n",
              "6            kookybob  50ab       1               The Setai\n",
              "7        dotingoutlaw  1ad3       4                Katikies\n",
              "8            kookybob  1fd2       2              Sol y Luna\n",
              "9      excitedcarrier  23d1       5                  Pendry\n",
              "10      noteworthymom  340f       5            Hewing Hotel\n",
              "11        carefreeted  340f       3            Hewing Hotel\n",
              "12   prejucidednorman  1fd2       2              Sol y Luna\n",
              "13           kookybob  aa4a       5            Planters Inn\n",
              "14   gargantuantrusty  0de3       2                  Qualia\n",
              "15        priceyscout  f48e       5                    Aman\n",
              "16  yearlysecretariat  68d3       4           Alila Manggis\n",
              "17        carefreeted  f41b       3      Triple Creek Ranch\n",
              "18      noteworthymom  50ab       3               The Setai\n",
              "19   gargantuantrusty  340f       5            Hewing Hotel"
            ]
          },
          "execution_count": 5,
          "metadata": {},
          "output_type": "execute_result"
        }
      ],
      "source": [
        "merged = pd.merge(reviews, hotels, how=\"left\", left_on=\"ID\", right_on=\"ID\")\n",
        "merged"
      ]
    },
    {
      "cell_type": "code",
      "execution_count": 9,
      "metadata": {
        "colab": {
          "base_uri": "https://localhost:8080/",
          "height": 35
        },
        "id": "-G3N-6K2dZVG",
        "outputId": "d4139e58-bb98-43ff-9953-d015685864c3"
      },
      "outputs": [
        {
          "name": "stdout",
          "output_type": "stream",
          "text": [
            "The best hotel: Taj Diplomatic Enclave\n"
          ]
        }
      ],
      "source": [
        "bestHotel = merged.groupby(\"Hotel\")[\"rating\"].mean().sort_values(ascending=False).index[0]\n",
        "print(\"The best hotel:\", bestHotel)"
      ]
    },
    {
      "cell_type": "code",
      "execution_count": 10,
      "metadata": {
        "colab": {
          "base_uri": "https://localhost:8080/"
        },
        "id": "F5BBl0L5d-QE",
        "outputId": "5fea2e24-bf77-4bf4-c04c-b49651467d0c"
      },
      "outputs": [
        {
          "name": "stdout",
          "output_type": "stream",
          "text": [
            "Nobody has rated for this hotel yet.\n",
            "The average rating of the hotel: 4.0\n",
            "The average rating of the hotel: 4.5\n",
            "The average rating of the hotel: 4.3\n",
            "Hotel name does not exist in the database.\n",
            "The average rating of the hotel: 2.0\n",
            "Nobody has rated for this hotel yet.\n",
            "Hotel name does not exist in the database.\n"
          ]
        }
      ],
      "source": [
        "hotel = input(\"Enter a hotel name: \")\n",
        "\n",
        "while hotel != \"quit\":\n",
        "  #hotels[hotels[\"Hotel\"] == hotel].shape[0]\n",
        "  if hotel not in hotels[\"Hotel\"].values:\n",
        "    print(\"Hotel name does not exist in the database.\")\n",
        "  elif hotel not in merged[\"Hotel\"].values:\n",
        "    print(\"Nobody has rated for this hotel yet.\")\n",
        "  else:\n",
        "    #avg_ratings = merged.groupby(\"Hotel\")[\"rating\"].mean()\n",
        "    #print(avg_ratings[hotel])\n",
        "    temp = merged[merged[\"Hotel\"] == hotel]\n",
        "    print(\"The average rating of the hotel:\", format(temp[\"rating\"].mean(), \".1f\"))\n",
        "  hotel = input(\"Enter a hotel name: \")"
      ]
    },
    {
      "cell_type": "code",
      "execution_count": null,
      "metadata": {
        "colab": {
          "base_uri": "https://localhost:8080/"
        },
        "id": "IzvQn3YTjAMf",
        "outputId": "043661b3-1a75-45af-8b11-2594429d8b2c"
      },
      "outputs": [
        {
          "data": {
            "text/plain": [
              "1"
            ]
          },
          "execution_count": 33,
          "metadata": {},
          "output_type": "execute_result"
        }
      ],
      "source": []
    },
    {
      "cell_type": "code",
      "execution_count": null,
      "metadata": {
        "id": "TGzJm0lljlPA"
      },
      "outputs": [],
      "source": []
    }
  ],
  "metadata": {
    "colab": {
      "provenance": []
    },
    "kernelspec": {
      "display_name": "Python 3",
      "name": "python3"
    },
    "language_info": {
      "codemirror_mode": {
        "name": "ipython",
        "version": 3
      },
      "file_extension": ".py",
      "mimetype": "text/x-python",
      "name": "python",
      "nbconvert_exporter": "python",
      "pygments_lexer": "ipython3",
      "version": "3.12.4"
    }
  },
  "nbformat": 4,
  "nbformat_minor": 0
}
