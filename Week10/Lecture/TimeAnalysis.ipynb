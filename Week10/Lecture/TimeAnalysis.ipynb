{
 "cells": [
  {
   "cell_type": "code",
   "execution_count": 4,
   "metadata": {},
   "outputs": [],
   "source": [
    "import numpy as np\n",
    "import matplotlib.pyplot as plt\n",
    "import time"
   ]
  },
  {
   "cell_type": "code",
   "execution_count": 5,
   "metadata": {},
   "outputs": [],
   "source": [
    "def linearSearch(num, myList):\n",
    "    for i in range(0, len(myList)):\n",
    "        if myList[i] == num:\n",
    "            return i\n",
    "       \n",
    "    return -1"
   ]
  },
  {
   "cell_type": "code",
   "execution_count": 6,
   "metadata": {},
   "outputs": [
    {
     "data": {
      "text/plain": [
       "-1"
      ]
     },
     "execution_count": 6,
     "metadata": {},
     "output_type": "execute_result"
    }
   ],
   "source": [
    "linearSearch(14, [10, 5, 12])"
   ]
  },
  {
   "cell_type": "code",
   "execution_count": 7,
   "metadata": {},
   "outputs": [],
   "source": [
    "def binarySearch(num, myList):\n",
    "    left, right = 0, len(myList)-1\n",
    "    while left <= right:\n",
    "        mid = (left + right) // 2\n",
    "        if myList[mid] == num:\n",
    "            return mid\n",
    "        elif myList[mid] > num:\n",
    "            right = mid - 1\n",
    "        else:\n",
    "            left = mid + 1\n",
    "    return -1"
   ]
  },
  {
   "cell_type": "code",
   "execution_count": 8,
   "metadata": {},
   "outputs": [],
   "source": [
    "def binarySearchRecursive(num, myList, left, right):\n",
    "    if left > right:\n",
    "        return -1\n",
    "    if left == right:\n",
    "        if myList[left] == num:\n",
    "            return left\n",
    "        else:\n",
    "            return -1\n",
    "    mid = (left + right) // 2\n",
    "    if myList[mid] == num:\n",
    "        return mid\n",
    "    if myList[mid] > num:\n",
    "        right = mid-1\n",
    "    else:\n",
    "        left = mid + 1\n",
    "    \n",
    "    return binarySearchRecursive(num, myList, left, right)"
   ]
  },
  {
   "cell_type": "code",
   "execution_count": 13,
   "metadata": {},
   "outputs": [
    {
     "data": {
      "text/plain": [
       "array([ 8,  9, 14, 14, 28, 49, 67, 80, 86, 92])"
      ]
     },
     "execution_count": 13,
     "metadata": {},
     "output_type": "execute_result"
    }
   ],
   "source": [
    "a = np.random.randint(1, 100, 10)\n",
    "a.sort()\n",
    "a"
   ]
  },
  {
   "cell_type": "code",
   "execution_count": 12,
   "metadata": {},
   "outputs": [
    {
     "data": {
      "text/plain": [
       "-1"
      ]
     },
     "execution_count": 12,
     "metadata": {},
     "output_type": "execute_result"
    }
   ],
   "source": [
    "a = [10, 5, 12]\n",
    "binarySearchRecursive(15, a, 0, len(a)-1)"
   ]
  },
  {
   "cell_type": "code",
   "execution_count": 9,
   "metadata": {},
   "outputs": [
    {
     "data": {
      "text/plain": [
       "2"
      ]
     },
     "execution_count": 9,
     "metadata": {},
     "output_type": "execute_result"
    }
   ],
   "source": [
    "binarySearch(12, [10, 5, 12])"
   ]
  },
  {
   "cell_type": "code",
   "execution_count": 15,
   "metadata": {},
   "outputs": [
    {
     "name": "stdout",
     "output_type": "stream",
     "text": [
      "Elapsed time is 1.9073486328125e-06 when n is 2\n",
      "Elapsed time is 0.0 when n is 4\n",
      "Elapsed time is 1.1920928955078125e-06 when n is 8\n",
      "Elapsed time is 0.0 when n is 16\n",
      "Elapsed time is 9.5367431640625e-07 when n is 32\n",
      "Elapsed time is 9.5367431640625e-07 when n is 64\n",
      "Elapsed time is 3.0994415283203125e-06 when n is 128\n",
      "Elapsed time is 5.0067901611328125e-06 when n is 256\n",
      "Elapsed time is 1.0967254638671875e-05 when n is 512\n",
      "Elapsed time is 2.5033950805664062e-05 when n is 1024\n",
      "Elapsed time is 5.125999450683594e-05 when n is 2048\n",
      "Elapsed time is 0.00010800361633300781 when n is 4096\n",
      "Elapsed time is 0.00021719932556152344 when n is 8192\n",
      "Elapsed time is 0.00043487548828125 when n is 16384\n",
      "Elapsed time is 0.0008788108825683594 when n is 32768\n",
      "Elapsed time is 0.0017719268798828125 when n is 65536\n",
      "Elapsed time is 0.0036029815673828125 when n is 131072\n",
      "Elapsed time is 0.0068018436431884766 when n is 262144\n",
      "Elapsed time is 0.01324915885925293 when n is 524288\n",
      "Elapsed time is 0.023768186569213867 when n is 1048576\n",
      "Elapsed time is 0.04586005210876465 when n is 2097152\n",
      "Elapsed time is 0.0919489860534668 when n is 4194304\n",
      "Elapsed time is 0.1910548210144043 when n is 8388608\n",
      "Elapsed time is 0.3804609775543213 when n is 16777216\n",
      "Elapsed time is 0.7552430629730225 when n is 33554432\n",
      "Elapsed time is 1.510157823562622 when n is 67108864\n",
      "Elapsed time is 3.11495304107666 when n is 134217728\n",
      "Elapsed time is 6.536808013916016 when n is 268435456\n",
      "Elapsed time is 12.535608053207397 when n is 536870912\n"
     ]
    }
   ],
   "source": [
    "n = 2\n",
    "for i in range(29):\n",
    "    myList = range(1, n, 2) # odd integers\n",
    "    num = 10\n",
    "\n",
    "    start = time.time()\n",
    "    idx = linearSearch(num, myList)\n",
    "    end = time.time()\n",
    "    diff = end - start\n",
    "    print(\"Elapsed time is\", diff, \"when n is\", n)\n",
    "    n *= 2"
   ]
  },
  {
   "cell_type": "code",
   "execution_count": 12,
   "metadata": {},
   "outputs": [
    {
     "name": "stdout",
     "output_type": "stream",
     "text": [
      "Elapsed time is 4.0531158447265625e-06 when n is 2\n",
      "Elapsed time is 9.5367431640625e-07 when n is 4\n",
      "Elapsed time is 9.5367431640625e-07 when n is 8\n",
      "Elapsed time is 9.5367431640625e-07 when n is 16\n",
      "Elapsed time is 9.5367431640625e-07 when n is 32\n",
      "Elapsed time is 9.5367431640625e-07 when n is 64\n",
      "Elapsed time is 7.152557373046875e-07 when n is 128\n",
      "Elapsed time is 9.5367431640625e-07 when n is 256\n",
      "Elapsed time is 7.152557373046875e-07 when n is 512\n",
      "Elapsed time is 2.1457672119140625e-06 when n is 1024\n",
      "Elapsed time is 4.291534423828125e-06 when n is 2048\n",
      "Elapsed time is 3.0994415283203125e-06 when n is 4096\n",
      "Elapsed time is 1.9073486328125e-06 when n is 8192\n",
      "Elapsed time is 1.9073486328125e-06 when n is 16384\n",
      "Elapsed time is 2.1457672119140625e-06 when n is 32768\n",
      "Elapsed time is 3.0994415283203125e-06 when n is 65536\n",
      "Elapsed time is 2.1457672119140625e-06 when n is 131072\n",
      "Elapsed time is 2.86102294921875e-06 when n is 262144\n",
      "Elapsed time is 2.6226043701171875e-06 when n is 524288\n",
      "Elapsed time is 3.0994415283203125e-06 when n is 1048576\n",
      "Elapsed time is 3.0994415283203125e-06 when n is 2097152\n",
      "Elapsed time is 4.0531158447265625e-06 when n is 4194304\n",
      "Elapsed time is 3.0994415283203125e-06 when n is 8388608\n",
      "Elapsed time is 2.86102294921875e-06 when n is 16777216\n",
      "Elapsed time is 3.814697265625e-06 when n is 33554432\n",
      "Elapsed time is 5.0067901611328125e-06 when n is 67108864\n",
      "Elapsed time is 4.0531158447265625e-06 when n is 134217728\n",
      "Elapsed time is 4.291534423828125e-06 when n is 268435456\n"
     ]
    }
   ],
   "source": [
    "n = 2\n",
    "for i in range(28):\n",
    "    myList = range(1, n, 2) # odd integers\n",
    "    num = 10\n",
    "\n",
    "    start = time.time()\n",
    "    idx = binarySearch(num, myList)\n",
    "    end = time.time()\n",
    "    diff = end - start\n",
    "    print(\"Elapsed time is\", diff, \"when n is\", n)\n",
    "    n *= 2"
   ]
  },
  {
   "cell_type": "code",
   "execution_count": 13,
   "metadata": {},
   "outputs": [
    {
     "data": {
      "image/png": "[encoded data removed]",
      "text/plain": [
       "<Figure size 640x480 with 1 Axes>"
      ]
     },
     "metadata": {},
     "output_type": "display_data"
    }
   ],
   "source": [
    "x_val = []\n",
    "y_val_linear = []\n",
    "y_val_binary = []\n",
    "\n",
    "n = 2\n",
    "for i in range(28):\n",
    "    myList = range(1, n, 2) # odd integers\n",
    "    num = 10\n",
    "    x_val.append(n)\n",
    "\n",
    "    start = time.time()\n",
    "    idx = linearSearch(num, myList)\n",
    "    end = time.time()\n",
    "    diff = end - start\n",
    "    y_val_linear.append(diff)\n",
    "\n",
    "    start = time.time()\n",
    "    idx = binarySearch(num, myList)\n",
    "    end = time.time()\n",
    "    diff = end - start\n",
    "    y_val_binary.append(diff)\n",
    "\n",
    "    n *= 2\n",
    "\n",
    "plt.plot(x_val, y_val_linear, label=\"linear\")\n",
    "plt.plot(x_val, y_val_binary, label=\"binary\")\n",
    "plt.xlabel(\"n\")\n",
    "plt.ylabel(\"Time in seconds\")\n",
    "plt.legend()\n",
    "plt.show()"
   ]
  },
  {
   "cell_type": "code",
   "execution_count": 14,
   "metadata": {},
   "outputs": [
    {
     "data": {
      "image/png": "[encoded data removed]",
      "text/plain": [
       "<Figure size 640x480 with 1 Axes>"
      ]
     },
     "metadata": {},
     "output_type": "display_data"
    }
   ],
   "source": [
    "x_val = []\n",
    "y_val_linear = []\n",
    "y_val_binary = []\n",
    "\n",
    "n = 2\n",
    "for i in range(28):\n",
    "    myList = range(1, n, 2) # odd integers\n",
    "    num = 1\n",
    "    x_val.append(n)\n",
    "\n",
    "    start = time.time()\n",
    "    idx = linearSearch(num, myList)\n",
    "    end = time.time()\n",
    "    diff = end - start\n",
    "    y_val_linear.append(diff)\n",
    "\n",
    "    start = time.time()\n",
    "    idx = binarySearch(num, myList)\n",
    "    end = time.time()\n",
    "    diff = end - start\n",
    "    y_val_binary.append(diff)\n",
    "\n",
    "    n *= 2\n",
    "\n",
    "plt.plot(x_val, y_val_linear, label=\"linear\")\n",
    "plt.plot(x_val, y_val_binary, label=\"binary\")\n",
    "plt.xlabel(\"n\")\n",
    "plt.ylabel(\"Time in seconds\")\n",
    "plt.legend()\n",
    "plt.show()"
   ]
  },
  {
   "cell_type": "markdown",
   "metadata": {},
   "source": [
    "# Ex1"
   ]
  },
  {
   "cell_type": "code",
   "execution_count": 27,
   "metadata": {},
   "outputs": [
    {
     "name": "stdout",
     "output_type": "stream",
     "text": [
      "861\n"
     ]
    }
   ],
   "source": [
    "n = 10\n",
    "np.random.seed(42)\n",
    "myList = np.random.randint(1, 1000, n)\n",
    "#max(myList)\n",
    "maxElem = myList[0]\n",
    "for idx in range(1, len(myList)):\n",
    "    if myList[idx] > maxElem:\n",
    "        maxElem = myList[idx]\n",
    "\n",
    "print(maxElem)"
   ]
  },
  {
   "cell_type": "code",
   "execution_count": 26,
   "metadata": {},
   "outputs": [
    {
     "data": {
      "text/plain": [
       "array([103, 436, 861, 271, 107,  72, 701,  21, 615, 122])"
      ]
     },
     "execution_count": 26,
     "metadata": {},
     "output_type": "execute_result"
    }
   ],
   "source": [
    "maxElem = 103 # initial value\n",
    "maxElem = 861\n",
    "myList"
   ]
  },
  {
   "cell_type": "code",
   "execution_count": 28,
   "metadata": {},
   "outputs": [],
   "source": [
    "def findMax(myList):\n",
    "    maxElem = myList[0]\n",
    "    for idx in range(1, len(myList)):\n",
    "        if myList[idx] > maxElem:\n",
    "            maxElem = myList[idx]\n",
    "    \n",
    "    return maxElem"
   ]
  },
  {
   "cell_type": "code",
   "execution_count": 33,
   "metadata": {},
   "outputs": [
    {
     "name": "stdout",
     "output_type": "stream",
     "text": [
      "Elapsed time is 4.576135873794556 when n is 100000000\n",
      "Elapsed time is 9.502879858016968 when n is 200000000\n"
     ]
    }
   ],
   "source": [
    "for n in [10**8, 2*(10**8)]:\n",
    "    np.random.seed(42)\n",
    "    myList = np.random.randint(1, 1000, n)\n",
    "\n",
    "    start = time.time()\n",
    "    maxVal = findMax(myList)\n",
    "    end = time.time()\n",
    "    print(\"Elapsed time is\", end-start, \"when n is\", n)"
   ]
  },
  {
   "cell_type": "code",
   "execution_count": 34,
   "metadata": {},
   "outputs": [],
   "source": [
    "def func1(n):\n",
    "   k = 10\n",
    "   for i in range(n):\n",
    "      k = k+1 "
   ]
  },
  {
   "cell_type": "code",
   "execution_count": 38,
   "metadata": {},
   "outputs": [],
   "source": [
    "def func2(n):\n",
    "   k = 10\n",
    "   for i in range(n):\n",
    "      for j in range(n):\n",
    "         k += i + j"
   ]
  },
  {
   "cell_type": "code",
   "execution_count": 40,
   "metadata": {},
   "outputs": [
    {
     "name": "stdout",
     "output_type": "stream",
     "text": [
      "Elapsed time is 9.5367431640625e-07 when n is 2\n",
      "Elapsed time is 7.152557373046875e-07 when n is 4\n",
      "Elapsed time is 1.6689300537109375e-06 when n is 8\n",
      "Elapsed time is 4.76837158203125e-06 when n is 16\n",
      "Elapsed time is 1.9073486328125e-05 when n is 32\n",
      "Elapsed time is 7.081031799316406e-05 when n is 64\n",
      "Elapsed time is 0.00028514862060546875 when n is 128\n",
      "Elapsed time is 0.0013208389282226562 when n is 256\n",
      "Elapsed time is 0.006217241287231445 when n is 512\n",
      "Elapsed time is 0.024415016174316406 when n is 1024\n",
      "Elapsed time is 0.1066889762878418 when n is 2048\n",
      "Elapsed time is 0.43327784538269043 when n is 4096\n",
      "Elapsed time is 1.7790911197662354 when n is 8192\n",
      "Elapsed time is 6.994457960128784 when n is 16384\n",
      "Elapsed time is 28.4232919216156 when n is 32768\n"
     ]
    }
   ],
   "source": [
    "n = 2\n",
    "for i in range(15):\n",
    "    start = time.time()\n",
    "    func2(n)\n",
    "    end = time.time()\n",
    "    print(\"Elapsed time is\", end-start, \"when n is\", n) \n",
    "    n *= 2"
   ]
  },
  {
   "cell_type": "code",
   "execution_count": 37,
   "metadata": {},
   "outputs": [
    {
     "name": "stdout",
     "output_type": "stream",
     "text": [
      "Elapsed time is 1.1920928955078125e-06 when n is 2\n",
      "Elapsed time is 9.5367431640625e-07 when n is 4\n",
      "Elapsed time is 0.0 when n is 8\n",
      "Elapsed time is 0.0 when n is 16\n",
      "Elapsed time is 9.5367431640625e-07 when n is 32\n",
      "Elapsed time is 7.152557373046875e-07 when n is 64\n",
      "Elapsed time is 1.1920928955078125e-06 when n is 128\n",
      "Elapsed time is 1.9073486328125e-06 when n is 256\n",
      "Elapsed time is 6.9141387939453125e-06 when n is 512\n",
      "Elapsed time is 1.5974044799804688e-05 when n is 1024\n",
      "Elapsed time is 3.5762786865234375e-05 when n is 2048\n",
      "Elapsed time is 7.176399230957031e-05 when n is 4096\n",
      "Elapsed time is 0.0001461505889892578 when n is 8192\n",
      "Elapsed time is 0.00033402442932128906 when n is 16384\n",
      "Elapsed time is 0.0005900859832763672 when n is 32768\n",
      "Elapsed time is 0.0013000965118408203 when n is 65536\n",
      "Elapsed time is 0.0023398399353027344 when n is 131072\n",
      "Elapsed time is 0.004904031753540039 when n is 262144\n",
      "Elapsed time is 0.009001970291137695 when n is 524288\n",
      "Elapsed time is 0.017491817474365234 when n is 1048576\n"
     ]
    }
   ],
   "source": [
    "n = 2\n",
    "for i in range(20):\n",
    "    start = time.time()\n",
    "    func1(n)\n",
    "    end = time.time()\n",
    "    print(\"Elapsed time is\", end-start, \"when n is\", n) \n",
    "    n *= 2"
   ]
  },
  {
   "cell_type": "code",
   "execution_count": 41,
   "metadata": {},
   "outputs": [],
   "source": [
    "def findUniqueNumbersWithAList(myList): # O(n^2)\n",
    "    uniqueNumbers = []\n",
    "    for val in myList: # n times\n",
    "        if val not in uniqueNumbers: # n times in the worst case\n",
    "            uniqueNumbers.append(val)\n",
    "    return len(uniqueNumbers)"
   ]
  },
  {
   "cell_type": "code",
   "execution_count": 47,
   "metadata": {},
   "outputs": [],
   "source": [
    "def findUniqueNumbersWithASet(myList): # O(n)\n",
    "    uniqueNumbers = set()\n",
    "    for val in myList: # n times\n",
    "        if val not in uniqueNumbers: # constant time (1)\n",
    "            uniqueNumbers.add(val)\n",
    "    return len(uniqueNumbers)"
   ]
  },
  {
   "cell_type": "code",
   "execution_count": 49,
   "metadata": {},
   "outputs": [
    {
     "name": "stdout",
     "output_type": "stream",
     "text": [
      "List: Elapsed time is 38.80997681617737 when n is 100000\n",
      "Set: Elapsed time is 0.008053779602050781 when n is 100000\n",
      "List: Elapsed time is 156.09348487854004 when n is 200000\n",
      "Set: Elapsed time is 0.0188448429107666 when n is 200000\n"
     ]
    }
   ],
   "source": [
    "for n in [100000, 200000]:\n",
    "    np.random.seed(42)\n",
    "    myList = np.random.randint(1, 10000000, n)\n",
    "\n",
    "    start = time.time()\n",
    "    res = findUniqueNumbersWithAList(myList)\n",
    "    end = time.time()\n",
    "    print(\"List: Elapsed time is\", end-start, \"when n is\", n)\n",
    "\n",
    "    start = time.time()\n",
    "    res = findUniqueNumbersWithASet(myList)\n",
    "    end = time.time()\n",
    "    print(\"Set: Elapsed time is\", end-start, \"when n is\", n)"
   ]
  },
  {
   "cell_type": "code",
   "execution_count": 52,
   "metadata": {},
   "outputs": [
    {
     "data": {
      "image/png": "[encoded data removed]",
      "text/plain": [
       "<Figure size 640x480 with 1 Axes>"
      ]
     },
     "metadata": {},
     "output_type": "display_data"
    }
   ],
   "source": [
    "x_vals = []\n",
    "y_vals_list = []\n",
    "y_vals_set = [] \n",
    "n = 2\n",
    "for i in range(15):\n",
    "    np.random.seed(42)\n",
    "    myList = np.random.randint(1, 10000000, n)\n",
    "\n",
    "    x_vals.append(n)\n",
    "\n",
    "    start = time.time()\n",
    "    res = findUniqueNumbersWithAList(myList)\n",
    "    end = time.time()\n",
    "    diff = end - start\n",
    "    y_vals_list.append(diff)\n",
    "\n",
    "    start = time.time()\n",
    "    res = findUniqueNumbersWithASet(myList)\n",
    "    end = time.time()\n",
    "    diff = end - start\n",
    "    y_vals_set.append(diff)\n",
    "\n",
    "    n *= 2\n",
    "\n",
    "plt.plot(x_vals, y_vals_list, label=\"list\")\n",
    "plt.plot(x_vals, y_vals_set, label=\"set\")\n",
    "plt.xlabel(\"n\")\n",
    "plt.ylabel(\"Time in seconds\")\n",
    "plt.legend()\n",
    "plt.show()"
   ]
  },
  {
   "cell_type": "code",
   "execution_count": 53,
   "metadata": {},
   "outputs": [],
   "source": [
    "def FibonacciNumber(n): # T(n) = T(n-1) + T(n-2) = O(2^n)\n",
    "    \"\"\"\n",
    "    f(0) = 0\n",
    "    f(1) = 1\n",
    "    f(2) = 1\n",
    "    f(n) = f(n-1) + f(n-2)\n",
    "    \"\"\"\n",
    "    if n == 0:\n",
    "        return 0\n",
    "    if n == 1 or n == 2:\n",
    "        return 1\n",
    "    return FibonacciNumber(n-1) + FibonacciNumber(n-2)"
   ]
  },
  {
   "cell_type": "code",
   "execution_count": 59,
   "metadata": {},
   "outputs": [],
   "source": [
    "def FibonacciNumberIterative(n): # O(n)\n",
    "    \"\"\"\n",
    "    f(0) = 0\n",
    "    f(1) = 1\n",
    "    f(2) = 1\n",
    "    f(n) = f(n-1) + f(n-2)\n",
    "    \"\"\"\n",
    "    if n == 0:\n",
    "        return 0\n",
    "    if n == 1 or n == 2:\n",
    "        return 1\n",
    "    \n",
    "    f0 = 0\n",
    "    f1 = 1\n",
    "    f2 = 1\n",
    "    for i in range(3, n+1):\n",
    "        f0 = f1\n",
    "        f1 = f2\n",
    "        f2 = f0 + f1\n",
    "    return f2"
   ]
  },
  {
   "cell_type": "code",
   "execution_count": 57,
   "metadata": {},
   "outputs": [
    {
     "name": "stdout",
     "output_type": "stream",
     "text": [
      "Elapsed time is 6.285712003707886\n"
     ]
    }
   ],
   "source": [
    "start = time.time()\n",
    "FibonacciNumber(40)\n",
    "end = time.time()\n",
    "print(\"Elapsed time is\", end-start)"
   ]
  },
  {
   "cell_type": "code",
   "execution_count": 60,
   "metadata": {},
   "outputs": [
    {
     "name": "stdout",
     "output_type": "stream",
     "text": [
      "Elapsed time is 2.9802322387695312e-05\n"
     ]
    }
   ],
   "source": [
    "start = time.time()\n",
    "FibonacciNumberIterative(40)\n",
    "end = time.time()\n",
    "print(\"Elapsed time is\", end-start)"
   ]
  },
  {
   "cell_type": "code",
   "execution_count": null,
   "metadata": {},
   "outputs": [],
   "source": []
  }
 ],
 "metadata": {
  "kernelspec": {
   "display_name": "DSA201",
   "language": "python",
   "name": "python3"
  },
  "language_info": {
   "codemirror_mode": {
    "name": "ipython",
    "version": 3
   },
   "file_extension": ".py",
   "mimetype": "text/x-python",
   "name": "python",
   "nbconvert_exporter": "python",
   "pygments_lexer": "ipython3",
   "version": "3.12.4"
  }
 },
 "nbformat": 4,
 "nbformat_minor": 2
}
