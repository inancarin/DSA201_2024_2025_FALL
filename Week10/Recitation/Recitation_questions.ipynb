{
 "cells": [
  {
   "cell_type": "code",
   "execution_count": 1,
   "metadata": {},
   "outputs": [],
   "source": [
    "import time\n",
    "import matplotlib.pyplot as plt\n",
    "import numpy as np"
   ]
  },
  {
   "cell_type": "markdown",
   "metadata": {},
   "source": [
    "# Q1: Sum of All Pairs\n",
    "\n",
    "This program gets an input (n) from the user, generates n integers between 1 and 10 and store them in an array. This part is given to you. You are supposed to compute the sum of all pairs of elements in that array. For instance, if the array was [10, 5, 2], then sum would be 15 (10+5) + 12 (10+2) + 7 (5+2) = 34. Then,\n",
    "\n",
    "- Analyze the time complexity of the program.\n",
    "- Visually identify how the input size n impacts the runtime (when n is 2<sup>1</sup>, 2<sup>2</sup>, 2<sup>3</sup>, 2<sup>4</sup>, ..., 2<sup>12</sup>)."
   ]
  },
  {
   "cell_type": "code",
   "execution_count": 6,
   "metadata": {},
   "outputs": [
    {
     "name": "stdout",
     "output_type": "stream",
     "text": [
      "52668\n"
     ]
    }
   ],
   "source": [
    "n = int(input(\"Enter the number of elements: \"))\n",
    "\n",
    "np.random.seed(42) # it's for getting same output for everyone\n",
    "arr = np.random.randint(1, 10, n)\n",
    "\n",
    "# complete the rest\n",
    "\n",
    "\n",
    "\n",
    "\n"
   ]
  },
  {
   "cell_type": "markdown",
   "metadata": {},
   "source": [
    "The time complexity of the algorithm is __________"
   ]
  },
  {
   "cell_type": "code",
   "execution_count": 13,
   "metadata": {},
   "outputs": [
    {
     "data": {
      "image/png": "[encoded data removed]",
      "text/plain": [
       "<Figure size 640x480 with 1 Axes>"
      ]
     },
     "metadata": {},
     "output_type": "display_data"
    }
   ],
   "source": [
    "# now visually identify how the input size n impacts the runtime\n",
    "\n"
   ]
  },
  {
   "cell_type": "markdown",
   "metadata": {},
   "source": [
    "# Q2: Count Common Elements\n",
    "Write a program to count how many elements are common between two lists (you can only use lists and/or numpy arrays for this question). And analyze the time complexity of the algorithm.\n"
   ]
  },
  {
   "cell_type": "code",
   "execution_count": 20,
   "metadata": {},
   "outputs": [
    {
     "name": "stdout",
     "output_type": "stream",
     "text": [
      "Number of common elements: 300000 when n is 300000\n",
      "Elapsed time: 33.193723917007446 seconds.\n"
     ]
    }
   ],
   "source": [
    "n = int(input(\"Enter the size of the lists: \"))\n",
    "np.random.seed(42)\n",
    "list1 = np.random.randint(1, 1000, n)   # O(n)\n",
    "list2 = np.random.randint(1, 1000, n)   # O(n)\n",
    "\n",
    "\n",
    "start = time.time()\n",
    "\n",
    "# fill here\n",
    "\n",
    "\n",
    "\n",
    "\n",
    "\n",
    "end = time.time()\n",
    "print(\"Number of common elements:\", common_count, \"when n is\", n)\n",
    "print(\"Elapsed time:\", end-start, \"seconds.\")"
   ]
  },
  {
   "cell_type": "markdown",
   "metadata": {},
   "source": [
    "T(n) = ____________________________"
   ]
  },
  {
   "cell_type": "code",
   "execution_count": 21,
   "metadata": {},
   "outputs": [
    {
     "name": "stdout",
     "output_type": "stream",
     "text": [
      "Number of common elements: 999 when n is 300000\n",
      "Elapsed time: 0.04497480392456055 seconds.\n"
     ]
    }
   ],
   "source": [
    "#Suggest a more efficient approach using a set and analyze its time complexity.\n",
    "\n",
    "n = int(input(\"Enter the size of the lists: \"))\n",
    "np.random.seed(42)\n",
    "list1 = np.random.randint(1, 1000, n)   # O(n)\n",
    "list2 = np.random.randint(1, 1000, n)   # O(n)\n",
    "\n",
    "start = time.time()\n",
    "# fill here\n",
    "\n",
    "\n",
    "\n",
    "\n",
    "\n",
    "end = time.time()\n",
    "print(\"Number of common elements:\", common_count, \"when n is\", n)\n",
    "print(\"Elapsed time:\", end-start, \"seconds.\")"
   ]
  },
  {
   "cell_type": "markdown",
   "metadata": {},
   "source": [
    "T(n) = __________________________________"
   ]
  },
  {
   "cell_type": "markdown",
   "metadata": {},
   "source": [
    "# Q3: Prefix Sum Array\n",
    "Here, you are given a program to calculate the prefix sum of a list.\n",
    "- Analyze the time complexity of the algorithm.\n",
    "- Suggest a more efficient approach and analyze its complexity."
   ]
  },
  {
   "cell_type": "code",
   "execution_count": 26,
   "metadata": {},
   "outputs": [
    {
     "name": "stdout",
     "output_type": "stream",
     "text": [
      "The last 3 elements of prefix sum array is: [np.int64(15087946), np.int64(15088003), np.int64(15088881)] when n is 30000\n",
      "Elapsed time: 32.6100959777832 seconds.\n"
     ]
    }
   ],
   "source": [
    "n = int(input(\"Enter the size of the list: \"))\n",
    "np.random.seed(42)\n",
    "arr = np.random.randint(1, 1000, n) \n",
    "\n",
    "start = time.time()\n",
    "prefix_sum = []\n",
    "for i in range(len(arr)):\n",
    "    prefix_sum.append(sum(arr[:i + 1]))\n",
    "\n",
    "end = time.time()\n",
    "print(\"The last 3 elements of prefix sum array is:\", prefix_sum[-3:], \"when n is\", n)\n",
    "print(\"Elapsed time:\", end-start, \"seconds.\")"
   ]
  },
  {
   "cell_type": "markdown",
   "metadata": {},
   "source": [
    "T(n) = ___________________________"
   ]
  },
  {
   "cell_type": "code",
   "execution_count": 27,
   "metadata": {},
   "outputs": [
    {
     "name": "stdout",
     "output_type": "stream",
     "text": [
      "The last 3 elements of prefix sum array is: [np.int64(15087946), np.int64(15088003), np.int64(15088881)] when n is 30000\n",
      "Elapsed time: 0.0077250003814697266 seconds.\n"
     ]
    }
   ],
   "source": [
    "# Suggest a more efficient approach and analyze its complexity.\n",
    "\n",
    "n = int(input(\"Enter the size of the list: \"))\n",
    "np.random.seed(42)\n",
    "arr = np.random.randint(1, 1000, n) \n",
    "\n",
    "start = time.time()\n",
    "# fill here\n",
    "\n",
    "\n",
    "\n",
    "\n",
    "\n",
    "end = time.time()\n",
    "print(\"The last 3 elements of prefix sum array is:\", prefix_sum[-3:], \"when n is\", n)\n",
    "print(\"Elapsed time:\", end-start, \"seconds.\")"
   ]
  },
  {
   "cell_type": "markdown",
   "metadata": {},
   "source": [
    "T(n) = _______________________________"
   ]
  },
  {
   "cell_type": "markdown",
   "metadata": {},
   "source": [
    "# Q 4: Find the Most Frequent Element\n",
    "Write a program to find the most frequently occurring element with its frequency in a list.\n",
    "- First, solve the question without using a dictionary (just lists and numpy arrays)\n",
    "- Second, solve the question with using a dictionary.\n",
    "- Compare their time complexities"
   ]
  },
  {
   "cell_type": "code",
   "execution_count": 33,
   "metadata": {},
   "outputs": [
    {
     "name": "stdout",
     "output_type": "stream",
     "text": [
      "The most frequent item is 43 and its frequency is 101891 when n is 10000000\n",
      "Elapsed time: 18.822293758392334 seconds.\n"
     ]
    }
   ],
   "source": [
    "n = int(input(\"Enter the size of the lists: \"))\n",
    "np.random.seed(42)\n",
    "arr = np.random.randint(1, 100, n)      # O(n)\n",
    "\n",
    "start = time.time()\n",
    "\n",
    "# solution without using a dictionary\n",
    "# fill here\n",
    "\n",
    "\n",
    "\n",
    "\n",
    "\n",
    "\n",
    "\n",
    "\n",
    "\n",
    "\n",
    "\n",
    "\n",
    "end = time.time()\n",
    "print(\"The most frequent item is\", mostFreqItem, \"and its frequency is\", maxFreq, \"when n is\", n)\n",
    "print(\"Elapsed time:\", end-start, \"seconds.\")"
   ]
  },
  {
   "cell_type": "markdown",
   "metadata": {},
   "source": [
    "\n",
    "T(n) = _____________________________________\n"
   ]
  },
  {
   "cell_type": "code",
   "execution_count": 34,
   "metadata": {},
   "outputs": [
    {
     "name": "stdout",
     "output_type": "stream",
     "text": [
      "The most frequent item is 43 and its frequency is 101891 when n is 10000000\n",
      "Elapsed time: 2.270329236984253 seconds.\n"
     ]
    }
   ],
   "source": [
    "n = int(input(\"Enter the size of the lists: \"))\n",
    "np.random.seed(42)\n",
    "arr = np.random.randint(1, 100, n)   # O(n)\n",
    "\n",
    "start = time.time()\n",
    "\n",
    "# solution with using a dictionary\n",
    "# fill here\n",
    "\n",
    "\n",
    "\n",
    "\n",
    "\n",
    "\n",
    "\n",
    "\n",
    "\n",
    "\n",
    "\n",
    "\n",
    "\n",
    "end = time.time()\n",
    "print(\"The most frequent item is\", mostFreqItem, \"and its frequency is\", maxFreq, \"when n is\", n)\n",
    "print(\"Elapsed time:\", end-start, \"seconds.\")"
   ]
  },
  {
   "cell_type": "markdown",
   "metadata": {},
   "source": [
    "T(n) = ____________________________"
   ]
  },
  {
   "cell_type": "code",
   "execution_count": null,
   "metadata": {},
   "outputs": [],
   "source": []
  }
 ],
 "metadata": {
  "kernelspec": {
   "display_name": "DSA201",
   "language": "python",
   "name": "python3"
  },
  "language_info": {
   "codemirror_mode": {
    "name": "ipython",
    "version": 3
   },
   "file_extension": ".py",
   "mimetype": "text/x-python",
   "name": "python",
   "nbconvert_exporter": "python",
   "pygments_lexer": "ipython3",
   "version": "3.12.7"
  }
 },
 "nbformat": 4,
 "nbformat_minor": 2
}
