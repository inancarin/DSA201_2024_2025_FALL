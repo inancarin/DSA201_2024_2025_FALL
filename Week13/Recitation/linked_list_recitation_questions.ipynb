{
 "cells": [
  {
   "cell_type": "code",
   "execution_count": 1,
   "metadata": {},
   "outputs": [],
   "source": [
    "class Node:\n",
    "    def __init__(self, data):\n",
    "        self.data = data\n",
    "        self.next = None"
   ]
  },
  {
   "cell_type": "code",
   "execution_count": 8,
   "metadata": {},
   "outputs": [],
   "source": [
    "class LinkedList:\n",
    "    def __init__(self):\n",
    "        self.head = None\n",
    "    \n",
    "    def printList(self):\n",
    "        cur = self.head\n",
    "        while cur != None:\n",
    "            print(cur.data, end=\"\")\n",
    "            if cur.next != None:\n",
    "                print(\" -> \", end=\"\")\n",
    "            cur = cur.next\n",
    "\n",
    "    def addLast(self, val):\n",
    "        node = Node(val)\n",
    "        if self.head == None:\n",
    "            self.head = node\n",
    "        else:\n",
    "            current = self.head\n",
    "            while current.next != None:\n",
    "                current = current.next\n",
    "            \n",
    "            current.next = node\n",
    "    \n",
    "    def addFirst(self, val):\n",
    "        node = Node(val)\n",
    "        temp = self.head\n",
    "        self.head = node\n",
    "        node.next = temp\n",
    "    \n",
    "    def addIndex(self, val, idx):\n",
    "        if idx < 0:\n",
    "            print(\"Index cannot be a negative number\")\n",
    "        elif self.head == None:\n",
    "            print(\"The linked list is empty\")\n",
    "        else:\n",
    "            node = Node(val)\n",
    "            if idx == 0:\n",
    "                temp = self.head\n",
    "                self.head = node\n",
    "                self.head.next = temp\n",
    "\n",
    "            else:\n",
    "                i = 0\n",
    "                current = self.head\n",
    "                while current.next != None and i + 1 < idx:\n",
    "                    current = current.next\n",
    "                    i += 1\n",
    "                if i + 1 == idx:\n",
    "                    if current.next == None: # if current is the last node\n",
    "                        print(\"Index out of range!\")\n",
    "                    else:\n",
    "                      temp = current.next\n",
    "                      current.next = node\n",
    "                      current.next.next = temp\n",
    "                else:\n",
    "                    print(\"Index out of range!\")\n",
    "    \n",
    "\n",
    "    def removeIndex(self, idx):\n",
    "        if idx < 0:\n",
    "            print(\"Index cannot be a negative number\")\n",
    "        elif self.head == None:\n",
    "            print(\"Linked list is empty\")\n",
    "        else:\n",
    "            if idx == 0:\n",
    "                self.head = self.head.next\n",
    "            else:\n",
    "                i = 0\n",
    "                cur = self.head\n",
    "                while cur.next != None and i + 1 < idx:\n",
    "                    cur = cur.next\n",
    "                    i += 1\n",
    "                if i + 1 == idx:\n",
    "                    if cur.next == None:  # if current is the last node\n",
    "                        print(\"Index out of range!\")\n",
    "                    else:\n",
    "                        cur.next = cur.next.next\n",
    "                else:\n",
    "                    print(\"Index out of range\")\n",
    "    \n",
    "    def removeByValue(self, val):\n",
    "        pass # COMPLETE THIS FUNCTION FOR EX1"
   ]
  },
  {
   "cell_type": "markdown",
   "metadata": {},
   "source": [
    "# Ex1: Deleting a Node by Value\n",
    "\n",
    "Add a method to the LinkedList class, so that you can remove any node by the value. Once you complete removeByValue() method, the following two code cells should be working fine."
   ]
  },
  {
   "cell_type": "code",
   "execution_count": 11,
   "metadata": {},
   "outputs": [
    {
     "name": "stdout",
     "output_type": "stream",
     "text": [
      "10 -> 20 -> 10 -> 30 -> 10 -> 20 -> 40"
     ]
    }
   ],
   "source": [
    "x = LinkedList()\n",
    "x.addLast(10)\n",
    "x.addLast(20)\n",
    "x.addLast(10)\n",
    "x.addLast(30)\n",
    "x.addLast(10)\n",
    "x.addLast(20)\n",
    "x.addLast(40)\n",
    "x.printList()"
   ]
  },
  {
   "cell_type": "code",
   "execution_count": 12,
   "metadata": {},
   "outputs": [
    {
     "name": "stdout",
     "output_type": "stream",
     "text": [
      "10 -> 10 -> 30 -> 10 -> 40"
     ]
    }
   ],
   "source": [
    "x.removeByValue(20)\n",
    "x.printList()"
   ]
  },
  {
   "cell_type": "markdown",
   "metadata": {},
   "source": [
    "# Ex2: Find the Middle Element of a Linked List\n",
    "\n",
    "You are supposed to write a function (not a method) that takes a parameter which is the head of the linked list, and returns the middle element of the linked list. If there are even number of elements in the list, then return the n//2 th index.\n",
    "\n",
    "Use the two-pointer technique to find the middle element of a linked list efficiently (in one complete iteration)."
   ]
  },
  {
   "cell_type": "code",
   "execution_count": 17,
   "metadata": {},
   "outputs": [],
   "source": [
    "def findMiddleElement(head):\n",
    "    pass # COMPLETE HERE"
   ]
  },
  {
   "cell_type": "code",
   "execution_count": 20,
   "metadata": {},
   "outputs": [
    {
     "name": "stdout",
     "output_type": "stream",
     "text": [
      "10 -> 20 -> 30 -> 40 -> 50\n",
      "Middle Elem: 30\n"
     ]
    }
   ],
   "source": [
    "x = LinkedList()\n",
    "for val in [10, 20, 30, 40, 50]:\n",
    "    x.addLast(val)\n",
    "x.printList()\n",
    "print(\"\\nMiddle Elem:\", findMiddleElement(x.head))"
   ]
  },
  {
   "cell_type": "code",
   "execution_count": 21,
   "metadata": {},
   "outputs": [
    {
     "name": "stdout",
     "output_type": "stream",
     "text": [
      "10 -> 20 -> 30 -> 40\n",
      "Middle Elem: 30\n"
     ]
    }
   ],
   "source": [
    "x = LinkedList()\n",
    "for val in [10, 20, 30, 40]:\n",
    "    x.addLast(val)\n",
    "x.printList()\n",
    "print(\"\\nMiddle Elem:\", findMiddleElement(x.head))"
   ]
  },
  {
   "cell_type": "markdown",
   "metadata": {},
   "source": [
    "# Ex3: Merge Two Sorted Linked Lists\n",
    "\n",
    "Merge two sorted linked lists into a single sorted linked list."
   ]
  },
  {
   "cell_type": "code",
   "execution_count": 22,
   "metadata": {},
   "outputs": [],
   "source": [
    "def merge_sorted(head1, head2):\n",
    "    pass # COMPLETE HERE"
   ]
  },
  {
   "cell_type": "code",
   "execution_count": 23,
   "metadata": {},
   "outputs": [
    {
     "name": "stdout",
     "output_type": "stream",
     "text": [
      "10 -> 20 -> 30 -> 40 -> 50"
     ]
    }
   ],
   "source": [
    "x1 = LinkedList()\n",
    "for val in [10, 20, 30, 40, 50]:\n",
    "    x1.addLast(val)\n",
    "x1.printList()"
   ]
  },
  {
   "cell_type": "code",
   "execution_count": 24,
   "metadata": {},
   "outputs": [
    {
     "name": "stdout",
     "output_type": "stream",
     "text": [
      "5 -> 8 -> 12 -> 60 -> 70"
     ]
    }
   ],
   "source": [
    "x2 = LinkedList()\n",
    "for val in [5, 8, 12, 60, 70]:\n",
    "    x2.addLast(val)\n",
    "x2.printList()"
   ]
  },
  {
   "cell_type": "code",
   "execution_count": 25,
   "metadata": {},
   "outputs": [
    {
     "name": "stdout",
     "output_type": "stream",
     "text": [
      "5 -> 8 -> 10 -> 12 -> 20 -> 30 -> 40 -> 50 -> 60 -> 70"
     ]
    }
   ],
   "source": [
    "res = merge_sorted(x1.head, x2.head)\n",
    "res.printList()"
   ]
  },
  {
   "cell_type": "code",
   "execution_count": null,
   "metadata": {},
   "outputs": [],
   "source": []
  }
 ],
 "metadata": {
  "kernelspec": {
   "display_name": "DSA201",
   "language": "python",
   "name": "python3"
  },
  "language_info": {
   "codemirror_mode": {
    "name": "ipython",
    "version": 3
   },
   "file_extension": ".py",
   "mimetype": "text/x-python",
   "name": "python",
   "nbconvert_exporter": "python",
   "pygments_lexer": "ipython3",
   "version": "3.12.4"
  }
 },
 "nbformat": 4,
 "nbformat_minor": 2
}
