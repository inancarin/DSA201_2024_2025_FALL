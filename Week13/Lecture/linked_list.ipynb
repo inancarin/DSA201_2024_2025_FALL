{
 "cells": [
  {
   "cell_type": "code",
   "execution_count": 1,
   "metadata": {},
   "outputs": [],
   "source": [
    "class Node:\n",
    "    def __init__(self, data):\n",
    "        self.data = data\n",
    "        self.next = None"
   ]
  },
  {
   "cell_type": "code",
   "execution_count": 14,
   "metadata": {},
   "outputs": [],
   "source": [
    "class LinkedList:\n",
    "    def __init__(self):\n",
    "        self.head = None\n",
    "    \n",
    "    def addLast(self, val):  # O(n) -> constant time for linked list\n",
    "        newNode = Node(val)\n",
    "\n",
    "        if self.head != None: # if linked list is not empty\n",
    "            cur = self.head\n",
    "            while cur.next != None:\n",
    "                cur = cur.next\n",
    "            \n",
    "            cur.next = newNode\n",
    "        else: # if linked list is empty\n",
    "            self.head = newNode\n",
    "    \n",
    "    def addFirst(self, val): # O(1) -> constant time for linked list\n",
    "        newNode = Node(val)\n",
    "        if self.head == None:\n",
    "            self.head = newNode\n",
    "        else:\n",
    "            temp = self.head\n",
    "            self.head = newNode\n",
    "            self.head.next = temp\n",
    "    \n",
    "    def printList(self):\n",
    "        if self.head == None:\n",
    "            print(\"LinkedList is empty!\")\n",
    "        else:\n",
    "            current = self.head\n",
    "            while current != None:\n",
    "                if current.next != None:\n",
    "                    print(current.data, end=\" -> \")\n",
    "                else:\n",
    "                    print(current.data)\n",
    "                current = current.next"
   ]
  },
  {
   "cell_type": "code",
   "execution_count": 16,
   "metadata": {},
   "outputs": [
    {
     "name": "stdout",
     "output_type": "stream",
     "text": [
      "50 -> 5 -> 10 -> 20 -> 30 -> 40\n"
     ]
    }
   ],
   "source": [
    "x = LinkedList()\n",
    "x.addFirst(5)\n",
    "x.addLast(10)\n",
    "x.addLast(20)\n",
    "x.addLast(30)\n",
    "x.addLast(40)\n",
    "x.addFirst(50)\n",
    "x.printList()"
   ]
  },
  {
   "cell_type": "code",
   "execution_count": null,
   "metadata": {},
   "outputs": [],
   "source": []
  }
 ],
 "metadata": {
  "kernelspec": {
   "display_name": "DSA201",
   "language": "python",
   "name": "python3"
  },
  "language_info": {
   "codemirror_mode": {
    "name": "ipython",
    "version": 3
   },
   "file_extension": ".py",
   "mimetype": "text/x-python",
   "name": "python",
   "nbconvert_exporter": "python",
   "pygments_lexer": "ipython3",
   "version": "3.12.4"
  }
 },
 "nbformat": 4,
 "nbformat_minor": 2
}
