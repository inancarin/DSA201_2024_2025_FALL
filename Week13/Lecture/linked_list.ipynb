{
 "cells": [
  {
   "cell_type": "code",
   "execution_count": 1,
   "metadata": {},
   "outputs": [],
   "source": [
    "class Node:\n",
    "    def __init__(self, data):\n",
    "        self.data = data\n",
    "        self.next = None"
   ]
  },
  {
   "cell_type": "code",
   "execution_count": 10,
   "metadata": {},
   "outputs": [],
   "source": [
    "class LinkedList:\n",
    "    def __init__(self):\n",
    "        self.head = None\n",
    "    \n",
    "    def addLast(self, val):  # O(n) -> constant time for linked list\n",
    "        newNode = Node(val)\n",
    "\n",
    "        if self.head != None: # if linked list is not empty\n",
    "            cur = self.head\n",
    "            while cur.next != None:\n",
    "                cur = cur.next\n",
    "            \n",
    "            cur.next = newNode\n",
    "        else: # if linked list is empty\n",
    "            self.head = newNode\n",
    "    \n",
    "    def addFirst(self, val): # O(1) -> constant time for linked list\n",
    "        newNode = Node(val)\n",
    "        if self.head == None:\n",
    "            self.head = newNode\n",
    "        else:\n",
    "            temp = self.head\n",
    "            self.head = newNode\n",
    "            self.head.next = temp\n",
    "    \n",
    "    def insert(self, idx, val):\n",
    "        if self.head == None:\n",
    "            print(\"Linked List is empty\")\n",
    "        else:\n",
    "            newNode = Node(val)\n",
    "            if idx == 0:\n",
    "                self.addFirst(val)\n",
    "            else:\n",
    "                cur = self.head\n",
    "                i = 0\n",
    "                while cur != None and i < idx - 1:\n",
    "                    cur = cur.next\n",
    "                    i += 1\n",
    "                if cur == None:\n",
    "                    print(\"Index out of range\")\n",
    "                else:\n",
    "                    temp = cur.next\n",
    "                    cur.next = newNode\n",
    "                    newNode.next = temp\n",
    "    \n",
    "    def removeSpecIndex(self, idx):\n",
    "        if self.head == None:\n",
    "            print(\"Linked List is empty\")\n",
    "        else:\n",
    "            if idx == 0:\n",
    "                self.head = self.head.next\n",
    "            else:\n",
    "                cur = self.head\n",
    "                i = 0\n",
    "                while cur != None and i < idx - 1:\n",
    "                    cur = cur.next\n",
    "                    i += 1\n",
    "                if cur == None:\n",
    "                    print(\"Index out of range\")\n",
    "                else:\n",
    "                    if cur.next != None:\n",
    "                        cur.next = cur.next.next\n",
    "                    else:\n",
    "                        print(\"Index out of range\")\n",
    "\n",
    "    def printList(self):\n",
    "        if self.head == None:\n",
    "            print(\"LinkedList is empty!\")\n",
    "        else:\n",
    "            current = self.head\n",
    "            while current != None:\n",
    "                if current.next != None:\n",
    "                    print(current.data, end=\" -> \")\n",
    "                else:\n",
    "                    print(current.data)\n",
    "                current = current.next"
   ]
  },
  {
   "cell_type": "code",
   "execution_count": 15,
   "metadata": {},
   "outputs": [
    {
     "name": "stdout",
     "output_type": "stream",
     "text": [
      "50 -> 5 -> 10 -> 20 -> 30 -> 40\n",
      "50 -> 5 -> 11 -> 10 -> 20 -> 30 -> 40\n",
      "12 -> 50 -> 5 -> 11 -> 10 -> 20 -> 30 -> 40\n",
      "50 -> 5 -> 11 -> 10 -> 20 -> 30 -> 40\n",
      "50 -> 5 -> 10 -> 20 -> 30 -> 40\n",
      "50 -> 5 -> 10 -> 20 -> 30\n",
      "Index out of range\n"
     ]
    }
   ],
   "source": [
    "x = LinkedList()\n",
    "x.addFirst(5)\n",
    "x.addLast(10)\n",
    "x.addLast(20)\n",
    "x.addLast(30)\n",
    "x.addLast(40)\n",
    "x.addFirst(50)\n",
    "x.printList()\n",
    "x.insert(2, 11)\n",
    "x.printList()\n",
    "x.insert(0, 12)\n",
    "x.printList()\n",
    "x.removeSpecIndex(0)\n",
    "x.printList()\n",
    "x.removeSpecIndex(2)\n",
    "x.printList()\n",
    "x.removeSpecIndex(5)\n",
    "x.printList()\n",
    "x.removeSpecIndex(5)"
   ]
  },
  {
   "cell_type": "code",
   "execution_count": 16,
   "metadata": {},
   "outputs": [],
   "source": [
    "def reverseLinkedList(head):\n",
    "    if head == None:\n",
    "        return None\n",
    "    prev = head\n",
    "    temp = prev.next\n",
    "    prev.next = None\n",
    "    while temp != None:\n",
    "        upcoming = temp.next\n",
    "        temp.next = prev\n",
    "        prev = temp\n",
    "        temp = upcoming\n",
    "    return prev"
   ]
  },
  {
   "cell_type": "code",
   "execution_count": 19,
   "metadata": {},
   "outputs": [],
   "source": [
    "def detectCycle(head):\n",
    "    slow = head\n",
    "    fast = head\n",
    "    while fast != None and fast.next != None:\n",
    "        slow = slow.next # taking one step\n",
    "        fast = fast.next.next # taking two steps\n",
    "        if slow == fast:\n",
    "            return True \n",
    "    return False"
   ]
  },
  {
   "cell_type": "code",
   "execution_count": 23,
   "metadata": {},
   "outputs": [
    {
     "data": {
      "text/plain": [
       "True"
      ]
     },
     "execution_count": 23,
     "metadata": {},
     "output_type": "execute_result"
    }
   ],
   "source": [
    "x = LinkedList()\n",
    "x.addLast(10)\n",
    "x.addLast(20)\n",
    "x.addLast(30)\n",
    "x.head.next.next.next = x.head\n",
    "detectCycle(x.head)"
   ]
  },
  {
   "cell_type": "code",
   "execution_count": 21,
   "metadata": {},
   "outputs": [
    {
     "name": "stdout",
     "output_type": "stream",
     "text": [
      "10 -> 20 -> 30 -> 40\n",
      "40 -> 30 -> 20 -> 10\n"
     ]
    }
   ],
   "source": [
    "x = LinkedList()\n",
    "x.addLast(10)\n",
    "x.addLast(20)\n",
    "x.addLast(30)\n",
    "x.addLast(40)\n",
    "x.printList()\n",
    "x.head = reverseLinkedList(x.head)\n",
    "x.printList()"
   ]
  },
  {
   "cell_type": "code",
   "execution_count": 34,
   "metadata": {},
   "outputs": [],
   "source": [
    "def findLastKthElementNaive(head, k): # O(2*N)\n",
    "    if head == None:\n",
    "        n = 0\n",
    "        return\n",
    "    else:\n",
    "        cur = head\n",
    "        n = 1\n",
    "        while cur.next != None:\n",
    "            n += 1\n",
    "            cur = cur.next\n",
    "        if n < k:\n",
    "            print(\"k is too large\")\n",
    "            return\n",
    "        \n",
    "        cur = head\n",
    "        for i in range(n-k):\n",
    "            cur = cur.next\n",
    "        \n",
    "        return cur.data"
   ]
  },
  {
   "cell_type": "code",
   "execution_count": 52,
   "metadata": {},
   "outputs": [],
   "source": [
    "def findLastKthElement(head, k): # O(N)\n",
    "    if head == None:\n",
    "        return\n",
    "    else:\n",
    "        p1 = head\n",
    "        p2 = head\n",
    "\n",
    "        for i in range(k):\n",
    "            if p2 == None:\n",
    "                print(\"k is too large\")\n",
    "                return None\n",
    "            p2 = p2.next\n",
    "            \n",
    "        while p2 != None:\n",
    "            p2 = p2.next\n",
    "            p1 = p1.next\n",
    "        return p1.data"
   ]
  },
  {
   "cell_type": "code",
   "execution_count": 54,
   "metadata": {},
   "outputs": [
    {
     "name": "stdout",
     "output_type": "stream",
     "text": [
      "10 -> 20 -> 30 -> 40 -> 50 -> 60 -> 70 -> 80 -> 90 -> 100\n"
     ]
    },
    {
     "data": {
      "text/plain": [
       "90"
      ]
     },
     "execution_count": 54,
     "metadata": {},
     "output_type": "execute_result"
    }
   ],
   "source": [
    "a = LinkedList()\n",
    "for i in range(10, 101, 10):\n",
    "    a.addLast(i)\n",
    "a.printList()\n",
    "findLastKthElement(a.head, 2)"
   ]
  },
  {
   "cell_type": "code",
   "execution_count": null,
   "metadata": {},
   "outputs": [],
   "source": []
  }
 ],
 "metadata": {
  "kernelspec": {
   "display_name": "DSA201",
   "language": "python",
   "name": "python3"
  },
  "language_info": {
   "codemirror_mode": {
    "name": "ipython",
    "version": 3
   },
   "file_extension": ".py",
   "mimetype": "text/x-python",
   "name": "python",
   "nbconvert_exporter": "python",
   "pygments_lexer": "ipython3",
   "version": "3.12.4"
  }
 },
 "nbformat": 4,
 "nbformat_minor": 2
}
