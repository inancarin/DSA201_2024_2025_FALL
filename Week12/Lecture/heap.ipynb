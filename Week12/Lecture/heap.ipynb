{
 "cells": [
  {
   "cell_type": "code",
   "execution_count": 1,
   "metadata": {},
   "outputs": [],
   "source": [
    "import numpy as np\n",
    "import time\n",
    "import matplotlib.pyplot as plt"
   ]
  },
  {
   "cell_type": "code",
   "execution_count": 6,
   "metadata": {},
   "outputs": [],
   "source": [
    "def insert(heap, val): # heap is maxheap\n",
    "    heap.append(val)\n",
    "    i = len(heap) - 1\n",
    "    if i == 0:\n",
    "        return\n",
    "    parent = (i - 1) // 2\n",
    "    while  i > 0 and heap[parent] < heap[i]:\n",
    "        temp = heap[parent]\n",
    "        heap[parent] = heap[i]\n",
    "        heap[i] = temp\n",
    "\n",
    "        i = parent\n",
    "        parent = (i - 1) // 2\n"
   ]
  },
  {
   "cell_type": "code",
   "execution_count": 7,
   "metadata": {},
   "outputs": [
    {
     "name": "stdout",
     "output_type": "stream",
     "text": [
      "[22, 11, 19, 3, 5, 1]\n"
     ]
    }
   ],
   "source": [
    "heap = []\n",
    "myList = [3, 5, 1, 19, 11, 22]\n",
    "for val in myList:\n",
    "    insert(heap, val)\n",
    "print(heap)"
   ]
  },
  {
   "cell_type": "code",
   "execution_count": null,
   "metadata": {},
   "outputs": [],
   "source": []
  }
 ],
 "metadata": {
  "kernelspec": {
   "display_name": "DSA201",
   "language": "python",
   "name": "python3"
  },
  "language_info": {
   "codemirror_mode": {
    "name": "ipython",
    "version": 3
   },
   "file_extension": ".py",
   "mimetype": "text/x-python",
   "name": "python",
   "nbconvert_exporter": "python",
   "pygments_lexer": "ipython3",
   "version": "3.12.4"
  }
 },
 "nbformat": 4,
 "nbformat_minor": 2
}
