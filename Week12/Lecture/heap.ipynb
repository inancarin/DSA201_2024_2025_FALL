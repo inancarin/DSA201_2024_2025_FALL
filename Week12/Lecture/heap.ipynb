{
 "cells": [
  {
   "cell_type": "code",
   "execution_count": 11,
   "metadata": {},
   "outputs": [],
   "source": [
    "import numpy as np\n",
    "import time\n",
    "import matplotlib.pyplot as plt\n",
    "import heapq"
   ]
  },
  {
   "cell_type": "code",
   "execution_count": 2,
   "metadata": {},
   "outputs": [],
   "source": [
    "def insert(heap, val): # heap is maxheap\n",
    "    heap.append(val)\n",
    "    i = len(heap) - 1\n",
    "    if i == 0:\n",
    "        return\n",
    "    parent = (i - 1) // 2\n",
    "    while  i > 0 and heap[parent] < heap[i]:\n",
    "        temp = heap[parent]\n",
    "        heap[parent] = heap[i]\n",
    "        heap[i] = temp\n",
    "\n",
    "        i = parent\n",
    "        parent = (i - 1) // 2\n"
   ]
  },
  {
   "cell_type": "code",
   "execution_count": 4,
   "metadata": {},
   "outputs": [],
   "source": [
    "def removeRoot(heap):\n",
    "    temp = heap[0]\n",
    "    heap[0] = heap[-1]\n",
    "    heap[-1] = temp\n",
    "\n",
    "    root = heap.pop()\n",
    "\n",
    "    i = 0\n",
    "    while True:\n",
    "        left = 2*i + 1\n",
    "        right = 2*i + 2\n",
    "        if left >= len(heap):\n",
    "            break\n",
    "        else:\n",
    "            larger_idx = i\n",
    "            if heap[left] > heap[i]:\n",
    "                larger_idx = left\n",
    "            if right < len(heap):\n",
    "                if heap[right] > heap[i]:\n",
    "                    if heap[right] > heap[left]:\n",
    "                        larger_idx = right\n",
    "            if larger_idx > i:\n",
    "                temp = heap[larger_idx]\n",
    "                heap[larger_idx] = heap[i]\n",
    "                heap[i] = temp\n",
    "                i = larger_idx\n",
    "            else:\n",
    "                break\n",
    "    \n",
    "    return root"
   ]
  },
  {
   "cell_type": "code",
   "execution_count": 3,
   "metadata": {},
   "outputs": [
    {
     "name": "stdout",
     "output_type": "stream",
     "text": [
      "[22, 11, 19, 3, 5, 1]\n"
     ]
    }
   ],
   "source": [
    "heap = []\n",
    "myList = [3, 5, 1, 19, 11, 22]\n",
    "for val in myList:\n",
    "    insert(heap, val)\n",
    "print(heap)"
   ]
  },
  {
   "cell_type": "code",
   "execution_count": 6,
   "metadata": {},
   "outputs": [
    {
     "name": "stdout",
     "output_type": "stream",
     "text": [
      "59\n",
      "[44, 42, 30, 32, 39, 17, 13, 22, 29, 14, 33, 9]\n"
     ]
    }
   ],
   "source": [
    "heap = [59, 42, 44, 32, 39, 30, 13, 22, 29, 14, 33, 9, 17]\n",
    "root = removeRoot(heap)\n",
    "print(root)\n",
    "print(heap)"
   ]
  },
  {
   "cell_type": "code",
   "execution_count": 9,
   "metadata": {},
   "outputs": [],
   "source": [
    "def heapSort(myList): # O(n logn)\n",
    "    # heapify\n",
    "    heap = []\n",
    "    for val in myList:\n",
    "        insert(heap, val)\n",
    "    \n",
    "    res = [0] * len(myList)\n",
    "    idx = len(res) - 1\n",
    "    for i in range(len(myList)): # n\n",
    "        maxVal = removeRoot(heap) # O(logn)\n",
    "        res[idx] = maxVal\n",
    "        idx -= 1\n",
    "    return res"
   ]
  },
  {
   "cell_type": "code",
   "execution_count": 10,
   "metadata": {},
   "outputs": [
    {
     "data": {
      "text/plain": [
       "[3, 5, 7, 10, 12, 18]"
      ]
     },
     "execution_count": 10,
     "metadata": {},
     "output_type": "execute_result"
    }
   ],
   "source": [
    "myList = [10, 7, 5, 12, 18, 3]\n",
    "heapSort(myList)"
   ]
  },
  {
   "cell_type": "code",
   "execution_count": 20,
   "metadata": {},
   "outputs": [],
   "source": [
    "def HeapSort(myList):\n",
    "    heapq.heapify(myList) # O(n)\n",
    "    res = []\n",
    "    for i in range(len(myList)): # n\n",
    "        maxVal = heapq.heappop(myList) # O(logn)\n",
    "        res.append(maxVal)\n",
    "    return res"
   ]
  },
  {
   "cell_type": "code",
   "execution_count": 12,
   "metadata": {},
   "outputs": [
    {
     "data": {
      "text/plain": [
       "[3, 7, 5, 12, 18, 10]"
      ]
     },
     "execution_count": 12,
     "metadata": {},
     "output_type": "execute_result"
    }
   ],
   "source": [
    "myList = [10, 7, 5, 12, 18, 3]\n",
    "heapq.heapify(myList) # O(n)\n",
    "myList"
   ]
  },
  {
   "cell_type": "code",
   "execution_count": 21,
   "metadata": {},
   "outputs": [
    {
     "data": {
      "text/plain": [
       "[3, 5, 7, 10, 12, 18]"
      ]
     },
     "execution_count": 21,
     "metadata": {},
     "output_type": "execute_result"
    }
   ],
   "source": [
    "myList = [10, 7, 5, 12, 18, 3]\n",
    "HeapSort(myList)"
   ]
  },
  {
   "cell_type": "code",
   "execution_count": 26,
   "metadata": {},
   "outputs": [
    {
     "name": "stdout",
     "output_type": "stream",
     "text": [
      "myOwn Heapsort: 3.3175668716430664\n"
     ]
    }
   ],
   "source": [
    "np.random.seed(42)\n",
    "arr = np.random.randint(0, 100000000, 1000000)\n",
    "start = time.time()\n",
    "res = heapSort(arr)\n",
    "end = time.time()\n",
    "print(\"myOwn Heapsort:\", end-start)"
   ]
  },
  {
   "cell_type": "code",
   "execution_count": 28,
   "metadata": {},
   "outputs": [
    {
     "name": "stdout",
     "output_type": "stream",
     "text": [
      "Heapq Heapsort: 0.705927848815918\n"
     ]
    }
   ],
   "source": [
    "np.random.seed(42)\n",
    "arr = np.random.randint(0, 100000000, 1000000).tolist()\n",
    "start = time.time()\n",
    "res = HeapSort(arr)\n",
    "end = time.time()\n",
    "print(\"Heapq Heapsort:\", end-start)"
   ]
  },
  {
   "cell_type": "markdown",
   "metadata": {},
   "source": [
    "# Ex1:"
   ]
  },
  {
   "cell_type": "code",
   "execution_count": 31,
   "metadata": {},
   "outputs": [],
   "source": [
    "def find_k_largest_naive(nums, k):\n",
    "    nums = sorted(nums) # O(nlogn)\n",
    "    return nums[-k]"
   ]
  },
  {
   "cell_type": "code",
   "execution_count": 32,
   "metadata": {},
   "outputs": [
    {
     "data": {
      "text/plain": [
       "10"
      ]
     },
     "execution_count": 32,
     "metadata": {},
     "output_type": "execute_result"
    }
   ],
   "source": [
    "myList = [10, 2, 5, 12, 7, 8]\n",
    "k = 2\n",
    "\n",
    "find_k_largest_naive(myList, k)"
   ]
  },
  {
   "cell_type": "code",
   "execution_count": 33,
   "metadata": {},
   "outputs": [],
   "source": [
    "def find_k_largest_minHeap(nums, k): # O(n logk)\n",
    "    heap = []\n",
    "    heapq.heapify([])\n",
    "\n",
    "    for val in nums: # n\n",
    "        heapq.heappush(heap, val) # O(log k)\n",
    "        if len(heap) > k:\n",
    "            temp = heapq.heappop(heap) # O(log k)\n",
    "    return heap[0]"
   ]
  },
  {
   "cell_type": "code",
   "execution_count": 34,
   "metadata": {},
   "outputs": [
    {
     "data": {
      "text/plain": [
       "10"
      ]
     },
     "execution_count": 34,
     "metadata": {},
     "output_type": "execute_result"
    }
   ],
   "source": [
    "myList = [10, 2, 5, 12, 7, 8]\n",
    "k = 2\n",
    "find_k_largest_minHeap(myList, k)"
   ]
  },
  {
   "cell_type": "code",
   "execution_count": 38,
   "metadata": {},
   "outputs": [],
   "source": [
    "def find_k_largest_maxHeap(nums, k): # O(n) + O(k logn)\n",
    "    temp = []\n",
    "    for val in nums: # O(n)\n",
    "        temp.append(-val)\n",
    "    \n",
    "    heapq.heapify(temp) # O(n)\n",
    "\n",
    "    for i in range(k): # k -> O(k logn)\n",
    "        res = heapq.heappop(temp) # O(logn)\n",
    "    \n",
    "    return -res\n"
   ]
  },
  {
   "cell_type": "code",
   "execution_count": 39,
   "metadata": {},
   "outputs": [
    {
     "data": {
      "text/plain": [
       "10"
      ]
     },
     "execution_count": 39,
     "metadata": {},
     "output_type": "execute_result"
    }
   ],
   "source": [
    "myList = [10, 2, 5, 12, 7, 8]\n",
    "k = 2\n",
    "find_k_largest_maxHeap(myList, k)"
   ]
  },
  {
   "cell_type": "code",
   "execution_count": 42,
   "metadata": {},
   "outputs": [],
   "source": [
    "def sort_almost_sorted_list(nums, k): # O(n logk)\n",
    "    heap = []\n",
    "    heapq.heapify(heap)\n",
    "\n",
    "    res = []\n",
    "    for val in nums:\n",
    "        heapq.heappush(heap, val)\n",
    "        if len(heap) == k+1:\n",
    "            res.append(heapq.heappop(heap))\n",
    "    \n",
    "    while len(heap) > 0:\n",
    "        res.append(heapq.heappop(heap))\n",
    "    \n",
    "    return res"
   ]
  },
  {
   "cell_type": "code",
   "execution_count": 43,
   "metadata": {},
   "outputs": [
    {
     "data": {
      "text/plain": [
       "[2, 3, 5, 6, 8, 9, 10]"
      ]
     },
     "execution_count": 43,
     "metadata": {},
     "output_type": "execute_result"
    }
   ],
   "source": [
    "nums = [6,5 ,3, 2, 8, 10, 9]\n",
    "k = 3\n",
    "sort_almost_sorted_list(nums, k)"
   ]
  },
  {
   "cell_type": "code",
   "execution_count": 49,
   "metadata": {},
   "outputs": [
    {
     "data": {
      "text/plain": [
       "[1, 1, 2, 3, 4, 4, 5, 6]"
      ]
     },
     "execution_count": 49,
     "metadata": {},
     "output_type": "execute_result"
    }
   ],
   "source": [
    "def merge_top_k_sorted_lists(myList): # O(n logk)\n",
    "    k = len(myList)\n",
    "    heap = []\n",
    "    heapq.heapify(heap)\n",
    "\n",
    "    res = []\n",
    "    for i in range(k): \n",
    "        heapq.heappush(heap, (myList[i][0], 0, i))\n",
    "    \n",
    "    while len(heap) > 0: # n\n",
    "        val, val_idx, list_idx = heapq.heappop(heap) # O(log k)\n",
    "        res.append(val)\n",
    "        val_idx += 1\n",
    "        if val_idx < len(myList[list_idx]):\n",
    "            heapq.heappush(heap, (myList[list_idx][val_idx], val_idx, list_idx))\n",
    "\n",
    "    return res\n",
    "\n",
    "lists = [[1, 4, 5], [1, 3, 4], [2, 6]]\n",
    "merge_top_k_sorted_lists(lists)"
   ]
  },
  {
   "cell_type": "code",
   "execution_count": 44,
   "metadata": {},
   "outputs": [
    {
     "ename": "NameError",
     "evalue": "name 'merge_top_k_sorted_lists' is not defined",
     "output_type": "error",
     "traceback": [
      "\u001b[0;31m---------------------------------------------------------------------------\u001b[0m",
      "\u001b[0;31mNameError\u001b[0m                                 Traceback (most recent call last)",
      "Cell \u001b[0;32mIn[44], line 2\u001b[0m\n\u001b[1;32m      1\u001b[0m lists \u001b[38;5;241m=\u001b[39m [[\u001b[38;5;241m1\u001b[39m, \u001b[38;5;241m4\u001b[39m, \u001b[38;5;241m5\u001b[39m], [\u001b[38;5;241m1\u001b[39m, \u001b[38;5;241m3\u001b[39m, \u001b[38;5;241m4\u001b[39m], [\u001b[38;5;241m2\u001b[39m, \u001b[38;5;241m6\u001b[39m]]\n\u001b[0;32m----> 2\u001b[0m \u001b[43mmerge_top_k_sorted_lists\u001b[49m(myList)\n",
      "\u001b[0;31mNameError\u001b[0m: name 'merge_top_k_sorted_lists' is not defined"
     ]
    }
   ],
   "source": [
    "lists = [[1, 4, 5], [1, 3, 4], [2, 6]]\n",
    "merge_top_k_sorted_lists(lists)"
   ]
  },
  {
   "cell_type": "code",
   "execution_count": null,
   "metadata": {},
   "outputs": [],
   "source": []
  }
 ],
 "metadata": {
  "kernelspec": {
   "display_name": "DSA201",
   "language": "python",
   "name": "python3"
  },
  "language_info": {
   "codemirror_mode": {
    "name": "ipython",
    "version": 3
   },
   "file_extension": ".py",
   "mimetype": "text/x-python",
   "name": "python",
   "nbconvert_exporter": "python",
   "pygments_lexer": "ipython3",
   "version": "3.12.4"
  }
 },
 "nbformat": 4,
 "nbformat_minor": 2
}
