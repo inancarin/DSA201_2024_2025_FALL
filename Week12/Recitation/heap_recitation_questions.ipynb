{
 "cells": [
  {
   "cell_type": "code",
   "execution_count": 1,
   "metadata": {},
   "outputs": [],
   "source": [
    "import numpy as np\n",
    "import time\n",
    "import matplotlib.pyplot as plt\n",
    "import heapq"
   ]
  },
  {
   "cell_type": "markdown",
   "metadata": {},
   "source": [
    "# Ex1: Find Top K Frequent Elements\n",
    "\n",
    "Write a function ```top_k_frequent(nums, k)``` that takes a list of integers ```nums``` and an integer ```k```. The function should return the ```k``` most frequent elements.\n",
    "\n",
    "```py\n",
    "# Example Input\n",
    "nums = [1, 1, 1, 2, 2, 3]\n",
    "k = 2\n",
    "\n",
    "# Example Output\n",
    "[1, 2]\n",
    "```"
   ]
  },
  {
   "cell_type": "code",
   "execution_count": 11,
   "metadata": {},
   "outputs": [],
   "source": []
  },
  {
   "cell_type": "code",
   "execution_count": 12,
   "metadata": {},
   "outputs": [
    {
     "data": {
      "text/plain": [
       "[1, 2]"
      ]
     },
     "execution_count": 12,
     "metadata": {},
     "output_type": "execute_result"
    }
   ],
   "source": [
    "nums = [1, 1, 1, 2, 2, 3]\n",
    "k = 2\n",
    "#top_k_frequent_naive(nums, k)\n",
    "top_k_frequent_heap(nums, k)"
   ]
  },
  {
   "cell_type": "markdown",
   "metadata": {},
   "source": [
    "# Ex2: Find the K Closest Points to the Origin\n",
    "\n",
    "Write a function ```k_closest_points(points, k)``` that takes a list of points represented as ```(x, y)``` and an integer ```k```. The function should return the ```k``` points closest to the origin ```(0, 0)```.\n",
    "\n",
    "```py\n",
    "# Example Input\n",
    "points = [(1, 3), (-2, 2), (5, 8), (0, 1)]\n",
    "k = 2\n",
    "\n",
    "# Example Output\n",
    "[(-2, 2), (0, 1)]\n",
    "\n",
    "```"
   ]
  },
  {
   "cell_type": "code",
   "execution_count": 19,
   "metadata": {},
   "outputs": [],
   "source": []
  },
  {
   "cell_type": "code",
   "execution_count": 20,
   "metadata": {},
   "outputs": [
    {
     "data": {
      "text/plain": [
       "[(-2, 2), (0, 1)]"
      ]
     },
     "execution_count": 20,
     "metadata": {},
     "output_type": "execute_result"
    }
   ],
   "source": [
    "points = [(1, 3), (-2, 2), (5, 8), (0, 1)]\n",
    "k = 2\n",
    "\n",
    "k_closest_points(points, k)"
   ]
  },
  {
   "cell_type": "markdown",
   "metadata": {},
   "source": [
    "# Ex3: Find the Median from a Data Stream\n",
    "\n",
    "Normally, finding median of a list of numbers takes ```O(n logn)``` time. You may first sort the list with ```O(n logn)``` time, and the get the number in the middle. \n",
    "\n",
    "However, assume that we have a streaming data and we are receiving numbers continuously. And then at any moment we may want to see the median of the current numbers. We can repeat action this multiple times, and we don't want to spend every time ```O(n logn)```. Assume that we want to calculate the median every time we add a new number, then it would take <code>n * O(n log n) = O(n<sup>2</sup> logn)</code> Let's write something more efficient.\n",
    "\n",
    "Design a class ```MedianFinder``` that supports the following methods:\n",
    "\n",
    "- ```add_num(num: int):``` Adds an integer num to the data stream.\n",
    "- ```find_median():```: Returns the median of all elements in the data stream.\n",
    "\n",
    "The median is defined as:\n",
    "- The middle value if the total number of elements is odd.\n",
    "- The average of the two middle values if the total number of elements is even.\n",
    "\n",
    "Your implementation should efficiently handle adding numbers and calculating the median.\n",
    "\n",
    "Hint: You may want to use two heaps (max and min heaps).\n",
    "\n",
    "Example:\n",
    "\n",
    "```py\n",
    "mf = MedianFinder()\n",
    "mf.add_num(1)\n",
    "mf.add_num(2)\n",
    "print(mf.find_median())  # Output: 1.5\n",
    "mf.add_num(3)\n",
    "print(mf.find_median())  # Output: 2\n",
    "```"
   ]
  },
  {
   "cell_type": "code",
   "execution_count": 21,
   "metadata": {},
   "outputs": [],
   "source": []
  },
  {
   "cell_type": "code",
   "execution_count": 22,
   "metadata": {},
   "outputs": [
    {
     "name": "stdout",
     "output_type": "stream",
     "text": [
      "1.5\n",
      "2\n"
     ]
    }
   ],
   "source": [
    "mf = MedianFinder()\n",
    "mf.add_num(1)\n",
    "mf.add_num(2)\n",
    "print(mf.find_median())  # Output: 1.5\n",
    "mf.add_num(3)\n",
    "print(mf.find_median())  # Output: 2"
   ]
  }
 ],
 "metadata": {
  "kernelspec": {
   "display_name": "DSA201",
   "language": "python",
   "name": "python3"
  },
  "language_info": {
   "codemirror_mode": {
    "name": "ipython",
    "version": 3
   },
   "file_extension": ".py",
   "mimetype": "text/x-python",
   "name": "python",
   "nbconvert_exporter": "python",
   "pygments_lexer": "ipython3",
   "version": "3.12.4"
  }
 },
 "nbformat": 4,
 "nbformat_minor": 2
}
